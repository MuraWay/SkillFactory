{
  "nbformat": 4,
  "nbformat_minor": 0,
  "metadata": {
    "colab": {
      "name": "Movies_IMBD.ipynb",
      "provenance": [],
      "collapsed_sections": []
    },
    "kernelspec": {
      "display_name": "Python 3",
      "language": "python",
      "name": "python3"
    },
    "language_info": {
      "codemirror_mode": {
        "name": "ipython",
        "version": 3
      },
      "file_extension": ".py",
      "mimetype": "text/x-python",
      "name": "python",
      "nbconvert_exporter": "python",
      "pygments_lexer": "ipython3",
      "version": "3.7.4"
    }
  },
  "cells": [
    {
      "cell_type": "code",
      "metadata": {
        "_cell_guid": "b1076dfc-b9ad-4769-8c92-a6c4dae69d19",
        "_uuid": "8f2839f25d086af736a60e9eeb907d3b93b6e0e5",
        "id": "U2D2gTdJVp90"
      },
      "source": [
        "import numpy as np\n",
        "import pandas as pd\n",
        "import seaborn as sns\n",
        "import matplotlib.pyplot as plt\n",
        "from collections import Counter\n",
        "from itertools import combinations"
      ],
      "execution_count": 1,
      "outputs": []
    },
    {
      "cell_type": "code",
      "metadata": {
        "_cell_guid": "79c7e3d0-c299-4dcb-8224-4455121ee9b0",
        "_uuid": "d629ff2d2480ee46fbb7e2d37f6b5fab8052498a",
        "colab": {
          "base_uri": "https://localhost:8080/",
          "height": 298
        },
        "id": "oyGfxL3eVp9-",
        "outputId": "910961c7-6291-44e4-e0d8-f2b3c582e823"
      },
      "source": [
        "data = pd.read_csv('movie_bd_v5.csv')\n",
        "data.sample(2)"
      ],
      "execution_count": 2,
      "outputs": [
        {
          "output_type": "execute_result",
          "data": {
            "text/html": [
              "<div>\n",
              "<style scoped>\n",
              "    .dataframe tbody tr th:only-of-type {\n",
              "        vertical-align: middle;\n",
              "    }\n",
              "\n",
              "    .dataframe tbody tr th {\n",
              "        vertical-align: top;\n",
              "    }\n",
              "\n",
              "    .dataframe thead th {\n",
              "        text-align: right;\n",
              "    }\n",
              "</style>\n",
              "<table border=\"1\" class=\"dataframe\">\n",
              "  <thead>\n",
              "    <tr style=\"text-align: right;\">\n",
              "      <th></th>\n",
              "      <th>imdb_id</th>\n",
              "      <th>budget</th>\n",
              "      <th>revenue</th>\n",
              "      <th>original_title</th>\n",
              "      <th>cast</th>\n",
              "      <th>director</th>\n",
              "      <th>tagline</th>\n",
              "      <th>overview</th>\n",
              "      <th>runtime</th>\n",
              "      <th>genres</th>\n",
              "      <th>production_companies</th>\n",
              "      <th>release_date</th>\n",
              "      <th>vote_average</th>\n",
              "      <th>release_year</th>\n",
              "    </tr>\n",
              "  </thead>\n",
              "  <tbody>\n",
              "    <tr>\n",
              "      <th>1644</th>\n",
              "      <td>tt0293508</td>\n",
              "      <td>70000000</td>\n",
              "      <td>154648887</td>\n",
              "      <td>The Phantom of the Opera</td>\n",
              "      <td>Gerard Butler|Emmy Rossum|Patrick Wilson|Miran...</td>\n",
              "      <td>Joel Schumacher</td>\n",
              "      <td>The classic musical comes to the big screen fo...</td>\n",
              "      <td>Deformed since birth, a bitter man known only ...</td>\n",
              "      <td>143</td>\n",
              "      <td>Thriller|Drama|Romance</td>\n",
              "      <td>Odyssey Entertainment|Warner Bros.|Scion Films...</td>\n",
              "      <td>12/8/2004</td>\n",
              "      <td>6.8</td>\n",
              "      <td>2004</td>\n",
              "    </tr>\n",
              "    <tr>\n",
              "      <th>1236</th>\n",
              "      <td>tt1486834</td>\n",
              "      <td>11000000</td>\n",
              "      <td>7847000</td>\n",
              "      <td>What If</td>\n",
              "      <td>Daniel Radcliffe|Zoe Kazan|Rafe Spall|Megan Pa...</td>\n",
              "      <td>Michael Dowse</td>\n",
              "      <td>...being friends has its benefits?</td>\n",
              "      <td>Wallace, a medical school dropout, has been re...</td>\n",
              "      <td>93</td>\n",
              "      <td>Drama|Comedy|Romance</td>\n",
              "      <td>Fastnet Films|Caramel Film|No Trace Camping</td>\n",
              "      <td>9/7/2013</td>\n",
              "      <td>6.7</td>\n",
              "      <td>2013</td>\n",
              "    </tr>\n",
              "  </tbody>\n",
              "</table>\n",
              "</div>"
            ],
            "text/plain": [
              "        imdb_id    budget    revenue  ... release_date vote_average release_year\n",
              "1644  tt0293508  70000000  154648887  ...    12/8/2004          6.8         2004\n",
              "1236  tt1486834  11000000    7847000  ...     9/7/2013          6.7         2013\n",
              "\n",
              "[2 rows x 14 columns]"
            ]
          },
          "metadata": {
            "tags": []
          },
          "execution_count": 2
        }
      ]
    },
    {
      "cell_type": "code",
      "metadata": {
        "colab": {
          "base_uri": "https://localhost:8080/",
          "height": 297
        },
        "id": "CoYUnagMVp-C",
        "outputId": "63e217ee-c464-41f4-82cc-56e411744bed"
      },
      "source": [
        "data.describe()"
      ],
      "execution_count": 3,
      "outputs": [
        {
          "output_type": "execute_result",
          "data": {
            "text/html": [
              "<div>\n",
              "<style scoped>\n",
              "    .dataframe tbody tr th:only-of-type {\n",
              "        vertical-align: middle;\n",
              "    }\n",
              "\n",
              "    .dataframe tbody tr th {\n",
              "        vertical-align: top;\n",
              "    }\n",
              "\n",
              "    .dataframe thead th {\n",
              "        text-align: right;\n",
              "    }\n",
              "</style>\n",
              "<table border=\"1\" class=\"dataframe\">\n",
              "  <thead>\n",
              "    <tr style=\"text-align: right;\">\n",
              "      <th></th>\n",
              "      <th>budget</th>\n",
              "      <th>revenue</th>\n",
              "      <th>runtime</th>\n",
              "      <th>vote_average</th>\n",
              "      <th>release_year</th>\n",
              "    </tr>\n",
              "  </thead>\n",
              "  <tbody>\n",
              "    <tr>\n",
              "      <th>count</th>\n",
              "      <td>1.889000e+03</td>\n",
              "      <td>1.889000e+03</td>\n",
              "      <td>1889.000000</td>\n",
              "      <td>1889.000000</td>\n",
              "      <td>1889.000000</td>\n",
              "    </tr>\n",
              "    <tr>\n",
              "      <th>mean</th>\n",
              "      <td>5.431083e+07</td>\n",
              "      <td>1.553653e+08</td>\n",
              "      <td>109.658549</td>\n",
              "      <td>6.140762</td>\n",
              "      <td>2007.860773</td>\n",
              "    </tr>\n",
              "    <tr>\n",
              "      <th>std</th>\n",
              "      <td>4.858721e+07</td>\n",
              "      <td>2.146698e+08</td>\n",
              "      <td>18.017041</td>\n",
              "      <td>0.764763</td>\n",
              "      <td>4.468841</td>\n",
              "    </tr>\n",
              "    <tr>\n",
              "      <th>min</th>\n",
              "      <td>5.000000e+06</td>\n",
              "      <td>2.033165e+06</td>\n",
              "      <td>63.000000</td>\n",
              "      <td>3.300000</td>\n",
              "      <td>2000.000000</td>\n",
              "    </tr>\n",
              "    <tr>\n",
              "      <th>25%</th>\n",
              "      <td>2.000000e+07</td>\n",
              "      <td>3.456058e+07</td>\n",
              "      <td>97.000000</td>\n",
              "      <td>5.600000</td>\n",
              "      <td>2004.000000</td>\n",
              "    </tr>\n",
              "    <tr>\n",
              "      <th>50%</th>\n",
              "      <td>3.800000e+07</td>\n",
              "      <td>8.361541e+07</td>\n",
              "      <td>107.000000</td>\n",
              "      <td>6.100000</td>\n",
              "      <td>2008.000000</td>\n",
              "    </tr>\n",
              "    <tr>\n",
              "      <th>75%</th>\n",
              "      <td>7.200000e+07</td>\n",
              "      <td>1.782626e+08</td>\n",
              "      <td>120.000000</td>\n",
              "      <td>6.600000</td>\n",
              "      <td>2012.000000</td>\n",
              "    </tr>\n",
              "    <tr>\n",
              "      <th>max</th>\n",
              "      <td>3.800000e+08</td>\n",
              "      <td>2.781506e+09</td>\n",
              "      <td>214.000000</td>\n",
              "      <td>8.100000</td>\n",
              "      <td>2015.000000</td>\n",
              "    </tr>\n",
              "  </tbody>\n",
              "</table>\n",
              "</div>"
            ],
            "text/plain": [
              "             budget       revenue      runtime  vote_average  release_year\n",
              "count  1.889000e+03  1.889000e+03  1889.000000   1889.000000   1889.000000\n",
              "mean   5.431083e+07  1.553653e+08   109.658549      6.140762   2007.860773\n",
              "std    4.858721e+07  2.146698e+08    18.017041      0.764763      4.468841\n",
              "min    5.000000e+06  2.033165e+06    63.000000      3.300000   2000.000000\n",
              "25%    2.000000e+07  3.456058e+07    97.000000      5.600000   2004.000000\n",
              "50%    3.800000e+07  8.361541e+07   107.000000      6.100000   2008.000000\n",
              "75%    7.200000e+07  1.782626e+08   120.000000      6.600000   2012.000000\n",
              "max    3.800000e+08  2.781506e+09   214.000000      8.100000   2015.000000"
            ]
          },
          "metadata": {
            "tags": []
          },
          "execution_count": 3
        }
      ]
    },
    {
      "cell_type": "code",
      "metadata": {
        "colab": {
          "base_uri": "https://localhost:8080/"
        },
        "id": "9Tlan0Z3ZOj4",
        "outputId": "5e3c94d9-3674-4469-ee2f-5e5a0d834abf"
      },
      "source": [
        "data.info()"
      ],
      "execution_count": 4,
      "outputs": [
        {
          "output_type": "stream",
          "text": [
            "<class 'pandas.core.frame.DataFrame'>\n",
            "RangeIndex: 1889 entries, 0 to 1888\n",
            "Data columns (total 14 columns):\n",
            " #   Column                Non-Null Count  Dtype  \n",
            "---  ------                --------------  -----  \n",
            " 0   imdb_id               1889 non-null   object \n",
            " 1   budget                1889 non-null   int64  \n",
            " 2   revenue               1889 non-null   int64  \n",
            " 3   original_title        1889 non-null   object \n",
            " 4   cast                  1889 non-null   object \n",
            " 5   director              1889 non-null   object \n",
            " 6   tagline               1889 non-null   object \n",
            " 7   overview              1889 non-null   object \n",
            " 8   runtime               1889 non-null   int64  \n",
            " 9   genres                1889 non-null   object \n",
            " 10  production_companies  1889 non-null   object \n",
            " 11  release_date          1889 non-null   object \n",
            " 12  vote_average          1889 non-null   float64\n",
            " 13  release_year          1889 non-null   int64  \n",
            "dtypes: float64(1), int64(4), object(9)\n",
            "memory usage: 206.7+ KB\n"
          ],
          "name": "stdout"
        }
      ]
    },
    {
      "cell_type": "markdown",
      "metadata": {
        "id": "DTIt7ezGVp-G"
      },
      "source": [
        "# Предобработка"
      ]
    },
    {
      "cell_type": "code",
      "metadata": {
        "id": "jNb40DwKVp-H"
      },
      "source": [
        "answers = {} # создадим словарь для ответов\n",
        "\n",
        "# Создаём дополнительный столбец \"profit\":\n",
        "# Обоснование именно этого способа: https://suilin.ru/post/pandas_column/\n",
        "data = data.assign(profit = lambda x: x.revenue - x.budget)\n",
        "\n",
        "# Функция разделяет строки Series на слова по разделителю. Возвращает словарь\n",
        "def unnesting(df_series, delimiter='|'):\n",
        "    c = Counter()\n",
        "    for x in df_series.str.split(delimiter): \n",
        "        c += Counter(x)\n",
        "\n",
        "    return c\n",
        "\n",
        "\n",
        "#преобразуем в формат даты\n",
        "data['release_date'] = pd.to_datetime(data['release_date'])"
      ],
      "execution_count": 5,
      "outputs": []
    },
    {
      "cell_type": "code",
      "metadata": {
        "id": "weljJVvvwZ5Y",
        "colab": {
          "base_uri": "https://localhost:8080/",
          "height": 297
        },
        "outputId": "753cd73e-8cfd-4b9e-c325-91a089b395f4"
      },
      "source": [
        "data.describe()"
      ],
      "execution_count": 6,
      "outputs": [
        {
          "output_type": "execute_result",
          "data": {
            "text/html": [
              "<div>\n",
              "<style scoped>\n",
              "    .dataframe tbody tr th:only-of-type {\n",
              "        vertical-align: middle;\n",
              "    }\n",
              "\n",
              "    .dataframe tbody tr th {\n",
              "        vertical-align: top;\n",
              "    }\n",
              "\n",
              "    .dataframe thead th {\n",
              "        text-align: right;\n",
              "    }\n",
              "</style>\n",
              "<table border=\"1\" class=\"dataframe\">\n",
              "  <thead>\n",
              "    <tr style=\"text-align: right;\">\n",
              "      <th></th>\n",
              "      <th>budget</th>\n",
              "      <th>revenue</th>\n",
              "      <th>runtime</th>\n",
              "      <th>vote_average</th>\n",
              "      <th>release_year</th>\n",
              "      <th>profit</th>\n",
              "    </tr>\n",
              "  </thead>\n",
              "  <tbody>\n",
              "    <tr>\n",
              "      <th>count</th>\n",
              "      <td>1.889000e+03</td>\n",
              "      <td>1.889000e+03</td>\n",
              "      <td>1889.000000</td>\n",
              "      <td>1889.000000</td>\n",
              "      <td>1889.000000</td>\n",
              "      <td>1.889000e+03</td>\n",
              "    </tr>\n",
              "    <tr>\n",
              "      <th>mean</th>\n",
              "      <td>5.431083e+07</td>\n",
              "      <td>1.553653e+08</td>\n",
              "      <td>109.658549</td>\n",
              "      <td>6.140762</td>\n",
              "      <td>2007.860773</td>\n",
              "      <td>1.010545e+08</td>\n",
              "    </tr>\n",
              "    <tr>\n",
              "      <th>std</th>\n",
              "      <td>4.858721e+07</td>\n",
              "      <td>2.146698e+08</td>\n",
              "      <td>18.017041</td>\n",
              "      <td>0.764763</td>\n",
              "      <td>4.468841</td>\n",
              "      <td>1.830733e+08</td>\n",
              "    </tr>\n",
              "    <tr>\n",
              "      <th>min</th>\n",
              "      <td>5.000000e+06</td>\n",
              "      <td>2.033165e+06</td>\n",
              "      <td>63.000000</td>\n",
              "      <td>3.300000</td>\n",
              "      <td>2000.000000</td>\n",
              "      <td>-1.657101e+08</td>\n",
              "    </tr>\n",
              "    <tr>\n",
              "      <th>25%</th>\n",
              "      <td>2.000000e+07</td>\n",
              "      <td>3.456058e+07</td>\n",
              "      <td>97.000000</td>\n",
              "      <td>5.600000</td>\n",
              "      <td>2004.000000</td>\n",
              "      <td>5.000000e+06</td>\n",
              "    </tr>\n",
              "    <tr>\n",
              "      <th>50%</th>\n",
              "      <td>3.800000e+07</td>\n",
              "      <td>8.361541e+07</td>\n",
              "      <td>107.000000</td>\n",
              "      <td>6.100000</td>\n",
              "      <td>2008.000000</td>\n",
              "      <td>4.400041e+07</td>\n",
              "    </tr>\n",
              "    <tr>\n",
              "      <th>75%</th>\n",
              "      <td>7.200000e+07</td>\n",
              "      <td>1.782626e+08</td>\n",
              "      <td>120.000000</td>\n",
              "      <td>6.600000</td>\n",
              "      <td>2012.000000</td>\n",
              "      <td>1.201842e+08</td>\n",
              "    </tr>\n",
              "    <tr>\n",
              "      <th>max</th>\n",
              "      <td>3.800000e+08</td>\n",
              "      <td>2.781506e+09</td>\n",
              "      <td>214.000000</td>\n",
              "      <td>8.100000</td>\n",
              "      <td>2015.000000</td>\n",
              "      <td>2.544506e+09</td>\n",
              "    </tr>\n",
              "  </tbody>\n",
              "</table>\n",
              "</div>"
            ],
            "text/plain": [
              "             budget       revenue  ...  release_year        profit\n",
              "count  1.889000e+03  1.889000e+03  ...   1889.000000  1.889000e+03\n",
              "mean   5.431083e+07  1.553653e+08  ...   2007.860773  1.010545e+08\n",
              "std    4.858721e+07  2.146698e+08  ...      4.468841  1.830733e+08\n",
              "min    5.000000e+06  2.033165e+06  ...   2000.000000 -1.657101e+08\n",
              "25%    2.000000e+07  3.456058e+07  ...   2004.000000  5.000000e+06\n",
              "50%    3.800000e+07  8.361541e+07  ...   2008.000000  4.400041e+07\n",
              "75%    7.200000e+07  1.782626e+08  ...   2012.000000  1.201842e+08\n",
              "max    3.800000e+08  2.781506e+09  ...   2015.000000  2.544506e+09\n",
              "\n",
              "[8 rows x 6 columns]"
            ]
          },
          "metadata": {
            "tags": []
          },
          "execution_count": 6
        }
      ]
    },
    {
      "cell_type": "markdown",
      "metadata": {
        "id": "YxZaH-nPVp-L"
      },
      "source": [
        "# 1. У какого фильма из списка самый большой бюджет?"
      ]
    },
    {
      "cell_type": "markdown",
      "metadata": {
        "id": "Nd-G5gX6Vp-M"
      },
      "source": [
        "Использовать варианты ответов в коде решения запрещено.    \n",
        "Вы думаете и в жизни у вас будут варианты ответов?)"
      ]
    },
    {
      "cell_type": "code",
      "metadata": {
        "id": "uVnXAY5RVp-O"
      },
      "source": [
        "answers['1'] = 'Pirates of the Caribbean: On Stranger Tides' # +"
      ],
      "execution_count": 7,
      "outputs": []
    },
    {
      "cell_type": "code",
      "metadata": {
        "colab": {
          "base_uri": "https://localhost:8080/",
          "height": 35
        },
        "id": "dZwb3m28Vp-S",
        "outputId": "02f57190-1a7f-44d6-d416-bb2489518a6e"
      },
      "source": [
        "data['original_title'][data['budget'] == data['budget'].max()].iloc[0]"
      ],
      "execution_count": 8,
      "outputs": [
        {
          "output_type": "execute_result",
          "data": {
            "application/vnd.google.colaboratory.intrinsic+json": {
              "type": "string"
            },
            "text/plain": [
              "'Pirates of the Caribbean: On Stranger Tides'"
            ]
          },
          "metadata": {
            "tags": []
          },
          "execution_count": 8
        }
      ]
    },
    {
      "cell_type": "markdown",
      "metadata": {
        "id": "K7L3nbRXVp-X"
      },
      "source": [
        "ВАРИАНТ 2"
      ]
    },
    {
      "cell_type": "code",
      "metadata": {
        "colab": {
          "base_uri": "https://localhost:8080/",
          "height": 35
        },
        "id": "OGaoQI7rVp-X",
        "outputId": "e773c92c-93f6-4afe-a15b-b07da0572c00"
      },
      "source": [
        "data[data.budget == data.budget.max()].iloc[0]['original_title']"
      ],
      "execution_count": 9,
      "outputs": [
        {
          "output_type": "execute_result",
          "data": {
            "application/vnd.google.colaboratory.intrinsic+json": {
              "type": "string"
            },
            "text/plain": [
              "'Pirates of the Caribbean: On Stranger Tides'"
            ]
          },
          "metadata": {
            "tags": []
          },
          "execution_count": 9
        }
      ]
    },
    {
      "cell_type": "markdown",
      "metadata": {
        "id": "Hgh0GI7r_6Ny"
      },
      "source": [
        "ВАРИАНТ 3"
      ]
    },
    {
      "cell_type": "code",
      "metadata": {
        "colab": {
          "base_uri": "https://localhost:8080/",
          "height": 35
        },
        "id": "1yE2tUi4_9MP",
        "outputId": "998432d3-37e5-4094-e589-3514842ba7f5"
      },
      "source": [
        "data[data.budget == data.budget.max()].iloc[0][3]"
      ],
      "execution_count": 10,
      "outputs": [
        {
          "output_type": "execute_result",
          "data": {
            "application/vnd.google.colaboratory.intrinsic+json": {
              "type": "string"
            },
            "text/plain": [
              "'Pirates of the Caribbean: On Stranger Tides'"
            ]
          },
          "metadata": {
            "tags": []
          },
          "execution_count": 10
        }
      ]
    },
    {
      "cell_type": "markdown",
      "metadata": {
        "id": "3g9Ihj8WPjiQ"
      },
      "source": [
        "ВАРИАНТ 4"
      ]
    },
    {
      "cell_type": "code",
      "metadata": {
        "colab": {
          "base_uri": "https://localhost:8080/",
          "height": 35
        },
        "id": "IKO0skCIPmTA",
        "outputId": "3c1e38f1-f38a-4f25-880f-28fe913cdd64"
      },
      "source": [
        "data.loc[data.budget.idxmax(),'original_title']"
      ],
      "execution_count": 11,
      "outputs": [
        {
          "output_type": "execute_result",
          "data": {
            "application/vnd.google.colaboratory.intrinsic+json": {
              "type": "string"
            },
            "text/plain": [
              "'Pirates of the Caribbean: On Stranger Tides'"
            ]
          },
          "metadata": {
            "tags": []
          },
          "execution_count": 11
        }
      ]
    },
    {
      "cell_type": "markdown",
      "metadata": {
        "id": "FNRbbI3vVp-c"
      },
      "source": [
        "# 2. Какой из фильмов самый длительный (в минутах)?"
      ]
    },
    {
      "cell_type": "code",
      "metadata": {
        "id": "vHAoEXNTVp-d"
      },
      "source": [
        "answers['2'] = 'Gods and Generals' # +"
      ],
      "execution_count": 12,
      "outputs": []
    },
    {
      "cell_type": "code",
      "metadata": {
        "colab": {
          "base_uri": "https://localhost:8080/",
          "height": 35
        },
        "id": "ot-VX2XrVp-g",
        "outputId": "bd67ebc0-c5da-416a-fc11-97df3ddc2c65"
      },
      "source": [
        "data['original_title'][data['runtime'] == data['runtime'].max()].iloc[0]"
      ],
      "execution_count": 13,
      "outputs": [
        {
          "output_type": "execute_result",
          "data": {
            "application/vnd.google.colaboratory.intrinsic+json": {
              "type": "string"
            },
            "text/plain": [
              "'Gods and Generals'"
            ]
          },
          "metadata": {
            "tags": []
          },
          "execution_count": 13
        }
      ]
    },
    {
      "cell_type": "markdown",
      "metadata": {
        "id": "Vw5UPluTcQzL"
      },
      "source": [
        "ВАРИАНТ 2"
      ]
    },
    {
      "cell_type": "code",
      "metadata": {
        "colab": {
          "base_uri": "https://localhost:8080/",
          "height": 35
        },
        "id": "S7_lJGegabPA",
        "outputId": "a383cdb1-ca14-486f-9b1f-cf26e7af614e"
      },
      "source": [
        "data[data.runtime == data.runtime.max()].iloc[0][3]"
      ],
      "execution_count": 14,
      "outputs": [
        {
          "output_type": "execute_result",
          "data": {
            "application/vnd.google.colaboratory.intrinsic+json": {
              "type": "string"
            },
            "text/plain": [
              "'Gods and Generals'"
            ]
          },
          "metadata": {
            "tags": []
          },
          "execution_count": 14
        }
      ]
    },
    {
      "cell_type": "markdown",
      "metadata": {
        "id": "pJe7NQLlQHRW"
      },
      "source": [
        "ВАРИАНТ 3"
      ]
    },
    {
      "cell_type": "code",
      "metadata": {
        "colab": {
          "base_uri": "https://localhost:8080/",
          "height": 35
        },
        "id": "IU-GFoUiQKpY",
        "outputId": "2e6b6fdb-dbd5-43d3-d271-5cc98adaf4a6"
      },
      "source": [
        "data.loc[data['runtime'].idxmax()][3]"
      ],
      "execution_count": 15,
      "outputs": [
        {
          "output_type": "execute_result",
          "data": {
            "application/vnd.google.colaboratory.intrinsic+json": {
              "type": "string"
            },
            "text/plain": [
              "'Gods and Generals'"
            ]
          },
          "metadata": {
            "tags": []
          },
          "execution_count": 15
        }
      ]
    },
    {
      "cell_type": "markdown",
      "metadata": {
        "id": "bapLlpW8Vp-k"
      },
      "source": [
        "# 3. Какой из фильмов самый короткий (в минутах)?\n",
        "\n",
        "\n",
        "\n"
      ]
    },
    {
      "cell_type": "code",
      "metadata": {
        "id": "YBxaSHuAVp-l"
      },
      "source": [
        "answers['3'] = 'Winnie the Pooh' # +"
      ],
      "execution_count": 16,
      "outputs": []
    },
    {
      "cell_type": "code",
      "metadata": {
        "colab": {
          "base_uri": "https://localhost:8080/",
          "height": 35
        },
        "id": "hPsWMpiTdD88",
        "outputId": "300851a0-f9aa-46a3-cc4c-15afa5924ea8"
      },
      "source": [
        "data['original_title'][data['runtime'] == data['runtime'].min()].iloc[0]"
      ],
      "execution_count": 17,
      "outputs": [
        {
          "output_type": "execute_result",
          "data": {
            "application/vnd.google.colaboratory.intrinsic+json": {
              "type": "string"
            },
            "text/plain": [
              "'Winnie the Pooh'"
            ]
          },
          "metadata": {
            "tags": []
          },
          "execution_count": 17
        }
      ]
    },
    {
      "cell_type": "markdown",
      "metadata": {
        "id": "QsrKFsoSc9VS"
      },
      "source": [
        "ВАРИАНТ 2"
      ]
    },
    {
      "cell_type": "code",
      "metadata": {
        "colab": {
          "base_uri": "https://localhost:8080/",
          "height": 35
        },
        "id": "AGDl1oZ1TvCl",
        "outputId": "11b54554-d524-4056-ea5c-8478480aa6da"
      },
      "source": [
        "data[data.runtime == data.runtime.min()].iloc[0][3]"
      ],
      "execution_count": 18,
      "outputs": [
        {
          "output_type": "execute_result",
          "data": {
            "application/vnd.google.colaboratory.intrinsic+json": {
              "type": "string"
            },
            "text/plain": [
              "'Winnie the Pooh'"
            ]
          },
          "metadata": {
            "tags": []
          },
          "execution_count": 18
        }
      ]
    },
    {
      "cell_type": "markdown",
      "metadata": {
        "id": "69br5b2wQ2eq"
      },
      "source": [
        "ВАРИАНТ 3"
      ]
    },
    {
      "cell_type": "code",
      "metadata": {
        "colab": {
          "base_uri": "https://localhost:8080/",
          "height": 35
        },
        "id": "s7wZQT-7Q69Q",
        "outputId": "698b9702-3f9e-44b2-b41a-c600801184d6"
      },
      "source": [
        "data.loc[data.runtime.idxmin()][3]"
      ],
      "execution_count": 19,
      "outputs": [
        {
          "output_type": "execute_result",
          "data": {
            "application/vnd.google.colaboratory.intrinsic+json": {
              "type": "string"
            },
            "text/plain": [
              "'Winnie the Pooh'"
            ]
          },
          "metadata": {
            "tags": []
          },
          "execution_count": 19
        }
      ]
    },
    {
      "cell_type": "markdown",
      "metadata": {
        "id": "TfQbxbfNVp-p"
      },
      "source": [
        "# 4. Какова средняя длительность фильмов?\n"
      ]
    },
    {
      "cell_type": "code",
      "metadata": {
        "id": "5K6dKZYVVp-q"
      },
      "source": [
        "answers['4'] = 110 # +"
      ],
      "execution_count": 20,
      "outputs": []
    },
    {
      "cell_type": "code",
      "metadata": {
        "colab": {
          "base_uri": "https://localhost:8080/"
        },
        "id": "WuOaKeqDiVuJ",
        "outputId": "63bbcad7-51a5-4aa1-f0d1-bb284c88a737"
      },
      "source": [
        "int(round(data['runtime'].mean()))"
      ],
      "execution_count": 21,
      "outputs": [
        {
          "output_type": "execute_result",
          "data": {
            "text/plain": [
              "110"
            ]
          },
          "metadata": {
            "tags": []
          },
          "execution_count": 21
        }
      ]
    },
    {
      "cell_type": "markdown",
      "metadata": {
        "id": "Bi4T9qRjlroa"
      },
      "source": [
        "ВАРИАНТ 2"
      ]
    },
    {
      "cell_type": "code",
      "metadata": {
        "colab": {
          "base_uri": "https://localhost:8080/"
        },
        "id": "J6de784_lmiY",
        "outputId": "d8c9dbf3-0bb2-40db-ccc8-91e35e5e5918"
      },
      "source": [
        "round(data.runtime.describe()[1])"
      ],
      "execution_count": 22,
      "outputs": [
        {
          "output_type": "execute_result",
          "data": {
            "text/plain": [
              "110"
            ]
          },
          "metadata": {
            "tags": []
          },
          "execution_count": 22
        }
      ]
    },
    {
      "cell_type": "markdown",
      "metadata": {
        "id": "vkPlMGNyDhbT"
      },
      "source": [
        "ВАРИАНТ 3"
      ]
    },
    {
      "cell_type": "code",
      "metadata": {
        "colab": {
          "base_uri": "https://localhost:8080/"
        },
        "id": "tvS-a2w0DkZW",
        "outputId": "2f7dd7ab-6bbb-408e-d8de-c28cf9b141b4"
      },
      "source": [
        "round(data['runtime'].describe()['mean'])"
      ],
      "execution_count": 23,
      "outputs": [
        {
          "output_type": "execute_result",
          "data": {
            "text/plain": [
              "110"
            ]
          },
          "metadata": {
            "tags": []
          },
          "execution_count": 23
        }
      ]
    },
    {
      "cell_type": "markdown",
      "metadata": {
        "id": "r5TvbnT_Vp-u"
      },
      "source": [
        "# 5. Каково медианное значение длительности фильмов? "
      ]
    },
    {
      "cell_type": "code",
      "metadata": {
        "id": "iBROplKnVp-v"
      },
      "source": [
        "answers['5'] = 107 # +"
      ],
      "execution_count": 24,
      "outputs": []
    },
    {
      "cell_type": "code",
      "metadata": {
        "colab": {
          "base_uri": "https://localhost:8080/"
        },
        "id": "oFLvisjCn6qs",
        "outputId": "7cf323de-f3bf-4d6b-8bd4-01558d45ea30"
      },
      "source": [
        "int(round(data['runtime'].median()))"
      ],
      "execution_count": 25,
      "outputs": [
        {
          "output_type": "execute_result",
          "data": {
            "text/plain": [
              "107"
            ]
          },
          "metadata": {
            "tags": []
          },
          "execution_count": 25
        }
      ]
    },
    {
      "cell_type": "markdown",
      "metadata": {
        "id": "ZG0g8bAaoAkO"
      },
      "source": [
        "ВАРИАНТ 2"
      ]
    },
    {
      "cell_type": "code",
      "metadata": {
        "colab": {
          "base_uri": "https://localhost:8080/"
        },
        "id": "lNfdRuTFn_mb",
        "outputId": "54e71fee-5ae0-4b7b-ef9e-28f7d837a694"
      },
      "source": [
        "data.runtime.describe()['50%']"
      ],
      "execution_count": 26,
      "outputs": [
        {
          "output_type": "execute_result",
          "data": {
            "text/plain": [
              "107.0"
            ]
          },
          "metadata": {
            "tags": []
          },
          "execution_count": 26
        }
      ]
    },
    {
      "cell_type": "markdown",
      "metadata": {
        "id": "39P-deDSVp-y"
      },
      "source": [
        "# 6. Какой самый прибыльный фильм?\n",
        "#### Внимание! Здесь и далее под «прибылью» или «убытками» понимается разность между сборами и бюджетом фильма. (прибыль = сборы - бюджет) в нашем датасете это будет (profit = revenue - budget) "
      ]
    },
    {
      "cell_type": "code",
      "metadata": {
        "id": "jI8kuHEY5QhL"
      },
      "source": [
        "answers['6'] = 'Avatar' # +"
      ],
      "execution_count": 27,
      "outputs": []
    },
    {
      "cell_type": "code",
      "metadata": {
        "colab": {
          "base_uri": "https://localhost:8080/",
          "height": 35
        },
        "id": "UYZh4T9WVp-y",
        "outputId": "c27e356b-534d-4336-ee98-141e8479936c"
      },
      "source": [
        "data['original_title'][data['profit'] == data['profit'].max()].iloc[0]"
      ],
      "execution_count": 28,
      "outputs": [
        {
          "output_type": "execute_result",
          "data": {
            "application/vnd.google.colaboratory.intrinsic+json": {
              "type": "string"
            },
            "text/plain": [
              "'Avatar'"
            ]
          },
          "metadata": {
            "tags": []
          },
          "execution_count": 28
        }
      ]
    },
    {
      "cell_type": "markdown",
      "metadata": {
        "id": "1SVj0CUqGQ8b"
      },
      "source": [
        "ВАРИАНТ 2"
      ]
    },
    {
      "cell_type": "code",
      "metadata": {
        "colab": {
          "base_uri": "https://localhost:8080/",
          "height": 35
        },
        "id": "y7w1-NcCGWGh",
        "outputId": "7eb8ad81-ebef-4dd8-85e9-3745047d40c0"
      },
      "source": [
        "data.loc[data.profit.idxmax(),'original_title']"
      ],
      "execution_count": 29,
      "outputs": [
        {
          "output_type": "execute_result",
          "data": {
            "application/vnd.google.colaboratory.intrinsic+json": {
              "type": "string"
            },
            "text/plain": [
              "'Avatar'"
            ]
          },
          "metadata": {
            "tags": []
          },
          "execution_count": 29
        }
      ]
    },
    {
      "cell_type": "markdown",
      "metadata": {
        "id": "M99JmIX4Vp-2"
      },
      "source": [
        "# 7. Какой фильм самый убыточный? "
      ]
    },
    {
      "cell_type": "code",
      "metadata": {
        "id": "w-D2m4XPVp-3"
      },
      "source": [
        "answers['7'] = 'The Lone Ranger' # +"
      ],
      "execution_count": 30,
      "outputs": []
    },
    {
      "cell_type": "code",
      "metadata": {
        "colab": {
          "base_uri": "https://localhost:8080/",
          "height": 35
        },
        "id": "FoK7MVEU7zbI",
        "outputId": "977b2b8a-7ed3-41fc-e79c-e989fbdc6018"
      },
      "source": [
        "data['original_title'][data['profit'] == data['profit'].min()].iloc[0]"
      ],
      "execution_count": 31,
      "outputs": [
        {
          "output_type": "execute_result",
          "data": {
            "application/vnd.google.colaboratory.intrinsic+json": {
              "type": "string"
            },
            "text/plain": [
              "'The Lone Ranger'"
            ]
          },
          "metadata": {
            "tags": []
          },
          "execution_count": 31
        }
      ]
    },
    {
      "cell_type": "markdown",
      "metadata": {
        "id": "AtJYge1n8H8e"
      },
      "source": [
        "ВАРИАНТ 2"
      ]
    },
    {
      "cell_type": "code",
      "metadata": {
        "colab": {
          "base_uri": "https://localhost:8080/",
          "height": 35
        },
        "id": "7dItZ6gf8LFG",
        "outputId": "d0e9d6f7-a5ff-4157-a2d2-90a028aeee4b"
      },
      "source": [
        "data.loc[data.profit.idxmin()][3]"
      ],
      "execution_count": 32,
      "outputs": [
        {
          "output_type": "execute_result",
          "data": {
            "application/vnd.google.colaboratory.intrinsic+json": {
              "type": "string"
            },
            "text/plain": [
              "'The Lone Ranger'"
            ]
          },
          "metadata": {
            "tags": []
          },
          "execution_count": 32
        }
      ]
    },
    {
      "cell_type": "markdown",
      "metadata": {
        "id": "wEOM5ERVVp-6"
      },
      "source": [
        "# 8. У скольких фильмов из датасета объем сборов оказался выше бюджета?"
      ]
    },
    {
      "cell_type": "code",
      "metadata": {
        "id": "b8pmm1ehX67Y"
      },
      "source": [
        "answers['8'] = 1478  # +"
      ],
      "execution_count": 33,
      "outputs": []
    },
    {
      "cell_type": "code",
      "metadata": {
        "colab": {
          "base_uri": "https://localhost:8080/"
        },
        "id": "y00_7HD6Vp-7",
        "outputId": "469565f3-7950-4841-de60-44faa0f18d79"
      },
      "source": [
        "data['imdb_id'][data['revenue'] > data['budget']].count()"
      ],
      "execution_count": 34,
      "outputs": [
        {
          "output_type": "execute_result",
          "data": {
            "text/plain": [
              "1478"
            ]
          },
          "metadata": {
            "tags": []
          },
          "execution_count": 34
        }
      ]
    },
    {
      "cell_type": "markdown",
      "metadata": {
        "id": "WMBU7bPzYUT_"
      },
      "source": [
        "ВАРИАНТ 2"
      ]
    },
    {
      "cell_type": "code",
      "metadata": {
        "colab": {
          "base_uri": "https://localhost:8080/"
        },
        "id": "-3-STYkrYBrX",
        "outputId": "021f64d7-7924-453e-934e-02d118014b59"
      },
      "source": [
        "data[data.revenue > data.budget].count()[0]"
      ],
      "execution_count": 35,
      "outputs": [
        {
          "output_type": "execute_result",
          "data": {
            "text/plain": [
              "1478"
            ]
          },
          "metadata": {
            "tags": []
          },
          "execution_count": 35
        }
      ]
    },
    {
      "cell_type": "markdown",
      "metadata": {
        "id": "xhpspA9KVp_A"
      },
      "source": [
        "# 9. Какой фильм оказался самым кассовым в 2008 году?"
      ]
    },
    {
      "cell_type": "code",
      "metadata": {
        "id": "MoUyQr9RVp_B"
      },
      "source": [
        "answers['9'] = 'The Dark Knight' # +"
      ],
      "execution_count": 36,
      "outputs": []
    },
    {
      "cell_type": "code",
      "metadata": {
        "colab": {
          "base_uri": "https://localhost:8080/",
          "height": 35
        },
        "id": "SL9t2IN_a73K",
        "outputId": "f9716a1f-8255-44b0-9602-56bebe54b424"
      },
      "source": [
        "df = data[data['release_year'] == 2008].copy()\r\n",
        "df.loc[df.revenue.idxmax(),'original_title']"
      ],
      "execution_count": 37,
      "outputs": [
        {
          "output_type": "execute_result",
          "data": {
            "application/vnd.google.colaboratory.intrinsic+json": {
              "type": "string"
            },
            "text/plain": [
              "'The Dark Knight'"
            ]
          },
          "metadata": {
            "tags": []
          },
          "execution_count": 37
        }
      ]
    },
    {
      "cell_type": "markdown",
      "metadata": {
        "id": "Zi4hDKidVp_F"
      },
      "source": [
        "# 10. Самый убыточный фильм за период с 2012 по 2014 г. (включительно)?\n"
      ]
    },
    {
      "cell_type": "code",
      "metadata": {
        "id": "RPqwOJSlpKbI"
      },
      "source": [
        "answers['10'] = 'The Lone Ranger'  # +"
      ],
      "execution_count": 38,
      "outputs": []
    },
    {
      "cell_type": "code",
      "metadata": {
        "colab": {
          "base_uri": "https://localhost:8080/",
          "height": 35
        },
        "id": "XqyRmufJVp_F",
        "outputId": "10917063-9241-427c-acf5-603bed9e659d"
      },
      "source": [
        "df = data[(data['release_year'] > 2011) & (data['release_year'] < 2015)].copy()\r\n",
        "df.loc[df.profit.idxmin(),'original_title']"
      ],
      "execution_count": 39,
      "outputs": [
        {
          "output_type": "execute_result",
          "data": {
            "application/vnd.google.colaboratory.intrinsic+json": {
              "type": "string"
            },
            "text/plain": [
              "'The Lone Ranger'"
            ]
          },
          "metadata": {
            "tags": []
          },
          "execution_count": 39
        }
      ]
    },
    {
      "cell_type": "markdown",
      "metadata": {
        "id": "EA7Sa9dkVp_I"
      },
      "source": [
        "# 11. Какого жанра фильмов больше всего?"
      ]
    },
    {
      "cell_type": "code",
      "metadata": {
        "id": "zsJAwJ8QVp_J"
      },
      "source": [
        "answers['11'] ='Drama'  # +"
      ],
      "execution_count": 40,
      "outputs": []
    },
    {
      "cell_type": "code",
      "metadata": {
        "colab": {
          "base_uri": "https://localhost:8080/",
          "height": 35
        },
        "id": "_ASEmB9vs78O",
        "outputId": "5edb4b6a-acb0-43ac-8536-b435c3717e72"
      },
      "source": [
        "df = data['genres'].str.split('|').copy()\r\n",
        "df.explode().value_counts().index[0]"
      ],
      "execution_count": 41,
      "outputs": [
        {
          "output_type": "execute_result",
          "data": {
            "application/vnd.google.colaboratory.intrinsic+json": {
              "type": "string"
            },
            "text/plain": [
              "'Drama'"
            ]
          },
          "metadata": {
            "tags": []
          },
          "execution_count": 41
        }
      ]
    },
    {
      "cell_type": "markdown",
      "metadata": {
        "id": "di-vSuB87oNJ"
      },
      "source": [
        "ВАРИАНТ 2"
      ]
    },
    {
      "cell_type": "code",
      "metadata": {
        "colab": {
          "base_uri": "https://localhost:8080/",
          "height": 35
        },
        "id": "gAVUhPln7PBO",
        "outputId": "ba58c3d2-5851-490e-d237-a64b0b987b41"
      },
      "source": [
        "data.genres.str.split('|').explode().value_counts().index[0]"
      ],
      "execution_count": 42,
      "outputs": [
        {
          "output_type": "execute_result",
          "data": {
            "application/vnd.google.colaboratory.intrinsic+json": {
              "type": "string"
            },
            "text/plain": [
              "'Drama'"
            ]
          },
          "metadata": {
            "tags": []
          },
          "execution_count": 42
        }
      ]
    },
    {
      "cell_type": "markdown",
      "metadata": {
        "id": "Ax6g2C8SVp_M"
      },
      "source": [
        "ВАРИАНТ 3\r\n",
        "\r\n",
        "\r\n",
        "---\r\n",
        "\r\n",
        "\r\n",
        "C использованием внешней функции ```unnesting()```\r\n",
        "\r\n"
      ]
    },
    {
      "cell_type": "code",
      "metadata": {
        "colab": {
          "base_uri": "https://localhost:8080/",
          "height": 35
        },
        "id": "otO3SbrSVp_N",
        "outputId": "74850c78-5c56-4af6-f85f-ee298c1a4a0f"
      },
      "source": [
        "unnesting(data['genres']).most_common(1)[0][0]"
      ],
      "execution_count": 43,
      "outputs": [
        {
          "output_type": "execute_result",
          "data": {
            "application/vnd.google.colaboratory.intrinsic+json": {
              "type": "string"
            },
            "text/plain": [
              "'Drama'"
            ]
          },
          "metadata": {
            "tags": []
          },
          "execution_count": 43
        }
      ]
    },
    {
      "cell_type": "markdown",
      "metadata": {
        "id": "T9_bPWpkVp_Q"
      },
      "source": [
        "# 12. Фильмы какого жанра чаще всего становятся прибыльными? "
      ]
    },
    {
      "cell_type": "code",
      "metadata": {
        "id": "Tmt8MaK1Vp_R"
      },
      "source": [
        "answers['12'] = 'Drama'  # +"
      ],
      "execution_count": 44,
      "outputs": []
    },
    {
      "cell_type": "code",
      "metadata": {
        "colab": {
          "base_uri": "https://localhost:8080/",
          "height": 35
        },
        "id": "EQuzB7wwnF50",
        "outputId": "df8ff735-3d04-409e-b1ea-c417f01c960e"
      },
      "source": [
        "data[data['profit'] > 0].genres.str.split('|').explode().value_counts().index[0]"
      ],
      "execution_count": 45,
      "outputs": [
        {
          "output_type": "execute_result",
          "data": {
            "application/vnd.google.colaboratory.intrinsic+json": {
              "type": "string"
            },
            "text/plain": [
              "'Drama'"
            ]
          },
          "metadata": {
            "tags": []
          },
          "execution_count": 45
        }
      ]
    },
    {
      "cell_type": "markdown",
      "metadata": {
        "id": "2VZo85FrVKxl"
      },
      "source": [
        "ВАРИАНТ 2"
      ]
    },
    {
      "cell_type": "code",
      "metadata": {
        "colab": {
          "base_uri": "https://localhost:8080/",
          "height": 35
        },
        "id": "I0wpEiNwVNUo",
        "outputId": "2c62bc19-8400-4e23-86cc-a4ad6e190a40"
      },
      "source": [
        "df = data[data['profit'] > 0].copy()\r\n",
        "unnesting(df['genres']).most_common(1)[0][0]"
      ],
      "execution_count": 46,
      "outputs": [
        {
          "output_type": "execute_result",
          "data": {
            "application/vnd.google.colaboratory.intrinsic+json": {
              "type": "string"
            },
            "text/plain": [
              "'Drama'"
            ]
          },
          "metadata": {
            "tags": []
          },
          "execution_count": 46
        }
      ]
    },
    {
      "cell_type": "markdown",
      "metadata": {
        "id": "0F23bgsDVp_U"
      },
      "source": [
        "# 13. У какого режиссера самые большие суммарные кассовые сборы?"
      ]
    },
    {
      "cell_type": "code",
      "metadata": {
        "id": "K6Z3J8ygVp_X"
      },
      "source": [
        "answers['13'] = 'Peter Jackson'  # +"
      ],
      "execution_count": 47,
      "outputs": []
    },
    {
      "cell_type": "code",
      "metadata": {
        "colab": {
          "base_uri": "https://localhost:8080/",
          "height": 35
        },
        "id": "kYQOSMW_W5yu",
        "outputId": "7a3b99a3-4fc3-4940-c3ac-037dc325d8d4"
      },
      "source": [
        "df = data.copy()\r\n",
        "df['director'] = df['director'].str.split('|')\r\n",
        "df = df[['director','revenue']].explode('director')\r\n",
        "df.groupby('director').agg({'revenue':'sum'}).sort_values('revenue', ascending=False).index[0]"
      ],
      "execution_count": 48,
      "outputs": [
        {
          "output_type": "execute_result",
          "data": {
            "application/vnd.google.colaboratory.intrinsic+json": {
              "type": "string"
            },
            "text/plain": [
              "'Peter Jackson'"
            ]
          },
          "metadata": {
            "tags": []
          },
          "execution_count": 48
        }
      ]
    },
    {
      "cell_type": "markdown",
      "metadata": {
        "id": "YBiifJESvMGt"
      },
      "source": [
        "ВАРИАНТ 2"
      ]
    },
    {
      "cell_type": "code",
      "metadata": {
        "colab": {
          "base_uri": "https://localhost:8080/",
          "height": 35
        },
        "id": "YuDCjMkWvPeT",
        "outputId": "027342f8-6c60-43a6-c2d0-fc392115c7c2"
      },
      "source": [
        "directors = unnesting(data['director'])\r\n",
        "for director in directors:\r\n",
        "    directors[director] = data['revenue'][data['director']\r\n",
        "                                    .map(lambda x: True if director in x else False)].sum()\r\n",
        "directors.most_common()[0][0]"
      ],
      "execution_count": 49,
      "outputs": [
        {
          "output_type": "execute_result",
          "data": {
            "application/vnd.google.colaboratory.intrinsic+json": {
              "type": "string"
            },
            "text/plain": [
              "'Peter Jackson'"
            ]
          },
          "metadata": {
            "tags": []
          },
          "execution_count": 49
        }
      ]
    },
    {
      "cell_type": "markdown",
      "metadata": {
        "id": "PsYC9FgRVp_a"
      },
      "source": [
        "# 14. Какой режисер снял больше всего фильмов в стиле Action?"
      ]
    },
    {
      "cell_type": "code",
      "metadata": {
        "id": "wd2M-wHeVp_b"
      },
      "source": [
        "answers['14'] = 'Robert Rodriguez' # +"
      ],
      "execution_count": 50,
      "outputs": []
    },
    {
      "cell_type": "code",
      "metadata": {
        "colab": {
          "base_uri": "https://localhost:8080/",
          "height": 35
        },
        "id": "tUWTlTfPuN3r",
        "outputId": "2c34fd96-372e-4d3c-816f-c99de00408c0"
      },
      "source": [
        "df = data[data['genres'].str.contains('Action')].copy()\r\n",
        "df['director'] = df['director'].str.split('|')\r\n",
        "df.explode('director').director.value_counts().index[0]"
      ],
      "execution_count": 51,
      "outputs": [
        {
          "output_type": "execute_result",
          "data": {
            "application/vnd.google.colaboratory.intrinsic+json": {
              "type": "string"
            },
            "text/plain": [
              "'Robert Rodriguez'"
            ]
          },
          "metadata": {
            "tags": []
          },
          "execution_count": 51
        }
      ]
    },
    {
      "cell_type": "markdown",
      "metadata": {
        "id": "WkXXmvGD4kcj"
      },
      "source": [
        "ВАРИАНТ 2"
      ]
    },
    {
      "cell_type": "code",
      "metadata": {
        "colab": {
          "base_uri": "https://localhost:8080/",
          "height": 35
        },
        "id": "ml7kWrys5QFF",
        "outputId": "138c4d18-32f6-468d-a9c6-b6d56f3c964f"
      },
      "source": [
        "df = data[data['genres'].str.contains('Action')].copy()\r\n",
        "unnesting(df['director']).most_common()[0][0]"
      ],
      "execution_count": 52,
      "outputs": [
        {
          "output_type": "execute_result",
          "data": {
            "application/vnd.google.colaboratory.intrinsic+json": {
              "type": "string"
            },
            "text/plain": [
              "'Robert Rodriguez'"
            ]
          },
          "metadata": {
            "tags": []
          },
          "execution_count": 52
        }
      ]
    },
    {
      "cell_type": "markdown",
      "metadata": {
        "id": "PQ0KciD7Vp_f"
      },
      "source": [
        "# 15. Фильмы с каким актером принесли самые высокие кассовые сборы в 2012 году? "
      ]
    },
    {
      "cell_type": "code",
      "metadata": {
        "id": "113S30cI9ZDN"
      },
      "source": [
        "answers['15'] = 'Chris Hemsworth'# +"
      ],
      "execution_count": 53,
      "outputs": []
    },
    {
      "cell_type": "code",
      "metadata": {
        "id": "aga62oeKVp_g",
        "colab": {
          "base_uri": "https://localhost:8080/",
          "height": 35
        },
        "outputId": "284f806d-1b0a-49a9-c1cc-2980703a7121"
      },
      "source": [
        "df = data[['cast','revenue']][data['release_year'] == 2012].copy()\r\n",
        "df['cast'] = df['cast'].str.split('|')\r\n",
        "df = df.explode('cast')\r\n",
        "df = df.groupby('cast')['revenue'].agg('sum').reset_index()\r\n",
        "df.loc[df.revenue.idxmax(),'cast']"
      ],
      "execution_count": 54,
      "outputs": [
        {
          "output_type": "execute_result",
          "data": {
            "application/vnd.google.colaboratory.intrinsic+json": {
              "type": "string"
            },
            "text/plain": [
              "'Chris Hemsworth'"
            ]
          },
          "metadata": {
            "tags": []
          },
          "execution_count": 54
        }
      ]
    },
    {
      "cell_type": "markdown",
      "metadata": {
        "id": "rCnYGHx_G_Dx"
      },
      "source": [
        "ВАРИАНТ 2"
      ]
    },
    {
      "cell_type": "code",
      "metadata": {
        "colab": {
          "base_uri": "https://localhost:8080/",
          "height": 35
        },
        "id": "1u1A08uH0aXE",
        "outputId": "3d4a9698-96a7-43cf-f743-2079d1b13d2e"
      },
      "source": [
        "df = data[['cast','revenue']][data['release_year'] == 2012].copy()\r\n",
        "casts = unnesting(df['cast'])\r\n",
        "for cast in casts:\r\n",
        "    casts[cast] = df['revenue'][df['cast']\r\n",
        "                                .map(lambda x: True if cast in x else False)].sum()\r\n",
        "casts.most_common()[0][0]"
      ],
      "execution_count": 55,
      "outputs": [
        {
          "output_type": "execute_result",
          "data": {
            "application/vnd.google.colaboratory.intrinsic+json": {
              "type": "string"
            },
            "text/plain": [
              "'Chris Hemsworth'"
            ]
          },
          "metadata": {
            "tags": []
          },
          "execution_count": 55
        }
      ]
    },
    {
      "cell_type": "markdown",
      "metadata": {
        "id": "mWHyyL7QVp_j"
      },
      "source": [
        "# 16. Какой актер снялся в большем количестве высокобюджетных фильмов?\r\n",
        "Примечание: в фильмах, где бюджет выше среднего по данной выборке."
      ]
    },
    {
      "cell_type": "code",
      "metadata": {
        "id": "qQtmHKTFVp_k"
      },
      "source": [
        "answers['16'] = 'Matt Damon'# +"
      ],
      "execution_count": 56,
      "outputs": []
    },
    {
      "cell_type": "code",
      "metadata": {
        "colab": {
          "base_uri": "https://localhost:8080/",
          "height": 35
        },
        "id": "NPTh8QYD36ga",
        "outputId": "5c4bbd40-222f-4d38-c985-45e1bd9af433"
      },
      "source": [
        "df = data['cast'][data['budget'] > data['budget'].mean()].copy()\r\n",
        "unnesting(df).most_common()[0][0]"
      ],
      "execution_count": 57,
      "outputs": [
        {
          "output_type": "execute_result",
          "data": {
            "application/vnd.google.colaboratory.intrinsic+json": {
              "type": "string"
            },
            "text/plain": [
              "'Matt Damon'"
            ]
          },
          "metadata": {
            "tags": []
          },
          "execution_count": 57
        }
      ]
    },
    {
      "cell_type": "markdown",
      "metadata": {
        "id": "JxU5ypU36g6N"
      },
      "source": [
        "ВАРИАНТ 2"
      ]
    },
    {
      "cell_type": "code",
      "metadata": {
        "colab": {
          "base_uri": "https://localhost:8080/",
          "height": 35
        },
        "id": "K8cLGUm_6jZC",
        "outputId": "9ce5e297-9ef7-4a49-cddf-b176a782119e"
      },
      "source": [
        "df = data['cast'][data['budget'] > data['budget'].mean()].str.split('|').explode()\r\n",
        "df.value_counts().index[0]"
      ],
      "execution_count": 58,
      "outputs": [
        {
          "output_type": "execute_result",
          "data": {
            "application/vnd.google.colaboratory.intrinsic+json": {
              "type": "string"
            },
            "text/plain": [
              "'Matt Damon'"
            ]
          },
          "metadata": {
            "tags": []
          },
          "execution_count": 58
        }
      ]
    },
    {
      "cell_type": "markdown",
      "metadata": {
        "id": "NIh6AaW5Vp_n"
      },
      "source": [
        "# 17. В фильмах какого жанра больше всего снимался Nicolas Cage? "
      ]
    },
    {
      "cell_type": "code",
      "metadata": {
        "id": "H74SJDIBVp_n"
      },
      "source": [
        "answers['17'] = 'Action'# +"
      ],
      "execution_count": 59,
      "outputs": []
    },
    {
      "cell_type": "code",
      "metadata": {
        "colab": {
          "base_uri": "https://localhost:8080/",
          "height": 35
        },
        "id": "IbfzBnKm-L8H",
        "outputId": "69880c22-e15b-4f90-930b-3ff878b31945"
      },
      "source": [
        "data['genres'][data['cast'].str.contains('Nicolas Cage')].str.split('|').explode().value_counts().index[0]"
      ],
      "execution_count": 60,
      "outputs": [
        {
          "output_type": "execute_result",
          "data": {
            "application/vnd.google.colaboratory.intrinsic+json": {
              "type": "string"
            },
            "text/plain": [
              "'Action'"
            ]
          },
          "metadata": {
            "tags": []
          },
          "execution_count": 60
        }
      ]
    },
    {
      "cell_type": "markdown",
      "metadata": {
        "id": "aHbPAdMhA7nS"
      },
      "source": [
        "ВАРИАНТ 2"
      ]
    },
    {
      "cell_type": "code",
      "metadata": {
        "colab": {
          "base_uri": "https://localhost:8080/",
          "height": 35
        },
        "id": "g2_ZLPXGA6FA",
        "outputId": "23d09121-ea9d-47c0-d9b1-2645ccfeab34"
      },
      "source": [
        "genres = data['genres'][data['cast'].str.contains('Nicolas Cage')]\r\n",
        "unnesting(genres).most_common()[0][0]"
      ],
      "execution_count": 61,
      "outputs": [
        {
          "output_type": "execute_result",
          "data": {
            "application/vnd.google.colaboratory.intrinsic+json": {
              "type": "string"
            },
            "text/plain": [
              "'Action'"
            ]
          },
          "metadata": {
            "tags": []
          },
          "execution_count": 61
        }
      ]
    },
    {
      "cell_type": "markdown",
      "metadata": {
        "id": "RqOmPRfWVp_q"
      },
      "source": [
        "# 18. Самый убыточный фильм от Paramount Pictures"
      ]
    },
    {
      "cell_type": "code",
      "metadata": {
        "id": "9E_B0Y96Vp_r"
      },
      "source": [
        "answers['18'] = 'K-19: The Widowmaker'# +"
      ],
      "execution_count": 62,
      "outputs": []
    },
    {
      "cell_type": "code",
      "metadata": {
        "colab": {
          "base_uri": "https://localhost:8080/",
          "height": 35
        },
        "id": "n3Z2jRbe37Sk",
        "outputId": "d7023740-0ec6-4f84-94f3-9ae200a6dd59"
      },
      "source": [
        "# Создаём копию фрейма, фильтр по 'Paramount Pictures'\r\n",
        "# Группируем по фильмам, минимум по 'profit'\r\n",
        "df = data[data['production_companies'].str.contains('Paramount Pictures')].copy()\r\n",
        "df.groupby(['original_title'])['profit'].agg('min').idxmin()"
      ],
      "execution_count": 63,
      "outputs": [
        {
          "output_type": "execute_result",
          "data": {
            "application/vnd.google.colaboratory.intrinsic+json": {
              "type": "string"
            },
            "text/plain": [
              "'K-19: The Widowmaker'"
            ]
          },
          "metadata": {
            "tags": []
          },
          "execution_count": 63
        }
      ]
    },
    {
      "cell_type": "markdown",
      "metadata": {
        "id": "vS8Ur6ddVp_u"
      },
      "source": [
        "# 19. Какой год стал самым успешным по суммарным кассовым сборам?"
      ]
    },
    {
      "cell_type": "code",
      "metadata": {
        "id": "NbAPeVRYedxq"
      },
      "source": [
        "answers['19'] = 2015# +"
      ],
      "execution_count": 64,
      "outputs": []
    },
    {
      "cell_type": "code",
      "metadata": {
        "colab": {
          "base_uri": "https://localhost:8080/"
        },
        "id": "VSuBxxcAbZzl",
        "outputId": "fbbaf453-40e1-466e-f5b1-3e0d5f7d4d7f"
      },
      "source": [
        "data.groupby(['release_year'])['revenue'].agg('sum').idxmax()"
      ],
      "execution_count": 65,
      "outputs": [
        {
          "output_type": "execute_result",
          "data": {
            "text/plain": [
              "2015"
            ]
          },
          "metadata": {
            "tags": []
          },
          "execution_count": 65
        }
      ]
    },
    {
      "cell_type": "markdown",
      "metadata": {
        "id": "JAzJh4QAVp_z"
      },
      "source": [
        "# 20. Какой самый прибыльный год для студии Warner Bros?"
      ]
    },
    {
      "cell_type": "code",
      "metadata": {
        "id": "wgVu02DEVp_0"
      },
      "source": [
        "answers['20'] = 2014# +"
      ],
      "execution_count": 66,
      "outputs": []
    },
    {
      "cell_type": "code",
      "metadata": {
        "colab": {
          "base_uri": "https://localhost:8080/"
        },
        "id": "KePMjwjRqGdb",
        "outputId": "4fa6a855-aaef-4f6b-9a24-d0122bab0ee3"
      },
      "source": [
        "df = data[data['production_companies'].str.contains('Warner Bros')].copy()\r\n",
        "df.groupby(['release_year'])['profit'].agg('sum').idxmax()"
      ],
      "execution_count": 67,
      "outputs": [
        {
          "output_type": "execute_result",
          "data": {
            "text/plain": [
              "2014"
            ]
          },
          "metadata": {
            "tags": []
          },
          "execution_count": 67
        }
      ]
    },
    {
      "cell_type": "markdown",
      "metadata": {
        "id": "bTvgD2lXxoII"
      },
      "source": [
        "ВАРИАНТ 2"
      ]
    },
    {
      "cell_type": "code",
      "metadata": {
        "colab": {
          "base_uri": "https://localhost:8080/"
        },
        "id": "ezTw7_V8u3Pj",
        "outputId": "0443175f-2596-430d-a1ec-3fb19c7d9cf4"
      },
      "source": [
        "df = data[data.production_companies.str.contains('Warner Bros',na=False)].copy()\r\n",
        "df.groupby('release_year').sum().sort_values('profit',ascending=False).index[0]"
      ],
      "execution_count": 68,
      "outputs": [
        {
          "output_type": "execute_result",
          "data": {
            "text/plain": [
              "2014"
            ]
          },
          "metadata": {
            "tags": []
          },
          "execution_count": 68
        }
      ]
    },
    {
      "cell_type": "markdown",
      "metadata": {
        "id": "8Im1S2HRVp_4"
      },
      "source": [
        "# 21. В каком месяце за все годы суммарно вышло больше всего фильмов?"
      ]
    },
    {
      "cell_type": "code",
      "metadata": {
        "id": "cDXf0A4EGNjV"
      },
      "source": [
        "answers['21'] = 'Сентябрь'# +"
      ],
      "execution_count": 69,
      "outputs": []
    },
    {
      "cell_type": "code",
      "metadata": {
        "id": "lev6TH7gVp_4",
        "colab": {
          "base_uri": "https://localhost:8080/",
          "height": 35
        },
        "outputId": "2f655031-b91e-4335-ce8e-bd932ec20739"
      },
      "source": [
        "data.groupby(data['release_date'].dt.strftime('%B'))['imdb_id'].count().idxmax()"
      ],
      "execution_count": 70,
      "outputs": [
        {
          "output_type": "execute_result",
          "data": {
            "application/vnd.google.colaboratory.intrinsic+json": {
              "type": "string"
            },
            "text/plain": [
              "'September'"
            ]
          },
          "metadata": {
            "tags": []
          },
          "execution_count": 70
        }
      ]
    },
    {
      "cell_type": "code",
      "metadata": {
        "colab": {
          "base_uri": "https://localhost:8080/",
          "height": 35
        },
        "id": "ul5a0AlLahuP",
        "outputId": "18314d5e-29c0-48f2-8ae2-3adf5fd1c7c1"
      },
      "source": [
        "data.groupby(data['release_date'].dt.month_name())['imdb_id'].count().idxmax()"
      ],
      "execution_count": 71,
      "outputs": [
        {
          "output_type": "execute_result",
          "data": {
            "application/vnd.google.colaboratory.intrinsic+json": {
              "type": "string"
            },
            "text/plain": [
              "'September'"
            ]
          },
          "metadata": {
            "tags": []
          },
          "execution_count": 71
        }
      ]
    },
    {
      "cell_type": "markdown",
      "metadata": {
        "id": "IwXr9nP2Wxcf"
      },
      "source": [
        "ВАРИАНТ 2"
      ]
    },
    {
      "cell_type": "markdown",
      "metadata": {
        "id": "uAJsZ_NeVp_7"
      },
      "source": [
        "# 22. Сколько суммарно вышло фильмов летом? (за июнь, июль, август)"
      ]
    },
    {
      "cell_type": "code",
      "metadata": {
        "id": "leKH3UuORJXQ"
      },
      "source": [
        "answers['22'] = 450 # +"
      ],
      "execution_count": 72,
      "outputs": []
    },
    {
      "cell_type": "code",
      "metadata": {
        "id": "Aa-hEREoVp_8",
        "colab": {
          "base_uri": "https://localhost:8080/"
        },
        "outputId": "252e1cec-f8ac-41e9-a4cf-414a746b3691"
      },
      "source": [
        "df = data.groupby(data['release_date'].dt.strftime('%B'))['imdb_id'].count().reset_index()\r\n",
        "df[df['release_date'].isin(['June', 'July','August'])].sum()[1]"
      ],
      "execution_count": 73,
      "outputs": [
        {
          "output_type": "execute_result",
          "data": {
            "text/plain": [
              "450"
            ]
          },
          "metadata": {
            "tags": []
          },
          "execution_count": 73
        }
      ]
    },
    {
      "cell_type": "markdown",
      "metadata": {
        "id": "G94ppOY1VqAA"
      },
      "source": [
        "# 23. Для какого режиссера зима – самое продуктивное время года? "
      ]
    },
    {
      "cell_type": "code",
      "metadata": {
        "id": "RhNTsamuVqAB"
      },
      "source": [
        "answers['23'] = 'Peter Jackson' # +"
      ],
      "execution_count": 74,
      "outputs": []
    },
    {
      "cell_type": "code",
      "metadata": {
        "id": "4Eo3rPuEwB02",
        "colab": {
          "base_uri": "https://localhost:8080/",
          "height": 35
        },
        "outputId": "a12f52c6-248a-48d0-e94e-c33f8591658b"
      },
      "source": [
        "df = data[['director','release_date']].copy()\r\n",
        "df['month'] = df['release_date'].dt.strftime('%B')\r\n",
        "df = df['director'][df['month'].isin(['December','January','February'])].str.split('|').explode()\r\n",
        "df.value_counts().index[0]"
      ],
      "execution_count": 75,
      "outputs": [
        {
          "output_type": "execute_result",
          "data": {
            "application/vnd.google.colaboratory.intrinsic+json": {
              "type": "string"
            },
            "text/plain": [
              "'Peter Jackson'"
            ]
          },
          "metadata": {
            "tags": []
          },
          "execution_count": 75
        }
      ]
    },
    {
      "cell_type": "markdown",
      "metadata": {
        "id": "wg2TdCiIOIH1"
      },
      "source": [
        "ВАРИАНТ 2"
      ]
    },
    {
      "cell_type": "code",
      "metadata": {
        "colab": {
          "base_uri": "https://localhost:8080/",
          "height": 35
        },
        "id": "VIPuGUkjOLLv",
        "outputId": "463bda01-7965-47df-d6f6-ee6d07f54557"
      },
      "source": [
        "data.director[(data.release_date.dt.month == 12)|\r\n",
        "              (data.release_date.dt.month < 3)].str.split('|').explode().value_counts().index[0]"
      ],
      "execution_count": 76,
      "outputs": [
        {
          "output_type": "execute_result",
          "data": {
            "application/vnd.google.colaboratory.intrinsic+json": {
              "type": "string"
            },
            "text/plain": [
              "'Peter Jackson'"
            ]
          },
          "metadata": {
            "tags": []
          },
          "execution_count": 76
        }
      ]
    },
    {
      "cell_type": "markdown",
      "metadata": {
        "id": "RBo0JVjVVqAF"
      },
      "source": [
        "# 24. Какая студия дает самые длинные названия своим фильмам по количеству символов?"
      ]
    },
    {
      "cell_type": "code",
      "metadata": {
        "id": "QRGS8L0iVqAG"
      },
      "source": [
        "answers['24'] = 'Four By Two Productions' # +"
      ],
      "execution_count": 77,
      "outputs": []
    },
    {
      "cell_type": "code",
      "metadata": {
        "colab": {
          "base_uri": "https://localhost:8080/",
          "height": 35
        },
        "id": "Dz0srT3HSTqC",
        "outputId": "130b5978-0879-47b9-a6c3-40e36663a8f2"
      },
      "source": [
        "df = data[['production_companies','original_title']].copy()\r\n",
        "df['production_companies'] = df['production_companies'].str.split('|')\r\n",
        "df['original_title'] = df['original_title'].str.len()\r\n",
        "df = df.explode('production_companies')\r\n",
        "df.groupby('production_companies')['original_title'].mean().idxmax()\r\n",
        "# вариант\r\n",
        "# df.groupby('production_companies')['original_title'].mean().sort_values(ascending=False)"
      ],
      "execution_count": 78,
      "outputs": [
        {
          "output_type": "execute_result",
          "data": {
            "application/vnd.google.colaboratory.intrinsic+json": {
              "type": "string"
            },
            "text/plain": [
              "'Four By Two Productions'"
            ]
          },
          "metadata": {
            "tags": []
          },
          "execution_count": 78
        }
      ]
    },
    {
      "cell_type": "markdown",
      "metadata": {
        "id": "9G0hbvR7VqAK"
      },
      "source": [
        "# 25. Описание фильмов какой студии в среднем самые длинные по количеству слов?"
      ]
    },
    {
      "cell_type": "code",
      "metadata": {
        "id": "Ge2GsLNxVqAK"
      },
      "source": [
        "answers['25'] = 'Midnight Picture Show' # +"
      ],
      "execution_count": 79,
      "outputs": []
    },
    {
      "cell_type": "code",
      "metadata": {
        "colab": {
          "base_uri": "https://localhost:8080/",
          "height": 35
        },
        "id": "JQ4rq2gbkBwH",
        "outputId": "555fdef6-95cc-4892-c7a2-426e7fd4d72e"
      },
      "source": [
        "df = data[['production_companies','overview']].copy()\r\n",
        "\r\n",
        "# разделяем строку на слова сплитом, считаем длину списка\r\n",
        "df['overview'] = df['overview'].map(lambda x: len(x.split()))\r\n",
        "df['production_companies'] = df['production_companies'].str.split('|')\r\n",
        "df = df.explode('production_companies')\r\n",
        "df.groupby('production_companies')['overview'].mean().sort_values(ascending=False).index[0]\r\n",
        "\r\n",
        "# варианты последней строки - только название компании:\r\n",
        "# df.groupby('production_companies')['overview'].mean().idxmax()\r\n",
        "# df.groupby('production_companies')['overview'].mean().sort_values().index[-1]"
      ],
      "execution_count": 80,
      "outputs": [
        {
          "output_type": "execute_result",
          "data": {
            "application/vnd.google.colaboratory.intrinsic+json": {
              "type": "string"
            },
            "text/plain": [
              "'Midnight Picture Show'"
            ]
          },
          "metadata": {
            "tags": []
          },
          "execution_count": 80
        }
      ]
    },
    {
      "cell_type": "markdown",
      "metadata": {
        "id": "EPyTXLWFsNfV"
      },
      "source": [
        "ВАРИАНТ 2"
      ]
    },
    {
      "cell_type": "code",
      "metadata": {
        "colab": {
          "base_uri": "https://localhost:8080/",
          "height": 35
        },
        "id": "3DTUpHKKrOmd",
        "outputId": "6c2fe1ea-552c-431a-c9a4-970e287c5245"
      },
      "source": [
        "df = data[['production_companies','overview']].copy()\r\n",
        "\r\n",
        "# считаем количество пробелов в строке, +1 == количество слов \r\n",
        "df['overview'] = df['overview'].str.count(' ') + 1\r\n",
        "df['production_companies'] = df['production_companies'].str.split('|')\r\n",
        "df = df.explode('production_companies')\r\n",
        "df.groupby('production_companies')['overview'].mean().sort_values(ascending=False).index[0]\r\n",
        "\r\n",
        "# вариант\r\n",
        "# df.groupby('production_companies')['overview'].mean().idxmax()"
      ],
      "execution_count": 81,
      "outputs": [
        {
          "output_type": "execute_result",
          "data": {
            "application/vnd.google.colaboratory.intrinsic+json": {
              "type": "string"
            },
            "text/plain": [
              "'Midnight Picture Show'"
            ]
          },
          "metadata": {
            "tags": []
          },
          "execution_count": 81
        }
      ]
    },
    {
      "cell_type": "markdown",
      "metadata": {
        "id": "FJ1AFt90VqAP"
      },
      "source": [
        "# 26. Какие фильмы входят в 1 процент лучших по рейтингу? \n",
        "по vote_average"
      ]
    },
    {
      "cell_type": "code",
      "metadata": {
        "id": "8qmJVq4CVqAQ"
      },
      "source": [
        "answers['26'] = '1. Inside Out,The Dark Knight,12 Years a Slave' # +"
      ],
      "execution_count": 82,
      "outputs": []
    },
    {
      "cell_type": "code",
      "metadata": {
        "id": "nwgJZ9ua1Fs1",
        "colab": {
          "base_uri": "https://localhost:8080/",
          "height": 80
        },
        "outputId": "624823cb-b0fa-45e2-9d19-e21f766b1717"
      },
      "source": [
        "# Перенесём варианты из задания в датафрейм\r\n",
        "options = pd.DataFrame([[1,'Inside Out,The Dark Knight,12 Years a Slave'],\r\n",
        "                       [2,'BloodRayne,The Adventures of Rocky & Bullwinkle'],\r\n",
        "                       [3,'Batman Begins,The Lord of the Rings: The Return of the King,Upside Down'],\r\n",
        "                       [4,'300,Lucky Number Slevin,Kill Bill: Vol. 1'],\r\n",
        "                       [5,'Upside Down,Inside Out,Iron Man']],\r\n",
        "    columns=['option','original_title'])\r\n",
        "movies = options.copy()\r\n",
        "\r\n",
        "# Развернём строки\r\n",
        "movies['original_title'] = movies['original_title'].str.split(',')\r\n",
        "movies = movies.explode('original_title')\r\n",
        "\r\n",
        "# 1% лучших - это \"кол-во фильмов\" / 100\r\n",
        "# сортируем по рейтингу и выбираем первые int(len(df)/100) элементов\r\n",
        "df = data[['original_title','vote_average']].copy()\r\n",
        "df = df.sort_values('vote_average',ascending=False).head(int(len(df)/100))\r\n",
        "\r\n",
        "# Объединяем датфрейм movies (варианты ответов) с df (1% лучших по рейтингу)\r\n",
        "# При слиении добавляем колонку 'check' (True - фильм есть среди 1% лучших, False - нет)\r\n",
        "joined = movies.merge(df, on='original_title', how='left').fillna(0)\r\n",
        "joined['check'] = joined['vote_average'].map(lambda x: True if x > 0 else False)\r\n",
        "\r\n",
        "# наводим красоту - объединяем индикатор и датафрейм с вариантами\r\n",
        "# Функция .all() при группировке возвращает True, если все элементы группы == True\r\n",
        "joined = joined.groupby('option')['check'].all()\r\n",
        "movies = options.merge(joined, on='option', how='left')\r\n",
        "movies[movies.check == True]"
      ],
      "execution_count": 83,
      "outputs": [
        {
          "output_type": "execute_result",
          "data": {
            "text/html": [
              "<div>\n",
              "<style scoped>\n",
              "    .dataframe tbody tr th:only-of-type {\n",
              "        vertical-align: middle;\n",
              "    }\n",
              "\n",
              "    .dataframe tbody tr th {\n",
              "        vertical-align: top;\n",
              "    }\n",
              "\n",
              "    .dataframe thead th {\n",
              "        text-align: right;\n",
              "    }\n",
              "</style>\n",
              "<table border=\"1\" class=\"dataframe\">\n",
              "  <thead>\n",
              "    <tr style=\"text-align: right;\">\n",
              "      <th></th>\n",
              "      <th>option</th>\n",
              "      <th>original_title</th>\n",
              "      <th>check</th>\n",
              "    </tr>\n",
              "  </thead>\n",
              "  <tbody>\n",
              "    <tr>\n",
              "      <th>0</th>\n",
              "      <td>1</td>\n",
              "      <td>Inside Out,The Dark Knight,12 Years a Slave</td>\n",
              "      <td>True</td>\n",
              "    </tr>\n",
              "  </tbody>\n",
              "</table>\n",
              "</div>"
            ],
            "text/plain": [
              "   option                               original_title  check\n",
              "0       1  Inside Out,The Dark Knight,12 Years a Slave   True"
            ]
          },
          "metadata": {
            "tags": []
          },
          "execution_count": 83
        }
      ]
    },
    {
      "cell_type": "markdown",
      "metadata": {
        "id": "MdXsUXbCVqAV"
      },
      "source": [
        "# 27. Какие актеры чаще всего снимаются в одном фильме вместе?\n"
      ]
    },
    {
      "cell_type": "code",
      "metadata": {
        "id": "ryaJV-SVXN6D"
      },
      "source": [
        "answers['27'] = 'Daniel Radcliffe & Rupert Grint'  # +"
      ],
      "execution_count": 84,
      "outputs": []
    },
    {
      "cell_type": "markdown",
      "metadata": {
        "id": "pufL3ep2ATQ2"
      },
      "source": [
        "Нужный результат:\r\n",
        "для каждой строки (пары актеров) из вариантов задания получить количество фильмов,\r\n",
        "в которых они вместе снимались. Выбрать вариант с наибольшим количеством фильмов.\r\n",
        "\r\n",
        "Алгоритм решения:\r\n",
        "1. Создать фрейм \"план\" с вариантами актерских пар.\r\n",
        "2. Создать фрейм актеров каждого фильма - \"факт\"- развернуть основной фрейм по \r\n",
        "колонке 'cast' по ширине. На его основе создать все возможные варианты пар для \r\n",
        "каждого фильма.\r\n",
        "3. Посчитать сколько раз строки из \"план\" встречаются в \"факт\". При этом важно,\r\n",
        "чтобы внутри пар имена были отсортированы. \r\n"
      ]
    },
    {
      "cell_type": "code",
      "metadata": {
        "colab": {
          "base_uri": "https://localhost:8080/",
          "height": 80
        },
        "id": "Pobq-oiSbC5D",
        "outputId": "9cdbda20-41de-4497-ad85-7497610be069"
      },
      "source": [
        "# Перенесём варианты из задания в датафрейм\r\n",
        "options = pd.DataFrame([['Johnny Depp & Helena Bonham Carter'],\r\n",
        "                       ['Ben Stiller & Owen Wilson'],\r\n",
        "                       ['Vin Diesel & Paul Walker'],\r\n",
        "                       ['Adam Sandler & Kevin James'],\r\n",
        "                       ['Daniel Radcliffe & Rupert Grint']],\r\n",
        "                    columns=['cast'])\r\n",
        "\r\n",
        "# \"план\" - чистим, сортируем имена внутри пар\r\n",
        "options['cast'] = options['cast'].map(lambda x: ' & '.join(sorted(x.split(' & '))))\r\n",
        "\r\n",
        "# \"факт\" - разворачиваем. Так-как указанное количество актеров в фильмах разное -\r\n",
        "# заменяем NaN  на 'Unknown'.\r\n",
        "df = data['cast'].str.split('|', expand=True).copy().fillna('Unknown')\r\n",
        "\r\n",
        "# Все парные комбинации колонок из \"факт\"\r\n",
        "cc = list(combinations(df.columns,2))\r\n",
        "\r\n",
        "# Массив всех встречающихся пар актеров, заодно - сортируем имена в строках\r\n",
        "couples = np.concatenate([np.sort(df.loc[:, c], axis=1) for c in cc])\r\n",
        "\r\n",
        "# массив в датафрейм\r\n",
        "df = pd.DataFrame(couples)\r\n",
        "df.columns=['cast_1','cast_2']\r\n",
        "\r\n",
        "# # Объединяем 2 столбца в один через разделитель\r\n",
        "df = df.assign(cast = lambda x: x.cast_1 + ' & ' + x.cast_2)\r\n",
        "\r\n",
        "# вывод в одну строку\r\n",
        "df = pd.DataFrame(Counter(df['cast']).most_common())\r\n",
        "df.columns=['cast','count_movies']\r\n",
        "joined = options.merge(df, on='cast', how='left').fillna(0)\r\n",
        "joined[joined.count_movies == joined.count_movies.max()]"
      ],
      "execution_count": 115,
      "outputs": [
        {
          "output_type": "execute_result",
          "data": {
            "text/html": [
              "<div>\n",
              "<style scoped>\n",
              "    .dataframe tbody tr th:only-of-type {\n",
              "        vertical-align: middle;\n",
              "    }\n",
              "\n",
              "    .dataframe tbody tr th {\n",
              "        vertical-align: top;\n",
              "    }\n",
              "\n",
              "    .dataframe thead th {\n",
              "        text-align: right;\n",
              "    }\n",
              "</style>\n",
              "<table border=\"1\" class=\"dataframe\">\n",
              "  <thead>\n",
              "    <tr style=\"text-align: right;\">\n",
              "      <th></th>\n",
              "      <th>cast</th>\n",
              "      <th>count_movies</th>\n",
              "    </tr>\n",
              "  </thead>\n",
              "  <tbody>\n",
              "    <tr>\n",
              "      <th>4</th>\n",
              "      <td>Daniel Radcliffe &amp; Rupert Grint</td>\n",
              "      <td>8</td>\n",
              "    </tr>\n",
              "  </tbody>\n",
              "</table>\n",
              "</div>"
            ],
            "text/plain": [
              "                              cast  count_movies\n",
              "4  Daniel Radcliffe & Rupert Grint             8"
            ]
          },
          "metadata": {
            "tags": []
          },
          "execution_count": 115
        }
      ]
    },
    {
      "cell_type": "markdown",
      "metadata": {
        "id": "0BXfG8FKLiZr"
      },
      "source": [
        "ВАРИАНТ 2"
      ]
    },
    {
      "cell_type": "code",
      "metadata": {
        "colab": {
          "base_uri": "https://localhost:8080/"
        },
        "id": "dtrwfrFmJEMJ",
        "outputId": "524ad719-9b17-4188-e0ff-503b43ba6433"
      },
      "source": [
        "# без излишеств\r\n",
        "df = data['cast'].str.split('|', expand=True)\r\n",
        "cc = list(combinations(df.columns,2))\r\n",
        "df = pd.DataFrame(np.concatenate([df.loc[:, c] for c in cc]))\r\n",
        "df.columns=['cast_1','cast_2']\r\n",
        "df = df.assign(cast = lambda x: x.cast_1 + ' & ' + x.cast_2)\r\n",
        "df.groupby(df.cast).size().nlargest(20)"
      ],
      "execution_count": 116,
      "outputs": [
        {
          "output_type": "execute_result",
          "data": {
            "text/plain": [
              "cast\n",
              "Daniel Radcliffe & Emma Watson         8\n",
              "Daniel Radcliffe & Rupert Grint        8\n",
              "Rupert Grint & Emma Watson             7\n",
              "Ben Stiller & Owen Wilson              6\n",
              "Johnny Depp & Helena Bonham Carter     6\n",
              "Adam Sandler & Kevin James             5\n",
              "Hugh Jackman & Ian McKellen            5\n",
              "Kristen Stewart & Robert Pattinson     5\n",
              "Kristen Stewart & Taylor Lautner       5\n",
              "Robert Pattinson & Taylor Lautner      5\n",
              "Christian Bale & Michael Caine         4\n",
              "Costas Mandylor & Betsy Russell        4\n",
              "Eddie Murphy & Cameron Diaz            4\n",
              "George Clooney & Brad Pitt             4\n",
              "Hugh Jackman & Halle Berry             4\n",
              "Jennifer Lawrence & Josh Hutcherson    4\n",
              "Jennifer Lawrence & Liam Hemsworth     4\n",
              "Jennifer Lawrence & Woody Harrelson    4\n",
              "Josh Hutcherson & Liam Hemsworth       4\n",
              "Josh Hutcherson & Woody Harrelson      4\n",
              "dtype: int64"
            ]
          },
          "metadata": {
            "tags": []
          },
          "execution_count": 116
        }
      ]
    },
    {
      "cell_type": "markdown",
      "metadata": {
        "id": "n6Vx-WNACTnT"
      },
      "source": [
        "ВАРИАНТ 3"
      ]
    },
    {
      "cell_type": "code",
      "metadata": {
        "colab": {
          "base_uri": "https://localhost:8080/"
        },
        "id": "tMJ03S7LEPlv",
        "outputId": "52fdcad7-50c9-45a4-cd16-56ab20a6e6c1"
      },
      "source": [
        "# С итерацией по строкам датафрейма, что как-бы не рекомендуется\r\n",
        "df = data.copy()\r\n",
        "actors = []\r\n",
        "for cast in df.cast.str.split('|'):\r\n",
        "    actors.extend(list(combinations(cast, 2)))\r\n",
        "pd.DataFrame(actors).value_counts()\r\n",
        "# pd.Series(actors).value_counts()"
      ],
      "execution_count": 117,
      "outputs": [
        {
          "output_type": "execute_result",
          "data": {
            "text/plain": [
              "0                    1                       \n",
              "Daniel Radcliffe     Emma Watson                 8\n",
              "                     Rupert Grint                8\n",
              "Rupert Grint         Emma Watson                 7\n",
              "Ben Stiller          Owen Wilson                 6\n",
              "Johnny Depp          Helena Bonham Carter        6\n",
              "                                                ..\n",
              "Matthew McConaughey  Rene Russo                  1\n",
              "                     Reese Witherspoon           1\n",
              "                     Powers Boothe               1\n",
              "                     PenÃ©lope Cruz              1\n",
              "50 Cent              Adewale Akinnuoye-Agbaje    1\n",
              "Length: 18121, dtype: int64"
            ]
          },
          "metadata": {
            "tags": []
          },
          "execution_count": 117
        }
      ]
    },
    {
      "cell_type": "markdown",
      "metadata": {
        "id": "U0nONFnGVqAX"
      },
      "source": [
        "# Submission"
      ]
    },
    {
      "cell_type": "code",
      "metadata": {
        "id": "IfcaRO9-VqAX"
      },
      "source": [
        "# в конце можно посмотреть свои ответы к каждому вопросу\n",
        "answers"
      ],
      "execution_count": null,
      "outputs": []
    },
    {
      "cell_type": "code",
      "metadata": {
        "id": "SiRmHPl8VqAd"
      },
      "source": [
        "# и убедиться что ни чего не пропустил)\n",
        "len(answers)"
      ],
      "execution_count": null,
      "outputs": []
    }
  ]
}