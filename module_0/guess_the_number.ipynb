{
  "nbformat": 4,
  "nbformat_minor": 0,
  "metadata": {
    "colab": {
      "name": "guess the number.ipynb",
      "provenance": [],
      "collapsed_sections": []
    },
    "kernelspec": {
      "name": "python3",
      "display_name": "Python 3"
    }
  },
  "cells": [
    {
      "cell_type": "markdown",
      "metadata": {
        "id": "jiMjqZG-RsXo"
      },
      "source": [
        "# Итоговое задание\n",
        "Улучшить алгоритм угадывания числа.\n",
        "Итак, компьютер загадывает целое число от 1 до 100. Нужно я написать программу, которая угадывает число за минимальное колиичество попыток"
      ]
    },
    {
      "cell_type": "code",
      "metadata": {
        "id": "ZLUaWluDRW_y"
      },
      "source": [
        ""
      ],
      "execution_count": null,
      "outputs": []
    }
  ]
}