{
  "nbformat": 4,
  "nbformat_minor": 0,
  "metadata": {
    "colab": {
      "name": "guess the number.ipynb",
      "provenance": [],
      "collapsed_sections": []
    },
    "kernelspec": {
      "name": "python3",
      "display_name": "Python 3"
    }
  },
  "cells": [
    {
      "cell_type": "markdown",
      "metadata": {
        "id": "jiMjqZG-RsXo"
      },
      "source": [
        "# Итоговое задание\n",
        "Улучшить алгоритм угадывания числа.\n",
        "Компьютер загадывает целое число от 1 до n. Нужно написать программу, которая угадывает число за минимальное колиичество попыток"
      ]
    },
    {
      "cell_type": "code",
      "metadata": {
        "colab": {
          "base_uri": "https://localhost:8080/"
        },
        "id": "5TAIh0VtrO_h",
        "outputId": "0bf22a47-cfda-4476-ca34-3b59c05973b4"
      },
      "source": [
        "import numpy as np # импорт библиотеки\n",
        "\n",
        "\n",
        "def binary_search(number, min_number, max_number):\n",
        "    \"\"\"\n",
        "    Функция получает загаданное число и границы интервала, возвращает\n",
        "    число попыток, за которое оно было отгадано\n",
        "    \"\"\"\n",
        "    count = 1\n",
        "    while (max_number - min_number) > 1: # Пока правая граница правее левой\n",
        "        middle = (min_number+max_number) // 2 # Середина области поиска\n",
        "        count += 1\n",
        "        if middle > number:\n",
        "            max_number = middle - 1 # Передвигаем правую границу\n",
        "        else:\n",
        "            min_number = middle + 1 # Иначе передвигаем левую границу\n",
        "\n",
        "    return count\n",
        "\n",
        "\n",
        "def score_game(game_core, min_number=1, max_number=100, iteration=1000):\n",
        "    \"\"\"\n",
        "    Запускаем игру 'iteration' раз, чтобы узнать, как быстро игра угадывает число\n",
        "    \"\"\"\n",
        "    np.random.seed(1)\n",
        "    random_array = np.random.randint(min_number, max_number, size=(iteration))\n",
        "    count_ls = []\n",
        "    for number in random_array:\n",
        "        count_ls.append(game_core(number,min_number, max_number))\n",
        "    score = int(np.mean(count_ls))\n",
        "\n",
        "    print(f\"Число от {min_number} до {max_number} за {iteration} итераций угадано в среднем за {score} попыток\")\n",
        "\n",
        "\n",
        "# Проверяем\n",
        "score_game(binary_search)\n",
        "score_game(binary_search, min_number=1, max_number=1000, iteration=10000)\n",
        "score_game(binary_search, min_number=1, max_number=10000, iteration=100000)"
      ],
      "execution_count": 2,
      "outputs": [
        {
          "output_type": "stream",
          "text": [
            "Число от 1 до 100 за 1000 итераций угадано в среднем за 6 попыток\n",
            "Число от 1 до 1000 за 10000 итераций угадано в среднем за 9 попыток\n",
            "Число от 1 до 10000 за 100000 итераций угадано в среднем за 13 попыток\n"
          ],
          "name": "stdout"
        }
      ]
    },
    {
      "cell_type": "markdown",
      "metadata": {
        "id": "Y8iEP1s-GkfT"
      },
      "source": [
        "## Проект 0. GitHub. Угадай число - эталонное решение"
      ]
    },
    {
      "cell_type": "markdown",
      "metadata": {
        "id": "wa2LVc4uGkfW"
      },
      "source": [
        "Алгоритм бинарного поиска:"
      ]
    },
    {
      "cell_type": "markdown",
      "metadata": {
        "id": "d_b37r6_GkfX"
      },
      "source": [
        "1. Находим середину отсортированного массива.\n",
        "2. Сравниваем её с искомым значением: если предсказанное число меньше загаданного, отсекаем левую часть, если больше, то правую.\n",
        "3. Повторяем, пока не найдём загаданное число."
      ]
    },
    {
      "cell_type": "code",
      "metadata": {
        "id": "HOCQfGPLGkfY",
        "outputId": "a23b300e-8487-4a8a-8e76-6d0f4d7d63fd"
      },
      "source": [
        "import numpy as np\n",
        "\n",
        "def score_game(game_score):\n",
        "    \"\"\"We start the game 1000 times to find out how quickly the game guess the number.\"\"\"\n",
        "    count_ls = []\n",
        "    np.random.seed(1) #Random Seed: the experiment could be reproducible\n",
        "    random_array = np.random.randint(1, 101, size=(1000))\n",
        "    for number in random_array:\n",
        "        count_ls.append(game_core(number))\n",
        "        \n",
        "    score = int(np.mean(count_ls))\n",
        "    print(f\"Your algorithm guesses the average number per {score} attempts\")\n",
        "    return score\n",
        "\n",
        "\n",
        "def game_core(number):\n",
        "    \"\"\"As a predict we take always the middle of the interval.\n",
        "       In depend of the comparison the lowest limit (minimum) or the highest limit (maximum).\n",
        "       Will be appropriste moved, until the solution will be found.\n",
        "    \"\"\"\n",
        "    count = 1\n",
        "    minimum = 0\n",
        "    maximum = 101\n",
        "    \n",
        "    predict = (maximum + minimum) // 2\n",
        "    \n",
        "    while number != predict:\n",
        "        count += 1\n",
        "        \n",
        "        if number > predict:\n",
        "            minimum = predict\n",
        "        else:\n",
        "            maximum = predict\n",
        "            \n",
        "        predict = (maximum + minimum) // 2\n",
        "        \n",
        "    return count\n",
        "\n",
        "score_game(game_core)"
      ],
      "execution_count": null,
      "outputs": [
        {
          "output_type": "stream",
          "text": [
            "Your algorithm guesses the average number per 5 attempts\n"
          ],
          "name": "stdout"
        },
        {
          "output_type": "execute_result",
          "data": {
            "text/plain": [
              "5"
            ]
          },
          "metadata": {
            "tags": []
          },
          "execution_count": 10
        }
      ]
    },
    {
      "cell_type": "code",
      "metadata": {
        "id": "YJMIgnd9Gkfa"
      },
      "source": [
        ""
      ],
      "execution_count": null,
      "outputs": []
    }
  ]
}