{
  "nbformat": 4,
  "nbformat_minor": 0,
  "metadata": {
    "colab": {
      "name": "guess the number.ipynb",
      "provenance": [],
      "collapsed_sections": []
    },
    "kernelspec": {
      "name": "python3",
      "display_name": "Python 3"
    }
  },
  "cells": [
    {
      "cell_type": "markdown",
      "metadata": {
        "id": "jiMjqZG-RsXo"
      },
      "source": [
        "# Итоговое задание\n",
        "Улучшить алгоритм угадывания числа.\n",
        "Компьютер загадывает целое число от 1 до n. Нужно написать программу, которая угадывает число за минимальное колиичество попыток"
      ]
    },
    {
      "cell_type": "code",
      "metadata": {
        "colab": {
          "base_uri": "https://localhost:8080/"
        },
        "id": "5TAIh0VtrO_h",
        "outputId": "467c1458-e349-4c7d-a910-2cbe04b2eb3f"
      },
      "source": [
        "import numpy as np # импорт библиотеки\n",
        "\n",
        "\n",
        "def binary_search(number, min_number, max_number):\n",
        "    \"\"\"\n",
        "    Функция получает загаданное число и границы интервала, возвращает\n",
        "    число попыток, за которое оно было отгадано\n",
        "    \"\"\"\n",
        "    count = 0\n",
        "    while (max_number - min_number) > 1: # Пока правая граница правее левой\n",
        "        middle = (min_number+max_number) // 2 # Середина области поиска\n",
        "        count += 1\n",
        "        if middle > number:\n",
        "            max_number = middle - 1 # Передвигаем правую границу\n",
        "        else:\n",
        "            min_number = middle + 1 # Иначе передвигаем левую границу\n",
        "\n",
        "    return count\n",
        "\n",
        "\n",
        "def score_game(game_core, min_number=1, max_number=100, iteration=1000):\n",
        "    \"\"\"\n",
        "    Запускаем игру 'iteration' раз, чтобы узнать, как быстро игра угадывает число\n",
        "    \"\"\"\n",
        "    np.random.seed(1)\n",
        "    random_array = np.random.randint(min_number, max_number, size=(iteration))\n",
        "    count_ls = []\n",
        "    for number in random_array:\n",
        "        count_ls.append(game_core(number,min_number, max_number))\n",
        "    score = int(np.mean(count_ls))\n",
        "\n",
        "    print(f\"Число от {min_number} до {max_number} за {iteration} итераций угадано в среднем за {score} попыток\")\n",
        "\n",
        "\n",
        "# Проверяем\n",
        "score_game(binary_search)\n",
        "score_game(binary_search, min_number=1, max_number=1000, iteration=10000)\n",
        "score_game(binary_search, min_number=1, max_number=10000, iteration=100000)"
      ],
      "execution_count": 44,
      "outputs": [
        {
          "output_type": "stream",
          "text": [
            "Число от 1 до 100 за 1000 итераций угадано в среднем за 5 попыток\n",
            "Число от 1 до 1000 за 10000 итераций угадано в среднем за 8 попыток\n",
            "Число от 1 до 10000 за 100000 итераций угадано в среднем за 12 попыток\n"
          ],
          "name": "stdout"
        }
      ]
    }
  ]
}