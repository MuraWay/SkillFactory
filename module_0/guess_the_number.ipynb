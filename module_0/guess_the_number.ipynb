{
  "nbformat": 4,
  "nbformat_minor": 0,
  "metadata": {
    "colab": {
      "name": "guess the number.ipynb",
      "provenance": [],
      "collapsed_sections": []
    },
    "kernelspec": {
      "name": "python3",
      "display_name": "Python 3"
    }
  },
  "cells": [
    {
      "cell_type": "markdown",
      "metadata": {
        "id": "jiMjqZG-RsXo"
      },
      "source": [
        "# Итоговое задание\n",
        "Улучшить алгоритм угадывания числа.\n",
        "Итак, компьютер загадывает целое число от 1 до n. Нужно написать программу, которая угадывает число за минимальное колиичество попыток"
      ]
    },
    {
      "cell_type": "code",
      "metadata": {
        "id": "ZLUaWluDRW_y"
      },
      "source": [
        "import numpy as np"
      ],
      "execution_count": 2,
      "outputs": []
    },
    {
      "cell_type": "code",
      "metadata": {
        "id": "5TAIh0VtrO_h"
      },
      "source": [
        "def dichotomy(number, min_number=1, max_number=100):\n",
        "    count = 0\n",
        "    while (max_number - min_number) > 1: # Пока правая граница правее левой\n",
        "        middle = (min_number + max_number) // 2 #Середина области поиска\n",
        "        count += 1\n",
        "        if middle > number:\n",
        "            max_number = middle - 1 # Передвигаем правую границу\n",
        "        else:\n",
        "            min_number = middle + 1 # Иначе передвигаем левую границу\n",
        "    return count"
      ],
      "execution_count": 25,
      "outputs": []
    },
    {
      "cell_type": "code",
      "metadata": {
        "colab": {
          "base_uri": "https://localhost:8080/"
        },
        "id": "gBWmP9pQsttJ",
        "outputId": "78c1fc09-1cbb-4542-80be-9f4591769caf"
      },
      "source": [
        "def score_game(game_core, min_number=1, max_number=100):\n",
        "    '''Запускаем игру 1000 раз, чтобы узнать, как быстро игра угадывает число'''\n",
        "    count_ls = []\n",
        "    np.random.seed(1)\n",
        "    random_array = np.random.randint(min_number, max_number, size=(1000))\n",
        "    for number in random_array:\n",
        "        count_ls.append(game_core(number,min_number, max_number))\n",
        "    score = int(np.mean(count_ls))\n",
        "    print(f\"Число от {min_number} до {max_number} угадано в среднем за {score} попыток\")\n",
        "\n",
        "# Проверяем\n",
        "score_game(dichotomy)\n",
        "score_game(dichotomy, min_number=1, max_number=1000)\n",
        "score_game(dichotomy, min_number=1, max_number=10000)"
      ],
      "execution_count": 26,
      "outputs": [
        {
          "output_type": "stream",
          "text": [
            "Число от 1 до 100 угадано в среднем за 5 попыток\n",
            "Число от 1 до 1000 угадано в среднем за 8 попыток\n",
            "Число от 1 до 10000 угадано в среднем за 12 попыток\n"
          ],
          "name": "stdout"
        }
      ]
    }
  ]
}