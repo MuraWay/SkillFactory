{
  "nbformat": 4,
  "nbformat_minor": 0,
  "metadata": {
    "colab": {
      "name": "EDA_stud_math .ipynb",
      "provenance": [],
      "toc_visible": true
    },
    "kernelspec": {
      "name": "python3",
      "display_name": "Python 3"
    }
  },
  "cells": [
    {
      "cell_type": "markdown",
      "metadata": {
        "id": "swN_EWZM7781"
      },
      "source": [
        "# Задача\r\n",
        "\r\n",
        "Вас пригласили поучаствовать в одном из проектов UNICEF — международного подразделения ООН, чья миссия состоит в повышении уровня благополучия детей по всему миру. \r\n",
        "\r\n",
        "Суть проекта — отследить влияние условий жизни учащихся в возрасте от 15 до 22 лет на их успеваемость по математике, чтобы на ранней стадии выявлять студентов, находящихся в группе риска.\r\n",
        "\r\n",
        "И сделать это можно с помощью модели, которая предсказывала бы результаты госэкзамена по математике для каждого ученика школы (вот она, сила ML!). Чтобы определиться с параметрами будущей модели, проведите разведывательный анализ данных и составьте отчёт по его результатам. "
      ]
    },
    {
      "cell_type": "markdown",
      "metadata": {
        "id": "eF4zcHVX8M5m"
      },
      "source": [
        "# Описание датасета\r\n",
        "\r\n",
        "1. school — аббревиатура школы, в которой учится ученик\r\n",
        "2. sex — пол ученика ('F' - женский, 'M' - мужской)\r\n",
        "3. age — возраст ученика (от 15 до 22)\r\n",
        "4. address — тип адреса ученика ('U' - городской, 'R' - за городом)\r\n",
        "5. famsize — размер семьи('LE3' <= 3, 'GT3' >3)\r\n",
        "6. Pstatus — статус совместного жилья родителей ('T' - живут вместе 'A' - раздельно)\r\n",
        "7. Medu — образование матери (0 - нет, 1 - 4 класса, 2 - 5-9 классы, 3 - среднее специальное или 11 классов, 4 - высшее)\r\n",
        "8. Fedu — образование отца (0 - нет, 1 - 4 класса, 2 - 5-9 классы, 3 - среднее специальное или 11 классов, 4 - высшее)\r\n",
        "9. Mjob — работа матери ('teacher' - учитель, 'health' - сфера здравоохранения, 'services' - гос служба, 'at_home' - не работает, 'other' - другое)\r\n",
        "10. Fjob — работа отца ('teacher' - учитель, 'health' - сфера здравоохранения, 'services' - гос служба, 'at_home' - не работает, 'other' - другое)\r\n",
        "11. reason — причина выбора школы ('home' - близость к дому, 'reputation' - репутация школы, 'course' - образовательная программа, 'other' - другое)\r\n",
        "12. guardian — опекун ('mother' - мать, 'father' - отец, 'other' - другое)\r\n",
        "13. traveltime — время в пути до школы (1 - <15 мин., 2 - 15-30 мин., 3 - 30-60 мин., 4 - >60 мин.)\r\n",
        "14. studytime — время на учёбу помимо школы в неделю (1 - <2 часов, 2 - 2-5 часов, 3 - 5-10 часов, 4 - >10 часов)\r\n",
        "15. failures — количество внеучебных неудач (n, если 1<=n<=3, иначе 0)\r\n",
        "16. schoolsup — дополнительная образовательная поддержка (yes или no)\r\n",
        "17. famsup — семейная образовательная поддержка (yes или no)\r\n",
        "18. paid — дополнительные платные занятия по математике (yes или no)\r\n",
        "19. activities — дополнительные внеучебные занятия (yes или no)\r\n",
        "20. nursery — посещал детский сад (yes или no)\r\n",
        "21. higher — хочет получить высшее образование (yes или no)\r\n",
        "22. internet — наличие интернета дома (yes или no)\r\n",
        "23. romantic — в романтических отношениях (yes или no)\r\n",
        "24. famrel — семейные отношения (от 1 - очень плохо до 5 - очень хорошо)\r\n",
        "25. freetime — свободное время после школы (от 1 - очень мало до 5 - очень мого)\r\n",
        "26. goout — проведение времени с друзьями (от 1 - очень мало до 5 - очень много)\r\n",
        "27. health — текущее состояние здоровья (от 1 - очень плохо до 5 - очень хорошо)\r\n",
        "28. absences — количество пропущенных занятий\r\n",
        "29. score — баллы по госэкзамену по математике"
      ]
    },
    {
      "cell_type": "markdown",
      "metadata": {
        "id": "Z5h0CN9Y92UL"
      },
      "source": [
        "# Импорт библиотек"
      ]
    },
    {
      "cell_type": "code",
      "metadata": {
        "id": "gjT3vCDQ8BDz"
      },
      "source": [
        "import pandas as pd\r\n",
        "import numpy as np\r\n",
        "import matplotlib.pyplot as plt\r\n",
        "import seaborn as sns\r\n",
        "from itertools import combinations\r\n",
        "from scipy.stats import ttest_ind\r\n",
        "\r\n",
        "pd.set_option('display.max_rows', 50) # показывать больше строк\r\n",
        "pd.set_option('display.max_columns', 50) # показывать больше колонок\r\n",
        "\r\n",
        "stud = pd.read_csv('stud_math.csv')"
      ],
      "execution_count": 856,
      "outputs": []
    },
    {
      "cell_type": "markdown",
      "metadata": {
        "id": "PF7HmWJeZrJq"
      },
      "source": [
        "# Предобработка"
      ]
    },
    {
      "cell_type": "code",
      "metadata": {
        "id": "vi5YoR7daFWq"
      },
      "source": [
        "def find_cat(df, uniq=6,percent=30):\r\n",
        "    '''\r\n",
        "    Найти все категориальные признаки\r\n",
        "    unique - максимальное количество уникальных значений для определения категориальных данных\r\n",
        "    \"percent\" - допустимый процент пропущенных данных в колонке\r\n",
        "    '''\r\n",
        "    i = 0\r\n",
        "    all_rows = len(df)\r\n",
        "    for col in df.columns:\r\n",
        "        s = ''\r\n",
        "        s += col\r\n",
        "        u = df[col].nunique()\r\n",
        "        empty_rows = np.count_nonzero(df[col].isnull())\r\n",
        "        p = round(empty_rows/all_rows*100,2)\r\n",
        "\r\n",
        "        if (type(df[col][0]) == str):\r\n",
        "            s += ', строка'\r\n",
        "        \r\n",
        "        if (u <= uniq):\r\n",
        "            l = pd.unique(df[col].values.ravel())\r\n",
        "            s += ', мало уникальных (' + str(u) +')' + str(l)\r\n",
        "\r\n",
        "        if (s != col):\r\n",
        "            if p == 0:\r\n",
        "                t = 'нет пропусков'\r\n",
        "            elif p < percent:\r\n",
        "                t = 'заполнить пропуски'\r\n",
        "            else: \r\n",
        "                t = 'исключить'\r\n",
        "            i += 1\r\n",
        "            print(f'{i} {p}% {t}, {s}')\r\n",
        "\r\n",
        "\r\n",
        "def filna_cat_int(df, uniq=6, method='moda'):\r\n",
        "    '''\r\n",
        "    Заменить пропуски в категориальных данных, выраженных числом указанным методом\r\n",
        "    method = 'median' - медиана\r\n",
        "    method = 'mean' - среднее\r\n",
        "    method = 'moda' - самое частое значение\r\n",
        "    method = 'pr' - вероятностное распределение\r\n",
        "    '''\r\n",
        "    for col in df.columns:\r\n",
        "        out = len(df[col]) - df[col].count()# количество пустых строк в колонке\r\n",
        "        if out > 0:\r\n",
        "            u = df[col].nunique()\r\n",
        "            # признак номинативных данных \r\n",
        "            if (type(df[col][0]) == str) or (u <= uniq):\r\n",
        "                # выражено не строкой\r\n",
        "                if df[col].dtypes != object:\r\n",
        "                    if method == 'median':\r\n",
        "                        df[col].fillna(df[col].median(),inplace=True)\r\n",
        "                    elif method == 'mean':\r\n",
        "                        df[col].fillna(df[col].mean(),inplace=True)\r\n",
        "                    elif method == 'moda':# самое частое значение\r\n",
        "                        df[col].fillna(df[col].value_counts(ascending=False).index[0], inplace=True)\r\n",
        "                    elif method == 'pr':\r\n",
        "                        # маска Series с булевыми значениями - есть или нет пропуски\r\n",
        "                        mask = df[col].isna()\r\n",
        "                        # статистика распределения значений\r\n",
        "                        p = df[col].value_counts() / len(df[col].dropna())\r\n",
        "                        # заполняем пропуски с вероятностью `p`\r\n",
        "                        df.loc[mask, col] = np.random.choice(p.index.to_list(),\r\n",
        "                                                            size=mask.sum(), \r\n",
        "                                                            p=p.to_list())\r\n",
        "\r\n",
        "\r\n",
        "def filna_cat_str(df, uniq=6, method='moda'):\r\n",
        "    '''\r\n",
        "    Заменить пропуски в категориальных данных, выраженных строкой указанным методом\r\n",
        "    method = 'moda' - самое частое значение\r\n",
        "    method = 'pr' - вероятностное распределение\r\n",
        "    '''\r\n",
        "    for col in df.columns:\r\n",
        "        out = len(df[col]) - df[col].count()# количество пустых строк в колонке\r\n",
        "        if out > 0:\r\n",
        "            u = df[col].nunique()\r\n",
        "            # признак номинативных данных \r\n",
        "            if (type(df[col][0]) == str) or (u <= uniq):\r\n",
        "                # выражено строкой\r\n",
        "                if df[col].dtypes == object:\r\n",
        "                    if method == 'moda':# самое частое значение\r\n",
        "                        df[col].fillna(df[col].value_counts(ascending=False).index[0], inplace=True)\r\n",
        "                    elif method == 'pr':\r\n",
        "                        # маска Series с булевыми значениями - есть или нет пропуски\r\n",
        "                        mask = df[col].isna()\r\n",
        "                        # статистика распределения значений\r\n",
        "                        p = df[col].value_counts() / len(df[col].dropna())\r\n",
        "                        # заполняем пропуски с вероятностью `p`\r\n",
        "                        df.loc[mask, col] = np.random.choice(p.index.to_list(),\r\n",
        "                                                            size=mask.sum(), \r\n",
        "                                                            p=p.to_list())\r\n",
        "\r\n",
        "\r\n",
        "def get_boxpot(df, list_column, orientation=\"h\"):\r\n",
        "    '''\r\n",
        "    Рисует ящик с усами\r\n",
        "    list_column - список колонок\r\n",
        "    orientation=\"h\" - горизонтальная ориентация\r\n",
        "    orientation=\"v\" - вертикальная ориентация\r\n",
        "    '''\r\n",
        "    g = sns.boxplot(data=df[list_column],\r\n",
        "                orient=orientation, palette=\"Set2\", whis=1.5);\r\n",
        "\r\n",
        "\r\n",
        "\r\n",
        "def interquartile_range(series):\r\n",
        "    '''\r\n",
        "    Вычисляет межквартильный размах в серии\r\n",
        "    '''\r\n",
        "    IQR = series.quantile(0.75) - series.quantile(0.25)\r\n",
        "    perc25 = series.quantile(0.25)\r\n",
        "    perc75 = series.quantile(0.75)\r\n",
        "    f = perc25 - 1.5*IQR\r\n",
        "    l = perc75 + 1.5*IQR\r\n",
        "    print('25-й перцентиль: {},'.format(perc25),\r\n",
        "          '75-й перцентиль: {},'.format(perc75), \r\n",
        "          \"IQR: {}, \".format(IQR), \r\n",
        "          \"Границы выбросов: [{}, {}].\".format(f,l))\r\n",
        "    \r\n",
        "    series.loc[series.between(perc25 - 1.5*IQR,\r\n",
        "                              perc75 + 1.5*IQR)].hist(bins = 8, \r\n",
        "                                                      range = (0, 30), \r\n",
        "                                                      label = 'IQR')\r\n",
        "    plt.legend();\r\n",
        "\r\n",
        "\r\n",
        "def emission_replacement(df,column,method='median'):\r\n",
        "    '''\r\n",
        "    Заменяет выбросы в серии вычисленным значением \r\n",
        "    method='median' - замена на медиану\r\n",
        "    method='average' - замена на среднее\r\n",
        "    method ='probable' - вероятностное распределение\r\n",
        "    '''\r\n",
        "    IQR = df[column].quantile(0.75) - df[column].quantile(0.25)\r\n",
        "    perc25 = df[column].quantile(0.25)\r\n",
        "    perc75 = df[column].quantile(0.75)\r\n",
        "\r\n",
        "    f = perc25 - 1.5*IQR\r\n",
        "    l = perc75 + 1.5*IQR\r\n",
        "\r\n",
        "    if method =='median':\r\n",
        "        df.loc[(df[column] < f) | (df[column] > l), column] = df[column].median()\r\n",
        "    elif method =='average':\r\n",
        "        df.loc[(df[column] < f) | (df[column] > l), column] = df[column].mean()\r\n",
        "    elif method =='probable':\r\n",
        "        # замена выбросов на nan \r\n",
        "        df[column] = np.where((df[column] < f) | (df[column] > l), np.nan, df[column])\r\n",
        "        # маска Series с булевыми значениями - есть или нет пропуски\r\n",
        "        mask = df[column].isna()\r\n",
        "        # статистика распределения значений\r\n",
        "        p = df[column].value_counts() / len(df[column].dropna())\r\n",
        "        # заполняем пропуски с вероятностью `p`\r\n",
        "        df.loc[mask, column] = np.random.choice(p.index.to_list(),\r\n",
        "                                            size=mask.sum(), \r\n",
        "                                            p=p.to_list())\r\n",
        "\r\n",
        "\r\n",
        "def emissions_del(df,column):\r\n",
        "    '''\r\n",
        "    Удалить выбросы\r\n",
        "    '''\r\n",
        "    IQR = df[column].quantile(0.75) - df[column].quantile(0.25)\r\n",
        "    perc25 = df[column].quantile(0.25)\r\n",
        "    perc75 = df[column].quantile(0.75)\r\n",
        "\r\n",
        "    df = df.loc[df[column].between(perc25 - 1.5*IQR, perc75 + 1.5*IQR)]\r\n",
        "    return df\r\n",
        "\r\n",
        "def make_conj(df, cat1, cat2):\r\n",
        "    '''\r\n",
        "    Конъюнкция 2-х категориальных признаков\r\n",
        "    '''\r\n",
        "    df[cat1 + '+' + cat2] = df[cat1].astype(str) + '+' + df[cat2].astype(str)\r\n",
        "\r\n",
        "    return df\r\n",
        "\r\n",
        "\r\n",
        "def get_list_object(df):\r\n",
        "    '''\r\n",
        "    Возвращает список столбцов со строковыми значениями\r\n",
        "    '''\r\n",
        "    l = []\r\n",
        "    for col in df.columns:\r\n",
        "        if df[col].dtypes == object:\r\n",
        "            l.append(col)\r\n",
        "    return l\r\n",
        "\r\n",
        "def get_boolean(df,list_column):\r\n",
        "    '''\r\n",
        "    Заменяет по списку колонок строковые значения yes и no на 1 и 0\r\n",
        "    '''\r\n",
        "    for col in df.columns:\r\n",
        "        if col in list_column:\r\n",
        "            if df[col].dtypes == object:\r\n",
        "                df[col] = np.where(df[col] == 'yes', 1, 0)\r\n",
        "\r\n",
        "\r\n",
        "def get_boxplot(df,column,ax_y='score'):\r\n",
        "    '''\r\n",
        "    График плотности распределения переменных для количественного признака\r\n",
        "    '''\r\n",
        "    fig, ax = plt.subplots(figsize = (8, 4))\r\n",
        "    sns.boxplot(x=column, y=ax_y, data=df,ax=ax)\r\n",
        "    plt.xticks(rotation=45)\r\n",
        "    ax.set_title('Boxplot for ' + column)\r\n",
        "    plt.show()\r\n",
        "\r\n",
        "\r\n",
        "def get_stat_dif(df,column,target='score'):\r\n",
        "    '''\r\n",
        "    тест Стьюдента\r\n",
        "    '''\r\n",
        "    # cols = df.loc[:, column].value_counts().index[:10]\r\n",
        "    cols = df.loc[:, column].value_counts().index\r\n",
        "    combinations_all = list(combinations(cols, 2))\r\n",
        "    for comb in combinations_all:\r\n",
        "        if ttest_ind(df.loc[df.loc[:, column] == comb[0], target], \r\n",
        "                        df.loc[df.loc[:, column] == comb[1], target]).pvalue \\\r\n",
        "            <= 0.05/len(combinations_all): # Учли поправку Бонферони\r\n",
        "            print('Найдены статистически значимые различия для колонки', column)\r\n",
        "            break"
      ],
      "execution_count": 857,
      "outputs": []
    },
    {
      "cell_type": "markdown",
      "metadata": {
        "id": "ah_NBKwG85d8"
      },
      "source": [
        "# Первичный отсмотр данных"
      ]
    },
    {
      "cell_type": "code",
      "metadata": {
        "colab": {
          "base_uri": "https://localhost:8080/",
          "height": 1000
        },
        "id": "Y4XO5OGq9c1V",
        "outputId": "492b5a3c-ff0e-4c6b-92e8-735ceccbde9f"
      },
      "source": [
        "display(stud.head(10))\r\n",
        "stud.info()"
      ],
      "execution_count": 858,
      "outputs": [
        {
          "output_type": "display_data",
          "data": {
            "text/html": [
              "<div>\n",
              "<style scoped>\n",
              "    .dataframe tbody tr th:only-of-type {\n",
              "        vertical-align: middle;\n",
              "    }\n",
              "\n",
              "    .dataframe tbody tr th {\n",
              "        vertical-align: top;\n",
              "    }\n",
              "\n",
              "    .dataframe thead th {\n",
              "        text-align: right;\n",
              "    }\n",
              "</style>\n",
              "<table border=\"1\" class=\"dataframe\">\n",
              "  <thead>\n",
              "    <tr style=\"text-align: right;\">\n",
              "      <th></th>\n",
              "      <th>school</th>\n",
              "      <th>sex</th>\n",
              "      <th>age</th>\n",
              "      <th>address</th>\n",
              "      <th>famsize</th>\n",
              "      <th>Pstatus</th>\n",
              "      <th>Medu</th>\n",
              "      <th>Fedu</th>\n",
              "      <th>Mjob</th>\n",
              "      <th>Fjob</th>\n",
              "      <th>reason</th>\n",
              "      <th>guardian</th>\n",
              "      <th>traveltime</th>\n",
              "      <th>studytime</th>\n",
              "      <th>failures</th>\n",
              "      <th>schoolsup</th>\n",
              "      <th>famsup</th>\n",
              "      <th>paid</th>\n",
              "      <th>activities</th>\n",
              "      <th>nursery</th>\n",
              "      <th>studytime, granular</th>\n",
              "      <th>higher</th>\n",
              "      <th>internet</th>\n",
              "      <th>romantic</th>\n",
              "      <th>famrel</th>\n",
              "      <th>freetime</th>\n",
              "      <th>goout</th>\n",
              "      <th>health</th>\n",
              "      <th>absences</th>\n",
              "      <th>score</th>\n",
              "    </tr>\n",
              "  </thead>\n",
              "  <tbody>\n",
              "    <tr>\n",
              "      <th>0</th>\n",
              "      <td>GP</td>\n",
              "      <td>F</td>\n",
              "      <td>18</td>\n",
              "      <td>U</td>\n",
              "      <td>NaN</td>\n",
              "      <td>A</td>\n",
              "      <td>4.0</td>\n",
              "      <td>4.0</td>\n",
              "      <td>at_home</td>\n",
              "      <td>teacher</td>\n",
              "      <td>course</td>\n",
              "      <td>mother</td>\n",
              "      <td>2.0</td>\n",
              "      <td>2.0</td>\n",
              "      <td>0.0</td>\n",
              "      <td>yes</td>\n",
              "      <td>no</td>\n",
              "      <td>no</td>\n",
              "      <td>no</td>\n",
              "      <td>yes</td>\n",
              "      <td>-6.0</td>\n",
              "      <td>yes</td>\n",
              "      <td>NaN</td>\n",
              "      <td>no</td>\n",
              "      <td>4.0</td>\n",
              "      <td>3.0</td>\n",
              "      <td>4.0</td>\n",
              "      <td>3.0</td>\n",
              "      <td>6.0</td>\n",
              "      <td>30.0</td>\n",
              "    </tr>\n",
              "    <tr>\n",
              "      <th>1</th>\n",
              "      <td>GP</td>\n",
              "      <td>F</td>\n",
              "      <td>17</td>\n",
              "      <td>U</td>\n",
              "      <td>GT3</td>\n",
              "      <td>NaN</td>\n",
              "      <td>1.0</td>\n",
              "      <td>1.0</td>\n",
              "      <td>at_home</td>\n",
              "      <td>other</td>\n",
              "      <td>course</td>\n",
              "      <td>father</td>\n",
              "      <td>1.0</td>\n",
              "      <td>2.0</td>\n",
              "      <td>0.0</td>\n",
              "      <td>no</td>\n",
              "      <td>yes</td>\n",
              "      <td>no</td>\n",
              "      <td>no</td>\n",
              "      <td>no</td>\n",
              "      <td>-6.0</td>\n",
              "      <td>yes</td>\n",
              "      <td>yes</td>\n",
              "      <td>no</td>\n",
              "      <td>5.0</td>\n",
              "      <td>3.0</td>\n",
              "      <td>3.0</td>\n",
              "      <td>3.0</td>\n",
              "      <td>4.0</td>\n",
              "      <td>30.0</td>\n",
              "    </tr>\n",
              "    <tr>\n",
              "      <th>2</th>\n",
              "      <td>GP</td>\n",
              "      <td>F</td>\n",
              "      <td>15</td>\n",
              "      <td>U</td>\n",
              "      <td>LE3</td>\n",
              "      <td>T</td>\n",
              "      <td>1.0</td>\n",
              "      <td>1.0</td>\n",
              "      <td>at_home</td>\n",
              "      <td>other</td>\n",
              "      <td>other</td>\n",
              "      <td>mother</td>\n",
              "      <td>1.0</td>\n",
              "      <td>2.0</td>\n",
              "      <td>3.0</td>\n",
              "      <td>yes</td>\n",
              "      <td>no</td>\n",
              "      <td>NaN</td>\n",
              "      <td>no</td>\n",
              "      <td>yes</td>\n",
              "      <td>-6.0</td>\n",
              "      <td>yes</td>\n",
              "      <td>yes</td>\n",
              "      <td>NaN</td>\n",
              "      <td>4.0</td>\n",
              "      <td>3.0</td>\n",
              "      <td>2.0</td>\n",
              "      <td>3.0</td>\n",
              "      <td>10.0</td>\n",
              "      <td>50.0</td>\n",
              "    </tr>\n",
              "    <tr>\n",
              "      <th>3</th>\n",
              "      <td>GP</td>\n",
              "      <td>F</td>\n",
              "      <td>15</td>\n",
              "      <td>U</td>\n",
              "      <td>GT3</td>\n",
              "      <td>T</td>\n",
              "      <td>4.0</td>\n",
              "      <td>2.0</td>\n",
              "      <td>health</td>\n",
              "      <td>NaN</td>\n",
              "      <td>home</td>\n",
              "      <td>mother</td>\n",
              "      <td>1.0</td>\n",
              "      <td>3.0</td>\n",
              "      <td>0.0</td>\n",
              "      <td>no</td>\n",
              "      <td>yes</td>\n",
              "      <td>yes</td>\n",
              "      <td>yes</td>\n",
              "      <td>yes</td>\n",
              "      <td>-9.0</td>\n",
              "      <td>yes</td>\n",
              "      <td>yes</td>\n",
              "      <td>yes</td>\n",
              "      <td>3.0</td>\n",
              "      <td>2.0</td>\n",
              "      <td>2.0</td>\n",
              "      <td>5.0</td>\n",
              "      <td>2.0</td>\n",
              "      <td>75.0</td>\n",
              "    </tr>\n",
              "    <tr>\n",
              "      <th>4</th>\n",
              "      <td>GP</td>\n",
              "      <td>F</td>\n",
              "      <td>16</td>\n",
              "      <td>U</td>\n",
              "      <td>GT3</td>\n",
              "      <td>T</td>\n",
              "      <td>3.0</td>\n",
              "      <td>3.0</td>\n",
              "      <td>other</td>\n",
              "      <td>other</td>\n",
              "      <td>home</td>\n",
              "      <td>father</td>\n",
              "      <td>1.0</td>\n",
              "      <td>2.0</td>\n",
              "      <td>0.0</td>\n",
              "      <td>no</td>\n",
              "      <td>yes</td>\n",
              "      <td>yes</td>\n",
              "      <td>no</td>\n",
              "      <td>yes</td>\n",
              "      <td>-6.0</td>\n",
              "      <td>yes</td>\n",
              "      <td>no</td>\n",
              "      <td>no</td>\n",
              "      <td>4.0</td>\n",
              "      <td>3.0</td>\n",
              "      <td>2.0</td>\n",
              "      <td>5.0</td>\n",
              "      <td>4.0</td>\n",
              "      <td>50.0</td>\n",
              "    </tr>\n",
              "    <tr>\n",
              "      <th>5</th>\n",
              "      <td>GP</td>\n",
              "      <td>M</td>\n",
              "      <td>16</td>\n",
              "      <td>U</td>\n",
              "      <td>LE3</td>\n",
              "      <td>T</td>\n",
              "      <td>4.0</td>\n",
              "      <td>3.0</td>\n",
              "      <td>services</td>\n",
              "      <td>other</td>\n",
              "      <td>reputation</td>\n",
              "      <td>mother</td>\n",
              "      <td>1.0</td>\n",
              "      <td>2.0</td>\n",
              "      <td>0.0</td>\n",
              "      <td>no</td>\n",
              "      <td>yes</td>\n",
              "      <td>yes</td>\n",
              "      <td>yes</td>\n",
              "      <td>yes</td>\n",
              "      <td>-6.0</td>\n",
              "      <td>yes</td>\n",
              "      <td>yes</td>\n",
              "      <td>no</td>\n",
              "      <td>5.0</td>\n",
              "      <td>4.0</td>\n",
              "      <td>2.0</td>\n",
              "      <td>5.0</td>\n",
              "      <td>10.0</td>\n",
              "      <td>75.0</td>\n",
              "    </tr>\n",
              "    <tr>\n",
              "      <th>6</th>\n",
              "      <td>GP</td>\n",
              "      <td>M</td>\n",
              "      <td>16</td>\n",
              "      <td>NaN</td>\n",
              "      <td>LE3</td>\n",
              "      <td>T</td>\n",
              "      <td>2.0</td>\n",
              "      <td>2.0</td>\n",
              "      <td>other</td>\n",
              "      <td>other</td>\n",
              "      <td>home</td>\n",
              "      <td>mother</td>\n",
              "      <td>1.0</td>\n",
              "      <td>2.0</td>\n",
              "      <td>0.0</td>\n",
              "      <td>no</td>\n",
              "      <td>no</td>\n",
              "      <td>no</td>\n",
              "      <td>no</td>\n",
              "      <td>yes</td>\n",
              "      <td>-6.0</td>\n",
              "      <td>yes</td>\n",
              "      <td>yes</td>\n",
              "      <td>no</td>\n",
              "      <td>4.0</td>\n",
              "      <td>4.0</td>\n",
              "      <td>4.0</td>\n",
              "      <td>3.0</td>\n",
              "      <td>0.0</td>\n",
              "      <td>55.0</td>\n",
              "    </tr>\n",
              "    <tr>\n",
              "      <th>7</th>\n",
              "      <td>GP</td>\n",
              "      <td>F</td>\n",
              "      <td>17</td>\n",
              "      <td>U</td>\n",
              "      <td>GT3</td>\n",
              "      <td>A</td>\n",
              "      <td>4.0</td>\n",
              "      <td>4.0</td>\n",
              "      <td>other</td>\n",
              "      <td>teacher</td>\n",
              "      <td>home</td>\n",
              "      <td>mother</td>\n",
              "      <td>2.0</td>\n",
              "      <td>2.0</td>\n",
              "      <td>0.0</td>\n",
              "      <td>yes</td>\n",
              "      <td>yes</td>\n",
              "      <td>no</td>\n",
              "      <td>no</td>\n",
              "      <td>yes</td>\n",
              "      <td>-6.0</td>\n",
              "      <td>yes</td>\n",
              "      <td>no</td>\n",
              "      <td>no</td>\n",
              "      <td>4.0</td>\n",
              "      <td>1.0</td>\n",
              "      <td>4.0</td>\n",
              "      <td>1.0</td>\n",
              "      <td>6.0</td>\n",
              "      <td>30.0</td>\n",
              "    </tr>\n",
              "    <tr>\n",
              "      <th>8</th>\n",
              "      <td>GP</td>\n",
              "      <td>M</td>\n",
              "      <td>15</td>\n",
              "      <td>U</td>\n",
              "      <td>LE3</td>\n",
              "      <td>A</td>\n",
              "      <td>3.0</td>\n",
              "      <td>2.0</td>\n",
              "      <td>services</td>\n",
              "      <td>other</td>\n",
              "      <td>home</td>\n",
              "      <td>mother</td>\n",
              "      <td>1.0</td>\n",
              "      <td>2.0</td>\n",
              "      <td>0.0</td>\n",
              "      <td>no</td>\n",
              "      <td>yes</td>\n",
              "      <td>yes</td>\n",
              "      <td>no</td>\n",
              "      <td>yes</td>\n",
              "      <td>-6.0</td>\n",
              "      <td>yes</td>\n",
              "      <td>yes</td>\n",
              "      <td>no</td>\n",
              "      <td>NaN</td>\n",
              "      <td>2.0</td>\n",
              "      <td>2.0</td>\n",
              "      <td>1.0</td>\n",
              "      <td>0.0</td>\n",
              "      <td>95.0</td>\n",
              "    </tr>\n",
              "    <tr>\n",
              "      <th>9</th>\n",
              "      <td>GP</td>\n",
              "      <td>M</td>\n",
              "      <td>15</td>\n",
              "      <td>U</td>\n",
              "      <td>NaN</td>\n",
              "      <td>NaN</td>\n",
              "      <td>3.0</td>\n",
              "      <td>4.0</td>\n",
              "      <td>other</td>\n",
              "      <td>other</td>\n",
              "      <td>home</td>\n",
              "      <td>mother</td>\n",
              "      <td>1.0</td>\n",
              "      <td>2.0</td>\n",
              "      <td>0.0</td>\n",
              "      <td>no</td>\n",
              "      <td>yes</td>\n",
              "      <td>yes</td>\n",
              "      <td>yes</td>\n",
              "      <td>yes</td>\n",
              "      <td>-6.0</td>\n",
              "      <td>yes</td>\n",
              "      <td>yes</td>\n",
              "      <td>no</td>\n",
              "      <td>5.0</td>\n",
              "      <td>5.0</td>\n",
              "      <td>1.0</td>\n",
              "      <td>5.0</td>\n",
              "      <td>0.0</td>\n",
              "      <td>75.0</td>\n",
              "    </tr>\n",
              "  </tbody>\n",
              "</table>\n",
              "</div>"
            ],
            "text/plain": [
              "  school sex  age address famsize Pstatus  Medu  Fedu      Mjob     Fjob  \\\n",
              "0     GP   F   18       U     NaN       A   4.0   4.0   at_home  teacher   \n",
              "1     GP   F   17       U     GT3     NaN   1.0   1.0   at_home    other   \n",
              "2     GP   F   15       U     LE3       T   1.0   1.0   at_home    other   \n",
              "3     GP   F   15       U     GT3       T   4.0   2.0    health      NaN   \n",
              "4     GP   F   16       U     GT3       T   3.0   3.0     other    other   \n",
              "5     GP   M   16       U     LE3       T   4.0   3.0  services    other   \n",
              "6     GP   M   16     NaN     LE3       T   2.0   2.0     other    other   \n",
              "7     GP   F   17       U     GT3       A   4.0   4.0     other  teacher   \n",
              "8     GP   M   15       U     LE3       A   3.0   2.0  services    other   \n",
              "9     GP   M   15       U     NaN     NaN   3.0   4.0     other    other   \n",
              "\n",
              "       reason guardian  traveltime  studytime  failures schoolsup famsup paid  \\\n",
              "0      course   mother         2.0        2.0       0.0       yes     no   no   \n",
              "1      course   father         1.0        2.0       0.0        no    yes   no   \n",
              "2       other   mother         1.0        2.0       3.0       yes     no  NaN   \n",
              "3        home   mother         1.0        3.0       0.0        no    yes  yes   \n",
              "4        home   father         1.0        2.0       0.0        no    yes  yes   \n",
              "5  reputation   mother         1.0        2.0       0.0        no    yes  yes   \n",
              "6        home   mother         1.0        2.0       0.0        no     no   no   \n",
              "7        home   mother         2.0        2.0       0.0       yes    yes   no   \n",
              "8        home   mother         1.0        2.0       0.0        no    yes  yes   \n",
              "9        home   mother         1.0        2.0       0.0        no    yes  yes   \n",
              "\n",
              "  activities nursery  studytime, granular higher internet romantic  famrel  \\\n",
              "0         no     yes                 -6.0    yes      NaN       no     4.0   \n",
              "1         no      no                 -6.0    yes      yes       no     5.0   \n",
              "2         no     yes                 -6.0    yes      yes      NaN     4.0   \n",
              "3        yes     yes                 -9.0    yes      yes      yes     3.0   \n",
              "4         no     yes                 -6.0    yes       no       no     4.0   \n",
              "5        yes     yes                 -6.0    yes      yes       no     5.0   \n",
              "6         no     yes                 -6.0    yes      yes       no     4.0   \n",
              "7         no     yes                 -6.0    yes       no       no     4.0   \n",
              "8         no     yes                 -6.0    yes      yes       no     NaN   \n",
              "9        yes     yes                 -6.0    yes      yes       no     5.0   \n",
              "\n",
              "   freetime  goout  health  absences  score  \n",
              "0       3.0    4.0     3.0       6.0   30.0  \n",
              "1       3.0    3.0     3.0       4.0   30.0  \n",
              "2       3.0    2.0     3.0      10.0   50.0  \n",
              "3       2.0    2.0     5.0       2.0   75.0  \n",
              "4       3.0    2.0     5.0       4.0   50.0  \n",
              "5       4.0    2.0     5.0      10.0   75.0  \n",
              "6       4.0    4.0     3.0       0.0   55.0  \n",
              "7       1.0    4.0     1.0       6.0   30.0  \n",
              "8       2.0    2.0     1.0       0.0   95.0  \n",
              "9       5.0    1.0     5.0       0.0   75.0  "
            ]
          },
          "metadata": {
            "tags": []
          }
        },
        {
          "output_type": "stream",
          "text": [
            "<class 'pandas.core.frame.DataFrame'>\n",
            "RangeIndex: 395 entries, 0 to 394\n",
            "Data columns (total 30 columns):\n",
            " #   Column               Non-Null Count  Dtype  \n",
            "---  ------               --------------  -----  \n",
            " 0   school               395 non-null    object \n",
            " 1   sex                  395 non-null    object \n",
            " 2   age                  395 non-null    int64  \n",
            " 3   address              378 non-null    object \n",
            " 4   famsize              368 non-null    object \n",
            " 5   Pstatus              350 non-null    object \n",
            " 6   Medu                 392 non-null    float64\n",
            " 7   Fedu                 371 non-null    float64\n",
            " 8   Mjob                 376 non-null    object \n",
            " 9   Fjob                 359 non-null    object \n",
            " 10  reason               378 non-null    object \n",
            " 11  guardian             364 non-null    object \n",
            " 12  traveltime           367 non-null    float64\n",
            " 13  studytime            388 non-null    float64\n",
            " 14  failures             373 non-null    float64\n",
            " 15  schoolsup            386 non-null    object \n",
            " 16  famsup               356 non-null    object \n",
            " 17  paid                 355 non-null    object \n",
            " 18  activities           381 non-null    object \n",
            " 19  nursery              379 non-null    object \n",
            " 20  studytime, granular  388 non-null    float64\n",
            " 21  higher               375 non-null    object \n",
            " 22  internet             361 non-null    object \n",
            " 23  romantic             364 non-null    object \n",
            " 24  famrel               368 non-null    float64\n",
            " 25  freetime             384 non-null    float64\n",
            " 26  goout                387 non-null    float64\n",
            " 27  health               380 non-null    float64\n",
            " 28  absences             383 non-null    float64\n",
            " 29  score                389 non-null    float64\n",
            "dtypes: float64(12), int64(1), object(17)\n",
            "memory usage: 92.7+ KB\n"
          ],
          "name": "stdout"
        }
      ]
    },
    {
      "cell_type": "markdown",
      "metadata": {
        "id": "zStTEhaf--30"
      },
      "source": [
        "Переименуем один из столбцов для удобства"
      ]
    },
    {
      "cell_type": "code",
      "metadata": {
        "id": "e4UoLkLC-RYa"
      },
      "source": [
        "stud = stud.rename({\r\n",
        "    'studytime, granular': 'studytime_granular'}, axis=1)"
      ],
      "execution_count": 859,
      "outputs": []
    },
    {
      "cell_type": "markdown",
      "metadata": {
        "id": "CI4s_eHI88T2"
      },
      "source": [
        "В датасете содержатся данные различных типов:\r\n",
        "1. Количественные переменные\r\n",
        "2. Качественные (номинативные) переменные, выраженные цифрами и строками\r\n",
        "\r\n",
        "Можно также отдельно выделить ранговые переменные, но так как сейчас нет необходимости их сравнения, отнесём их к числу номинативных. \r\n"
      ]
    },
    {
      "cell_type": "markdown",
      "metadata": {
        "id": "j428nmRSVqUU"
      },
      "source": [
        "## Категориальные (номинативные) признаки\r\n"
      ]
    },
    {
      "cell_type": "markdown",
      "metadata": {
        "id": "F4NE2wJSEkT7"
      },
      "source": [
        "Определим какие колонки относятся к категориальным(номинативным) данным. Это можно сделать как минимум по 2-м признакам:\r\n",
        "* строковые значения в столбцах\r\n",
        "* слишком мало уникальных значений\r\n",
        "\r\n",
        "Воспользуемся функцией `find_cat` (вынесена в предобработку)"
      ]
    },
    {
      "cell_type": "markdown",
      "metadata": {
        "id": "JuuTumfn_AIG"
      },
      "source": [
        "Установим 7 как минимальное количество уникальных значений для определения номинативного признака (при 8 - в отбор попадает age - возраст, а это уже количественный непрерывный признак, выраженный дискретно)"
      ]
    },
    {
      "cell_type": "code",
      "metadata": {
        "colab": {
          "base_uri": "https://localhost:8080/"
        },
        "id": "ZefjMxdu_Nqk",
        "outputId": "9d7b18e2-f149-4cc0-a670-6bdc5eb5e419"
      },
      "source": [
        "find_cat(stud, uniq=7, percent=30)"
      ],
      "execution_count": 860,
      "outputs": [
        {
          "output_type": "stream",
          "text": [
            "1 0.0% нет пропусков, school, строка, мало уникальных (2)['GP' 'MS']\n",
            "2 0.0% нет пропусков, sex, строка, мало уникальных (2)['F' 'M']\n",
            "3 4.3% заполнить пропуски, address, строка, мало уникальных (2)['U' nan 'R']\n",
            "4 6.84% заполнить пропуски, famsize, мало уникальных (2)[nan 'GT3' 'LE3']\n",
            "5 11.39% заполнить пропуски, Pstatus, строка, мало уникальных (2)['A' nan 'T']\n",
            "6 0.76% заполнить пропуски, Medu, мало уникальных (5)[ 4.  1.  3.  2. nan  0.]\n",
            "7 6.08% заполнить пропуски, Fedu, мало уникальных (6)[ 4.  1.  2.  3. 40. nan  0.]\n",
            "8 4.81% заполнить пропуски, Mjob, строка, мало уникальных (5)['at_home' 'health' 'other' 'services' 'teacher' nan]\n",
            "9 9.11% заполнить пропуски, Fjob, строка, мало уникальных (5)['teacher' 'other' nan 'health' 'services' 'at_home']\n",
            "10 4.3% заполнить пропуски, reason, строка, мало уникальных (4)['course' 'other' 'home' 'reputation' nan]\n",
            "11 7.85% заполнить пропуски, guardian, строка, мало уникальных (3)['mother' 'father' 'other' nan]\n",
            "12 7.09% заполнить пропуски, traveltime, мало уникальных (4)[ 2.  1.  3. nan  4.]\n",
            "13 1.77% заполнить пропуски, studytime, мало уникальных (4)[ 2.  3.  1. nan  4.]\n",
            "14 5.57% заполнить пропуски, failures, мало уникальных (4)[ 0.  3. nan  2.  1.]\n",
            "15 2.28% заполнить пропуски, schoolsup, строка, мало уникальных (2)['yes' 'no' nan]\n",
            "16 9.87% заполнить пропуски, famsup, строка, мало уникальных (2)['no' 'yes' nan]\n",
            "17 10.13% заполнить пропуски, paid, строка, мало уникальных (2)['no' nan 'yes']\n",
            "18 3.54% заполнить пропуски, activities, строка, мало уникальных (2)['no' 'yes' nan]\n",
            "19 4.05% заполнить пропуски, nursery, строка, мало уникальных (2)['yes' 'no' nan]\n",
            "20 1.77% заполнить пропуски, studytime_granular, мало уникальных (4)[ -6.  -9.  -3.  nan -12.]\n",
            "21 5.06% заполнить пропуски, higher, строка, мало уникальных (2)['yes' nan 'no']\n",
            "22 8.61% заполнить пропуски, internet, мало уникальных (2)[nan 'yes' 'no']\n",
            "23 7.85% заполнить пропуски, romantic, строка, мало уникальных (2)['no' nan 'yes']\n",
            "24 6.84% заполнить пропуски, famrel, мало уникальных (6)[ 4.  5.  3. nan -1.  2.  1.]\n",
            "25 2.78% заполнить пропуски, freetime, мало уникальных (5)[ 3.  2.  4.  1.  5. nan]\n",
            "26 2.03% заполнить пропуски, goout, мало уникальных (5)[ 4.  3.  2.  1.  5. nan]\n",
            "27 3.8% заполнить пропуски, health, мало уникальных (5)[ 3.  5.  1.  2.  4. nan]\n"
          ],
          "name": "stdout"
        }
      ]
    },
    {
      "cell_type": "markdown",
      "metadata": {
        "id": "jPkDW_HLWdb0"
      },
      "source": [
        "* Получили 27 из 30 колонок, содержащие номинативные переменные.\r\n",
        "* % пропущенных данных. Если исходить из того, что восстанавливать данные имеет смысл, если пропущенно менее 30%, то во всех колонках с номинативными данными, возможно заполнение пропусков.\r\n",
        "* Для каждой колонки - количество уникальных значений и список таких значений.\r\n",
        "* В соответствии с описанием датафрейма - большинство колонок имеют действительные интервалы значений.\r\n",
        "\r\n",
        "Исключение:\r\n",
        "* \"Fedu\" - есть значение \"40\" - не входит в действительный интервал\r\n",
        "* \"famrel\" - есть значение \"-1\" - тоже за пределами действительных значений\r\n",
        "* \"studytime_granular\" - нет описания в задании. Нужен дополнительный анализ"
      ]
    },
    {
      "cell_type": "markdown",
      "metadata": {
        "id": "Nuo_u4lj-bIQ"
      },
      "source": [
        "### famrel и Fedu\r\n",
        "\r\n",
        "* В колонке \"famrel\" - минимальное значение -1, хотя по описанию - значения должны быть в интервале от 1 до 5.\r\n",
        "* \"Fedu\" - максимальное значение 40, должен быть интервал от 0 до 4"
      ]
    },
    {
      "cell_type": "code",
      "metadata": {
        "colab": {
          "base_uri": "https://localhost:8080/"
        },
        "id": "wJLeBQJ8J3Qz",
        "outputId": "3bc0c655-fe4d-4347-aeeb-cdc78dd03ab7"
      },
      "source": [
        "print(f'Fedu {stud.Fedu[stud.Fedu == stud.Fedu.max()].count()}')\r\n",
        "print(f'famrel {stud.famrel[stud.famrel == stud.famrel.min()].count()}')"
      ],
      "execution_count": 861,
      "outputs": [
        {
          "output_type": "stream",
          "text": [
            "Fedu 1\n",
            "famrel 1\n"
          ],
          "name": "stdout"
        }
      ]
    },
    {
      "cell_type": "markdown",
      "metadata": {
        "id": "rJD7fxgBJOdE"
      },
      "source": [
        "В каждой из этих колонок по 1-й строке с таким ошибочным значением. По здравому смыслу можно исправить их на ближайшее верное значение(40 = 4, -1 = 1). Тогда все значения будут находиться в действительном диапазоне."
      ]
    },
    {
      "cell_type": "code",
      "metadata": {
        "id": "w50QZPYOUC85"
      },
      "source": [
        "stud.loc[stud.Fedu == 40,'Fedu'] = 4\r\n",
        "stud.loc[stud.famrel == -1,'famrel'] = 1"
      ],
      "execution_count": 862,
      "outputs": []
    },
    {
      "cell_type": "markdown",
      "metadata": {
        "id": "VPom429mA7Hx"
      },
      "source": [
        "### studytime_granular\t"
      ]
    },
    {
      "cell_type": "markdown",
      "metadata": {
        "id": "B5kCxRh4bwbI"
      },
      "source": [
        "Нет описания этого столбца в задании => не ясно какие значения действительные. Возможно есть какая-то связь с данными из \"studytime\" (обращает на себя внимание сходство названий).\r\n",
        "Для проверки этой гипотезы проведём корреляционный анализ:"
      ]
    },
    {
      "cell_type": "code",
      "metadata": {
        "colab": {
          "base_uri": "https://localhost:8080/",
          "height": 111
        },
        "id": "pyVFQY6KbV81",
        "outputId": "d07721e8-73c8-417c-c618-cbc26eedfd18"
      },
      "source": [
        "correlation = stud[['studytime','studytime_granular']].corr()\r\n",
        "correlation"
      ],
      "execution_count": 863,
      "outputs": [
        {
          "output_type": "execute_result",
          "data": {
            "text/html": [
              "<div>\n",
              "<style scoped>\n",
              "    .dataframe tbody tr th:only-of-type {\n",
              "        vertical-align: middle;\n",
              "    }\n",
              "\n",
              "    .dataframe tbody tr th {\n",
              "        vertical-align: top;\n",
              "    }\n",
              "\n",
              "    .dataframe thead th {\n",
              "        text-align: right;\n",
              "    }\n",
              "</style>\n",
              "<table border=\"1\" class=\"dataframe\">\n",
              "  <thead>\n",
              "    <tr style=\"text-align: right;\">\n",
              "      <th></th>\n",
              "      <th>studytime</th>\n",
              "      <th>studytime_granular</th>\n",
              "    </tr>\n",
              "  </thead>\n",
              "  <tbody>\n",
              "    <tr>\n",
              "      <th>studytime</th>\n",
              "      <td>1.0</td>\n",
              "      <td>-1.0</td>\n",
              "    </tr>\n",
              "    <tr>\n",
              "      <th>studytime_granular</th>\n",
              "      <td>-1.0</td>\n",
              "      <td>1.0</td>\n",
              "    </tr>\n",
              "  </tbody>\n",
              "</table>\n",
              "</div>"
            ],
            "text/plain": [
              "                    studytime  studytime_granular\n",
              "studytime                 1.0                -1.0\n",
              "studytime_granular       -1.0                 1.0"
            ]
          },
          "metadata": {
            "tags": []
          },
          "execution_count": 863
        }
      ]
    },
    {
      "cell_type": "markdown",
      "metadata": {
        "id": "Ad_vi8iySA_i"
      },
      "source": [
        "* Анализ показывает обратную зависимость значений studytime_granular от studytime\r\n",
        "* Возможно есть и другие зависимости. Пока оставим этот параметр под наблюдением. Окончательное решение примем после проведения общего корреляционного анализа"
      ]
    },
    {
      "cell_type": "markdown",
      "metadata": {
        "id": "vOoRy34BnCel"
      },
      "source": [
        "## Замена пропусков"
      ]
    },
    {
      "cell_type": "markdown",
      "metadata": {
        "id": "XvJHtI73k4By"
      },
      "source": [
        "В оставшихся колонках с номинативными переменными необходимо произвести замену nan на какое-либо значение.\r\n",
        "Можно провести замену на:\r\n",
        "* Моду\r\n",
        "* Медиану\r\n",
        "* Среднее\r\n",
        "* Вероятностное распределение\r\n"
      ]
    },
    {
      "cell_type": "code",
      "metadata": {
        "colab": {
          "base_uri": "https://localhost:8080/"
        },
        "id": "TvJdI5Z4sSXh",
        "outputId": "ffc63ded-9c66-4f8d-824a-88335bf6a189"
      },
      "source": [
        "# Замена пропусков среди числовых данных\r\n",
        "# method=  moda, median, mean, pr\r\n",
        "filna_cat_int(stud,uniq=7,method='median')\r\n",
        "\r\n",
        "# Замена пропусков среди строковых данных\r\n",
        "# method=  moda, pr\r\n",
        "filna_cat_str(stud,uniq=7,method='moda')\r\n",
        "\r\n",
        "find_cat(stud)"
      ],
      "execution_count": 864,
      "outputs": [
        {
          "output_type": "stream",
          "text": [
            "1 0.0% нет пропусков, school, строка, мало уникальных (2)['GP' 'MS']\n",
            "2 0.0% нет пропусков, sex, строка, мало уникальных (2)['F' 'M']\n",
            "3 0.0% нет пропусков, address, строка, мало уникальных (2)['U' 'R']\n",
            "4 0.0% нет пропусков, famsize, строка, мало уникальных (2)['GT3' 'LE3']\n",
            "5 0.0% нет пропусков, Pstatus, строка, мало уникальных (2)['A' 'T']\n",
            "6 0.0% нет пропусков, Medu, мало уникальных (5)[4. 1. 3. 2. 0.]\n",
            "7 0.0% нет пропусков, Fedu, мало уникальных (5)[4. 1. 2. 3. 0.]\n",
            "8 0.0% нет пропусков, Mjob, строка, мало уникальных (5)['at_home' 'health' 'other' 'services' 'teacher']\n",
            "9 0.0% нет пропусков, Fjob, строка, мало уникальных (5)['teacher' 'other' 'health' 'services' 'at_home']\n",
            "10 0.0% нет пропусков, reason, строка, мало уникальных (4)['course' 'other' 'home' 'reputation']\n",
            "11 0.0% нет пропусков, guardian, строка, мало уникальных (3)['mother' 'father' 'other']\n",
            "12 0.0% нет пропусков, traveltime, мало уникальных (4)[2. 1. 3. 4.]\n",
            "13 0.0% нет пропусков, studytime, мало уникальных (4)[2. 3. 1. 4.]\n",
            "14 0.0% нет пропусков, failures, мало уникальных (4)[0. 3. 2. 1.]\n",
            "15 0.0% нет пропусков, schoolsup, строка, мало уникальных (2)['yes' 'no']\n",
            "16 0.0% нет пропусков, famsup, строка, мало уникальных (2)['no' 'yes']\n",
            "17 0.0% нет пропусков, paid, строка, мало уникальных (2)['no' 'yes']\n",
            "18 0.0% нет пропусков, activities, строка, мало уникальных (2)['no' 'yes']\n",
            "19 0.0% нет пропусков, nursery, строка, мало уникальных (2)['yes' 'no']\n",
            "20 0.0% нет пропусков, studytime_granular, мало уникальных (4)[ -6.  -9.  -3. -12.]\n",
            "21 0.0% нет пропусков, higher, строка, мало уникальных (2)['yes' 'no']\n",
            "22 0.0% нет пропусков, internet, строка, мало уникальных (2)['yes' 'no']\n",
            "23 0.0% нет пропусков, romantic, строка, мало уникальных (2)['no' 'yes']\n",
            "24 0.0% нет пропусков, famrel, мало уникальных (5)[4. 5. 3. 1. 2.]\n",
            "25 0.0% нет пропусков, freetime, мало уникальных (5)[3. 2. 4. 1. 5.]\n",
            "26 0.0% нет пропусков, goout, мало уникальных (5)[4. 3. 2. 1. 5.]\n",
            "27 0.0% нет пропусков, health, мало уникальных (5)[3. 5. 1. 2. 4.]\n"
          ],
          "name": "stdout"
        }
      ]
    },
    {
      "cell_type": "markdown",
      "metadata": {
        "id": "k_UM5hTnyPV4"
      },
      "source": [
        "## Выводы по номинативным признакам:\r\n",
        "\r\n",
        "\r\n",
        "* Устранены пропуски\r\n",
        "* Исправлены ошибочные данные\r\n",
        "* Все признаки находятся в достоверных интервалах"
      ]
    },
    {
      "cell_type": "markdown",
      "metadata": {
        "id": "nJhdk6u84LBT"
      },
      "source": [
        "## Количественные признаки\r\n",
        "\r\n"
      ]
    },
    {
      "cell_type": "markdown",
      "metadata": {
        "id": "PSNLgVua07Vg"
      },
      "source": [
        "Остались 3 количественных признака\r\n",
        "* age\r\n",
        "* absences\r\n",
        "* score"
      ]
    },
    {
      "cell_type": "markdown",
      "metadata": {
        "id": "bpA4n5FbvfoW"
      },
      "source": [
        "Оценим все числовые переменные датафрейма. Определим - есть ли выбросы."
      ]
    },
    {
      "cell_type": "code",
      "metadata": {
        "colab": {
          "base_uri": "https://localhost:8080/",
          "height": 297
        },
        "id": "2yORELDhrYv7",
        "outputId": "0466b8be-3ec5-446b-cdfa-ec30fb0a06a4"
      },
      "source": [
        "l = ['age', 'absences','score']\r\n",
        "stud[l].describe()"
      ],
      "execution_count": 865,
      "outputs": [
        {
          "output_type": "execute_result",
          "data": {
            "text/html": [
              "<div>\n",
              "<style scoped>\n",
              "    .dataframe tbody tr th:only-of-type {\n",
              "        vertical-align: middle;\n",
              "    }\n",
              "\n",
              "    .dataframe tbody tr th {\n",
              "        vertical-align: top;\n",
              "    }\n",
              "\n",
              "    .dataframe thead th {\n",
              "        text-align: right;\n",
              "    }\n",
              "</style>\n",
              "<table border=\"1\" class=\"dataframe\">\n",
              "  <thead>\n",
              "    <tr style=\"text-align: right;\">\n",
              "      <th></th>\n",
              "      <th>age</th>\n",
              "      <th>absences</th>\n",
              "      <th>score</th>\n",
              "    </tr>\n",
              "  </thead>\n",
              "  <tbody>\n",
              "    <tr>\n",
              "      <th>count</th>\n",
              "      <td>395.000000</td>\n",
              "      <td>383.000000</td>\n",
              "      <td>389.000000</td>\n",
              "    </tr>\n",
              "    <tr>\n",
              "      <th>mean</th>\n",
              "      <td>16.696203</td>\n",
              "      <td>7.279373</td>\n",
              "      <td>52.262211</td>\n",
              "    </tr>\n",
              "    <tr>\n",
              "      <th>std</th>\n",
              "      <td>1.276043</td>\n",
              "      <td>23.465197</td>\n",
              "      <td>22.919022</td>\n",
              "    </tr>\n",
              "    <tr>\n",
              "      <th>min</th>\n",
              "      <td>15.000000</td>\n",
              "      <td>0.000000</td>\n",
              "      <td>0.000000</td>\n",
              "    </tr>\n",
              "    <tr>\n",
              "      <th>25%</th>\n",
              "      <td>16.000000</td>\n",
              "      <td>0.000000</td>\n",
              "      <td>40.000000</td>\n",
              "    </tr>\n",
              "    <tr>\n",
              "      <th>50%</th>\n",
              "      <td>17.000000</td>\n",
              "      <td>4.000000</td>\n",
              "      <td>55.000000</td>\n",
              "    </tr>\n",
              "    <tr>\n",
              "      <th>75%</th>\n",
              "      <td>18.000000</td>\n",
              "      <td>8.000000</td>\n",
              "      <td>70.000000</td>\n",
              "    </tr>\n",
              "    <tr>\n",
              "      <th>max</th>\n",
              "      <td>22.000000</td>\n",
              "      <td>385.000000</td>\n",
              "      <td>100.000000</td>\n",
              "    </tr>\n",
              "  </tbody>\n",
              "</table>\n",
              "</div>"
            ],
            "text/plain": [
              "              age    absences       score\n",
              "count  395.000000  383.000000  389.000000\n",
              "mean    16.696203    7.279373   52.262211\n",
              "std      1.276043   23.465197   22.919022\n",
              "min     15.000000    0.000000    0.000000\n",
              "25%     16.000000    0.000000   40.000000\n",
              "50%     17.000000    4.000000   55.000000\n",
              "75%     18.000000    8.000000   70.000000\n",
              "max     22.000000  385.000000  100.000000"
            ]
          },
          "metadata": {
            "tags": []
          },
          "execution_count": 865
        }
      ]
    },
    {
      "cell_type": "markdown",
      "metadata": {
        "id": "iyHZ9yDcBcFU"
      },
      "source": [
        "### score\r\n",
        "баллы по госэкзамену по математике\r\n",
        "\r\n",
        "Это самая важная колонка - целевая функция. Именно это значение должна будет предсказывать модель. Пропусков данных в ней не должно быть."
      ]
    },
    {
      "cell_type": "markdown",
      "metadata": {
        "id": "oT6_Z0IHeSgw"
      },
      "source": [
        "Посмотрим на распределение"
      ]
    },
    {
      "cell_type": "code",
      "metadata": {
        "colab": {
          "base_uri": "https://localhost:8080/",
          "height": 265
        },
        "id": "lZFLsvCod85h",
        "outputId": "45613b81-42d2-46dc-a4bd-1f3f6bda2dfb"
      },
      "source": [
        "stud.score.hist(bins=20);"
      ],
      "execution_count": 866,
      "outputs": [
        {
          "output_type": "display_data",
          "data": {
            "image/png": "[encoded data removed]",
            "text/plain": [
              "<Figure size 432x288 with 1 Axes>"
            ]
          },
          "metadata": {
            "tags": [],
            "needs_background": "light"
          }
        }
      ]
    },
    {
      "cell_type": "code",
      "metadata": {
        "colab": {
          "base_uri": "https://localhost:8080/",
          "height": 282
        },
        "id": "1dmO_2dcufqI",
        "outputId": "ed521f30-5a29-489c-806c-942896884e2d"
      },
      "source": [
        "# Выбросы\r\n",
        "interquartile_range(stud.score)"
      ],
      "execution_count": 867,
      "outputs": [
        {
          "output_type": "stream",
          "text": [
            "25-й перцентиль: 40.0, 75-й перцентиль: 70.0, IQR: 30.0,  Границы выбросов: [-5.0, 115.0].\n"
          ],
          "name": "stdout"
        },
        {
          "output_type": "display_data",
          "data": {
            "image/png": "[encoded data removed]",
            "text/plain": [
              "<Figure size 432x288 with 1 Axes>"
            ]
          },
          "metadata": {
            "tags": [],
            "needs_background": "light"
          }
        }
      ]
    },
    {
      "cell_type": "markdown",
      "metadata": {
        "id": "O5EzH9mYeXqA"
      },
      "source": [
        "Обращаем внимание:\r\n",
        "* более 30 учеников, получивших 0 баллов\r\n",
        "* 'яма' в диапазоне от 0 до 20 после чего начинается нормальное распределение\r\n",
        "* выбросов нет"
      ]
    },
    {
      "cell_type": "markdown",
      "metadata": {
        "id": "MwApCCvRvnJn"
      },
      "source": [
        "Посмотрим на баллы, как на группы"
      ]
    },
    {
      "cell_type": "code",
      "metadata": {
        "colab": {
          "base_uri": "https://localhost:8080/"
        },
        "id": "YnT1_B2KsCS3",
        "outputId": "40d261ba-e614-4c52-9cd8-e909ea43b5ce"
      },
      "source": [
        "stud.score.value_counts().sort_index(ascending=False)"
      ],
      "execution_count": 868,
      "outputs": [
        {
          "output_type": "execute_result",
          "data": {
            "text/plain": [
              "100.0     1\n",
              "95.0      5\n",
              "90.0     12\n",
              "85.0      6\n",
              "80.0     16\n",
              "75.0     33\n",
              "70.0     27\n",
              "65.0     31\n",
              "60.0     31\n",
              "55.0     46\n",
              "50.0     54\n",
              "45.0     27\n",
              "40.0     31\n",
              "35.0      9\n",
              "30.0     15\n",
              "25.0      7\n",
              "20.0      1\n",
              "0.0      37\n",
              "Name: score, dtype: int64"
            ]
          },
          "metadata": {
            "tags": []
          },
          "execution_count": 868
        }
      ]
    },
    {
      "cell_type": "markdown",
      "metadata": {
        "id": "Cv9U_ZKxvzk-"
      },
      "source": [
        "* Все баллы кратны 5 => скорее всего это минимальный балл за задание\r\n",
        "* Возможно \"20\" - минимальный проходной балл, а все кто набрал < 20 получили \"0\"\r\n",
        "* Так же возможно, что 0 получили в результате аннулирования оценки (например, за списывание)\r\n",
        "* Не исключено, что 0 получили не явившиеся на экамен\r\n",
        "* Возможно 0 - это ошибки в датасете\r\n",
        "* Возможно и сочетание этих факторов"
      ]
    },
    {
      "cell_type": "markdown",
      "metadata": {
        "id": "-BIV_4i7x5pQ"
      },
      "source": [
        "В столбце также присутствуют пропущенные данные. Можно предположить, что прпуск = 0. Тогда можно пойти 2-мя путями:\r\n",
        "1. Заменить nan на 0\r\n",
        "2. Удалить строки с nan"
      ]
    },
    {
      "cell_type": "markdown",
      "metadata": {
        "id": "YfXfuNfCy_te"
      },
      "source": [
        "#### ВАРИАНТ 1 - замена пропусков на 0"
      ]
    },
    {
      "cell_type": "code",
      "metadata": {
        "id": "UXACSwppy_S_"
      },
      "source": [
        "stud.score.fillna(0,inplace=True)"
      ],
      "execution_count": 869,
      "outputs": []
    },
    {
      "cell_type": "markdown",
      "metadata": {
        "id": "m330QlKXzaNQ"
      },
      "source": [
        "#### ВАРИАНТ 2 - удаление пропусков"
      ]
    },
    {
      "cell_type": "code",
      "metadata": {
        "id": "D5odMbKakO3-"
      },
      "source": [
        "# stud.dropna(subset=['score'],inplace=True)\r\n",
        "# stud = stud.reset_index(drop=True)# сбросим индексы"
      ],
      "execution_count": 870,
      "outputs": []
    },
    {
      "cell_type": "markdown",
      "metadata": {
        "id": "sWCYCRTRAdEb"
      },
      "source": [
        "### age\r\n",
        "возраст - от 15 ло 22 лет"
      ]
    },
    {
      "cell_type": "code",
      "metadata": {
        "colab": {
          "base_uri": "https://localhost:8080/",
          "height": 432
        },
        "id": "Xh4abw-kN9z6",
        "outputId": "d1282314-997d-4642-9ff7-6215796fc6fe"
      },
      "source": [
        "sns.countplot(x = 'age', data = stud)\r\n",
        "stud.failures.describe()"
      ],
      "execution_count": 871,
      "outputs": [
        {
          "output_type": "execute_result",
          "data": {
            "text/plain": [
              "count    395.000000\n",
              "mean       0.318987\n",
              "std        0.726244\n",
              "min        0.000000\n",
              "25%        0.000000\n",
              "50%        0.000000\n",
              "75%        0.000000\n",
              "max        3.000000\n",
              "Name: failures, dtype: float64"
            ]
          },
          "metadata": {
            "tags": []
          },
          "execution_count": 871
        },
        {
          "output_type": "display_data",
          "data": {
            "image/png": "[encoded data removed]",
            "text/plain": [
              "<Figure size 432x288 with 1 Axes>"
            ]
          },
          "metadata": {
            "tags": [],
            "needs_background": "light"
          }
        }
      ]
    },
    {
      "cell_type": "markdown",
      "metadata": {
        "id": "_uBTd1IlXtH8"
      },
      "source": [
        "* все данные находятся в действительных рамках\r\n",
        "* пропусков нет"
      ]
    },
    {
      "cell_type": "markdown",
      "metadata": {
        "id": "nkdKKEXOL3vx"
      },
      "source": [
        "### absences\r\n",
        "Количество пропущенных занятий"
      ]
    },
    {
      "cell_type": "code",
      "metadata": {
        "colab": {
          "base_uri": "https://localhost:8080/",
          "height": 418
        },
        "id": "V_w87QJ0eTVW",
        "outputId": "ef1e0846-51b8-4431-aaf6-d43afaf38943"
      },
      "source": [
        "stud.absences.hist(bins=20);\r\n",
        "stud.absences.describe()"
      ],
      "execution_count": 872,
      "outputs": [
        {
          "output_type": "execute_result",
          "data": {
            "text/plain": [
              "count    383.000000\n",
              "mean       7.279373\n",
              "std       23.465197\n",
              "min        0.000000\n",
              "25%        0.000000\n",
              "50%        4.000000\n",
              "75%        8.000000\n",
              "max      385.000000\n",
              "Name: absences, dtype: float64"
            ]
          },
          "metadata": {
            "tags": []
          },
          "execution_count": 872
        },
        {
          "output_type": "display_data",
          "data": {
            "image/png": "[encoded data removed]",
            "text/plain": [
              "<Figure size 432x288 with 1 Axes>"
            ]
          },
          "metadata": {
            "tags": [],
            "needs_background": "light"
          }
        }
      ]
    },
    {
      "cell_type": "markdown",
      "metadata": {
        "id": "LrMldcYsfB2u"
      },
      "source": [
        "Судя по распределению можно сделать выводы:\r\n",
        "* Есть пропуски\r\n",
        "* Основная часть значений (пропущенных занятий) лежит в диапазоне от 0 до примерно 20\r\n",
        "* Есть выбросы\r\n",
        "\r\n",
        "\r\n",
        "\r\n",
        "\r\n"
      ]
    },
    {
      "cell_type": "markdown",
      "metadata": {
        "id": "UXRv-JrB3ufA"
      },
      "source": [
        "#### Замена пропусков\r\n",
        "\r\n",
        "Заменим на медиану"
      ]
    },
    {
      "cell_type": "code",
      "metadata": {
        "id": "l6k3Mr4g4Cej"
      },
      "source": [
        "stud.absences.fillna(stud.absences.median(),inplace=True)"
      ],
      "execution_count": 873,
      "outputs": []
    },
    {
      "cell_type": "markdown",
      "metadata": {
        "id": "G-phvKkqwQWt"
      },
      "source": [
        "Оценим выбросы (функция в предобработке)"
      ]
    },
    {
      "cell_type": "code",
      "metadata": {
        "colab": {
          "base_uri": "https://localhost:8080/",
          "height": 282
        },
        "id": "_A7pPR87wIqO",
        "outputId": "512560b5-886a-46ee-d5c6-43b2c4f4f459"
      },
      "source": [
        "interquartile_range(stud.absences)"
      ],
      "execution_count": 874,
      "outputs": [
        {
          "output_type": "stream",
          "text": [
            "25-й перцентиль: 0.0, 75-й перцентиль: 8.0, IQR: 8.0,  Границы выбросов: [-12.0, 20.0].\n"
          ],
          "name": "stdout"
        },
        {
          "output_type": "display_data",
          "data": {
            "image/png": "[encoded data removed]",
            "text/plain": [
              "<Figure size 432x288 with 1 Axes>"
            ]
          },
          "metadata": {
            "tags": [],
            "needs_background": "light"
          }
        }
      ]
    },
    {
      "cell_type": "markdown",
      "metadata": {
        "id": "6w9_GVkcGVH7"
      },
      "source": [
        "Действительно, значения > 20 попадают за границу выбросов. Но есть 2 значения, которые очень значительно отличаются от остальных - более 200 пропущенных занятий. Возможно это ошибка в сборе данных? В таком случае интересно будет посмотреть на итоговые оценки учеников с таким большим количеством пропущенных занятий.\r\n",
        "Посмотрим на итоговый бал 10 учеников с самым большим числом пропущенных занятий:"
      ]
    },
    {
      "cell_type": "code",
      "metadata": {
        "colab": {
          "base_uri": "https://localhost:8080/",
          "height": 359
        },
        "id": "C6RkZ7wpuIbV",
        "outputId": "cb138a80-5728-4ce9-d668-f9e552545c80"
      },
      "source": [
        "stud[['absences','score']].sort_values('absences', ascending=False).head(10)"
      ],
      "execution_count": 875,
      "outputs": [
        {
          "output_type": "execute_result",
          "data": {
            "text/html": [
              "<div>\n",
              "<style scoped>\n",
              "    .dataframe tbody tr th:only-of-type {\n",
              "        vertical-align: middle;\n",
              "    }\n",
              "\n",
              "    .dataframe tbody tr th {\n",
              "        vertical-align: top;\n",
              "    }\n",
              "\n",
              "    .dataframe thead th {\n",
              "        text-align: right;\n",
              "    }\n",
              "</style>\n",
              "<table border=\"1\" class=\"dataframe\">\n",
              "  <thead>\n",
              "    <tr style=\"text-align: right;\">\n",
              "      <th></th>\n",
              "      <th>absences</th>\n",
              "      <th>score</th>\n",
              "    </tr>\n",
              "  </thead>\n",
              "  <tbody>\n",
              "    <tr>\n",
              "      <th>222</th>\n",
              "      <td>385.0</td>\n",
              "      <td>85.0</td>\n",
              "    </tr>\n",
              "    <tr>\n",
              "      <th>390</th>\n",
              "      <td>212.0</td>\n",
              "      <td>45.0</td>\n",
              "    </tr>\n",
              "    <tr>\n",
              "      <th>276</th>\n",
              "      <td>75.0</td>\n",
              "      <td>45.0</td>\n",
              "    </tr>\n",
              "    <tr>\n",
              "      <th>183</th>\n",
              "      <td>56.0</td>\n",
              "      <td>40.0</td>\n",
              "    </tr>\n",
              "    <tr>\n",
              "      <th>74</th>\n",
              "      <td>54.0</td>\n",
              "      <td>55.0</td>\n",
              "    </tr>\n",
              "    <tr>\n",
              "      <th>315</th>\n",
              "      <td>40.0</td>\n",
              "      <td>55.0</td>\n",
              "    </tr>\n",
              "    <tr>\n",
              "      <th>307</th>\n",
              "      <td>38.0</td>\n",
              "      <td>40.0</td>\n",
              "    </tr>\n",
              "    <tr>\n",
              "      <th>280</th>\n",
              "      <td>30.0</td>\n",
              "      <td>40.0</td>\n",
              "    </tr>\n",
              "    <tr>\n",
              "      <th>205</th>\n",
              "      <td>28.0</td>\n",
              "      <td>45.0</td>\n",
              "    </tr>\n",
              "    <tr>\n",
              "      <th>103</th>\n",
              "      <td>26.0</td>\n",
              "      <td>30.0</td>\n",
              "    </tr>\n",
              "  </tbody>\n",
              "</table>\n",
              "</div>"
            ],
            "text/plain": [
              "     absences  score\n",
              "222     385.0   85.0\n",
              "390     212.0   45.0\n",
              "276      75.0   45.0\n",
              "183      56.0   40.0\n",
              "74       54.0   55.0\n",
              "315      40.0   55.0\n",
              "307      38.0   40.0\n",
              "280      30.0   40.0\n",
              "205      28.0   45.0\n",
              "103      26.0   30.0"
            ]
          },
          "metadata": {
            "tags": []
          },
          "execution_count": 875
        }
      ]
    },
    {
      "cell_type": "markdown",
      "metadata": {
        "id": "Q1WQHhJQI42K"
      },
      "source": [
        "Оказывается, что ученик с самым большим число пропущенных занятий входит в 20-ку лучших по итоговому баллу (строка с индексом 221)."
      ]
    },
    {
      "cell_type": "code",
      "metadata": {
        "colab": {
          "base_uri": "https://localhost:8080/",
          "height": 669
        },
        "id": "AUH92G4fILpD",
        "outputId": "30701e57-133b-4342-afc1-36f60e801a4c"
      },
      "source": [
        "stud[['absences','score']].sort_values('score', ascending=False).head(20)"
      ],
      "execution_count": 876,
      "outputs": [
        {
          "output_type": "execute_result",
          "data": {
            "text/html": [
              "<div>\n",
              "<style scoped>\n",
              "    .dataframe tbody tr th:only-of-type {\n",
              "        vertical-align: middle;\n",
              "    }\n",
              "\n",
              "    .dataframe tbody tr th {\n",
              "        vertical-align: top;\n",
              "    }\n",
              "\n",
              "    .dataframe thead th {\n",
              "        text-align: right;\n",
              "    }\n",
              "</style>\n",
              "<table border=\"1\" class=\"dataframe\">\n",
              "  <thead>\n",
              "    <tr style=\"text-align: right;\">\n",
              "      <th></th>\n",
              "      <th>absences</th>\n",
              "      <th>score</th>\n",
              "    </tr>\n",
              "  </thead>\n",
              "  <tbody>\n",
              "    <tr>\n",
              "      <th>47</th>\n",
              "      <td>4.0</td>\n",
              "      <td>100.0</td>\n",
              "    </tr>\n",
              "    <tr>\n",
              "      <th>113</th>\n",
              "      <td>10.0</td>\n",
              "      <td>95.0</td>\n",
              "    </tr>\n",
              "    <tr>\n",
              "      <th>286</th>\n",
              "      <td>5.0</td>\n",
              "      <td>95.0</td>\n",
              "    </tr>\n",
              "    <tr>\n",
              "      <th>110</th>\n",
              "      <td>6.0</td>\n",
              "      <td>95.0</td>\n",
              "    </tr>\n",
              "    <tr>\n",
              "      <th>8</th>\n",
              "      <td>0.0</td>\n",
              "      <td>95.0</td>\n",
              "    </tr>\n",
              "    <tr>\n",
              "      <th>374</th>\n",
              "      <td>0.0</td>\n",
              "      <td>95.0</td>\n",
              "    </tr>\n",
              "    <tr>\n",
              "      <th>129</th>\n",
              "      <td>4.0</td>\n",
              "      <td>90.0</td>\n",
              "    </tr>\n",
              "    <tr>\n",
              "      <th>198</th>\n",
              "      <td>24.0</td>\n",
              "      <td>90.0</td>\n",
              "    </tr>\n",
              "    <tr>\n",
              "      <th>36</th>\n",
              "      <td>2.0</td>\n",
              "      <td>90.0</td>\n",
              "    </tr>\n",
              "    <tr>\n",
              "      <th>260</th>\n",
              "      <td>21.0</td>\n",
              "      <td>90.0</td>\n",
              "    </tr>\n",
              "    <tr>\n",
              "      <th>42</th>\n",
              "      <td>2.0</td>\n",
              "      <td>90.0</td>\n",
              "    </tr>\n",
              "    <tr>\n",
              "      <th>245</th>\n",
              "      <td>6.0</td>\n",
              "      <td>90.0</td>\n",
              "    </tr>\n",
              "    <tr>\n",
              "      <th>306</th>\n",
              "      <td>0.0</td>\n",
              "      <td>90.0</td>\n",
              "    </tr>\n",
              "    <tr>\n",
              "      <th>303</th>\n",
              "      <td>0.0</td>\n",
              "      <td>90.0</td>\n",
              "    </tr>\n",
              "    <tr>\n",
              "      <th>107</th>\n",
              "      <td>2.0</td>\n",
              "      <td>90.0</td>\n",
              "    </tr>\n",
              "    <tr>\n",
              "      <th>104</th>\n",
              "      <td>0.0</td>\n",
              "      <td>90.0</td>\n",
              "    </tr>\n",
              "    <tr>\n",
              "      <th>293</th>\n",
              "      <td>6.0</td>\n",
              "      <td>90.0</td>\n",
              "    </tr>\n",
              "    <tr>\n",
              "      <th>91</th>\n",
              "      <td>4.0</td>\n",
              "      <td>90.0</td>\n",
              "    </tr>\n",
              "    <tr>\n",
              "      <th>338</th>\n",
              "      <td>7.0</td>\n",
              "      <td>85.0</td>\n",
              "    </tr>\n",
              "    <tr>\n",
              "      <th>101</th>\n",
              "      <td>4.0</td>\n",
              "      <td>85.0</td>\n",
              "    </tr>\n",
              "  </tbody>\n",
              "</table>\n",
              "</div>"
            ],
            "text/plain": [
              "     absences  score\n",
              "47        4.0  100.0\n",
              "113      10.0   95.0\n",
              "286       5.0   95.0\n",
              "110       6.0   95.0\n",
              "8         0.0   95.0\n",
              "374       0.0   95.0\n",
              "129       4.0   90.0\n",
              "198      24.0   90.0\n",
              "36        2.0   90.0\n",
              "260      21.0   90.0\n",
              "42        2.0   90.0\n",
              "245       6.0   90.0\n",
              "306       0.0   90.0\n",
              "303       0.0   90.0\n",
              "107       2.0   90.0\n",
              "104       0.0   90.0\n",
              "293       6.0   90.0\n",
              "91        4.0   90.0\n",
              "338       7.0   85.0\n",
              "101       4.0   85.0"
            ]
          },
          "metadata": {
            "tags": []
          },
          "execution_count": 876
        }
      ]
    },
    {
      "cell_type": "markdown",
      "metadata": {
        "id": "OfEugiWKSUCQ"
      },
      "source": [
        "выбросы"
      ]
    },
    {
      "cell_type": "code",
      "metadata": {
        "colab": {
          "base_uri": "https://localhost:8080/",
          "height": 265
        },
        "id": "k1J__7WMSSqE",
        "outputId": "84c5c6a8-8cb5-412e-b1ce-a4788874bb05"
      },
      "source": [
        "get_boxpot(stud,['absences'])"
      ],
      "execution_count": 877,
      "outputs": [
        {
          "output_type": "display_data",
          "data": {
            "image/png": "[encoded data removed]",
            "text/plain": [
              "<Figure size 432x288 with 1 Axes>"
            ]
          },
          "metadata": {
            "tags": [],
            "needs_background": "light"
          }
        }
      ]
    },
    {
      "cell_type": "markdown",
      "metadata": {
        "id": "gL53UlZY4nCa"
      },
      "source": [
        "#### Замена выбросов"
      ]
    },
    {
      "cell_type": "markdown",
      "metadata": {
        "id": "SkanA744Mo7j"
      },
      "source": [
        "##### ВАРИАНТ 1\r\n",
        "\r\n",
        "Нельзя однозначно сказать попадают ли значчения 385 и 212 в число действительных (возможно ученики болели и учились дистанционно и т.д.). Нам не известно и сколько всего было занятий. Но эти числа явно будут существенно влиять на модель.\r\n",
        "Заменим на медиану только 2 этих значения."
      ]
    },
    {
      "cell_type": "code",
      "metadata": {
        "id": "Yid4frYWMDwq"
      },
      "source": [
        "stud['absences'] = np.where((stud['absences'] == 385) | \r\n",
        "                          (stud['absences'] == 212), stud['absences'].median(), stud['absences'])"
      ],
      "execution_count": 878,
      "outputs": []
    },
    {
      "cell_type": "markdown",
      "metadata": {
        "id": "SaEeGZu7R8cK"
      },
      "source": [
        "##### ВАРИАНТ 2\r\n",
        "\r\n",
        "Заменим все выбросы, на медиану.\r\n",
        "Воспользуемся функцией `emission_replacement` (в предобработке)"
      ]
    },
    {
      "cell_type": "code",
      "metadata": {
        "id": "Ykip7D3oMoZC"
      },
      "source": [
        "emission_replacement(stud,'absences',method='median')"
      ],
      "execution_count": 879,
      "outputs": []
    },
    {
      "cell_type": "code",
      "metadata": {
        "colab": {
          "base_uri": "https://localhost:8080/",
          "height": 297
        },
        "id": "6evxTlnw5wyX",
        "outputId": "671ab16f-024b-4612-f14b-b6591268d432"
      },
      "source": [
        "stud[l].describe()"
      ],
      "execution_count": 880,
      "outputs": [
        {
          "output_type": "execute_result",
          "data": {
            "text/html": [
              "<div>\n",
              "<style scoped>\n",
              "    .dataframe tbody tr th:only-of-type {\n",
              "        vertical-align: middle;\n",
              "    }\n",
              "\n",
              "    .dataframe tbody tr th {\n",
              "        vertical-align: top;\n",
              "    }\n",
              "\n",
              "    .dataframe thead th {\n",
              "        text-align: right;\n",
              "    }\n",
              "</style>\n",
              "<table border=\"1\" class=\"dataframe\">\n",
              "  <thead>\n",
              "    <tr style=\"text-align: right;\">\n",
              "      <th></th>\n",
              "      <th>age</th>\n",
              "      <th>absences</th>\n",
              "      <th>score</th>\n",
              "    </tr>\n",
              "  </thead>\n",
              "  <tbody>\n",
              "    <tr>\n",
              "      <th>count</th>\n",
              "      <td>395.000000</td>\n",
              "      <td>395.000000</td>\n",
              "      <td>395.000000</td>\n",
              "    </tr>\n",
              "    <tr>\n",
              "      <th>mean</th>\n",
              "      <td>16.696203</td>\n",
              "      <td>4.559494</td>\n",
              "      <td>51.468354</td>\n",
              "    </tr>\n",
              "    <tr>\n",
              "      <th>std</th>\n",
              "      <td>1.276043</td>\n",
              "      <td>4.781880</td>\n",
              "      <td>23.627199</td>\n",
              "    </tr>\n",
              "    <tr>\n",
              "      <th>min</th>\n",
              "      <td>15.000000</td>\n",
              "      <td>0.000000</td>\n",
              "      <td>0.000000</td>\n",
              "    </tr>\n",
              "    <tr>\n",
              "      <th>25%</th>\n",
              "      <td>16.000000</td>\n",
              "      <td>0.000000</td>\n",
              "      <td>40.000000</td>\n",
              "    </tr>\n",
              "    <tr>\n",
              "      <th>50%</th>\n",
              "      <td>17.000000</td>\n",
              "      <td>4.000000</td>\n",
              "      <td>55.000000</td>\n",
              "    </tr>\n",
              "    <tr>\n",
              "      <th>75%</th>\n",
              "      <td>18.000000</td>\n",
              "      <td>6.000000</td>\n",
              "      <td>70.000000</td>\n",
              "    </tr>\n",
              "    <tr>\n",
              "      <th>max</th>\n",
              "      <td>22.000000</td>\n",
              "      <td>20.000000</td>\n",
              "      <td>100.000000</td>\n",
              "    </tr>\n",
              "  </tbody>\n",
              "</table>\n",
              "</div>"
            ],
            "text/plain": [
              "              age    absences       score\n",
              "count  395.000000  395.000000  395.000000\n",
              "mean    16.696203    4.559494   51.468354\n",
              "std      1.276043    4.781880   23.627199\n",
              "min     15.000000    0.000000    0.000000\n",
              "25%     16.000000    0.000000   40.000000\n",
              "50%     17.000000    4.000000   55.000000\n",
              "75%     18.000000    6.000000   70.000000\n",
              "max     22.000000   20.000000  100.000000"
            ]
          },
          "metadata": {
            "tags": []
          },
          "execution_count": 880
        }
      ]
    },
    {
      "cell_type": "markdown",
      "metadata": {
        "id": "eyg6EUNgDUyC"
      },
      "source": [
        "Теперь данные выглядят лучше.\r\n"
      ]
    },
    {
      "cell_type": "markdown",
      "metadata": {
        "id": "2a7QqhAV1uiO"
      },
      "source": [
        "### Вывод по количественным данным:\r\n",
        "\r\n",
        "1. Необходимо по возможности получить информацию о процедуре оценки (колонка score) - почему нет данных, за что 0, почему такое значительное число 0 среди оценок (возможно это аномалия). Пока поставить под наблюдение группу оценок \"0\". На этом этапе - пропуски устранены (заменены на 0)\r\n",
        "2. В остальных количественных данных - пропуски заменены на медиану, единичные выбросы заменены на ближайшее из действительного диапазона, выбросы в absences заменены на медиану"
      ]
    },
    {
      "cell_type": "markdown",
      "metadata": {
        "id": "3cZKAbElOclS"
      },
      "source": [
        "## Корреляционный анализ\r\n",
        "\r\n",
        "Выясним, какие столбцы коррелируют с итоговой оценкой. Это поможет понять, какие параметры стоит оставить для модели, а какие — исключить. \r\n",
        "\r\n",
        "Корреляции рассмотрим только для числовых столбцов."
      ]
    },
    {
      "cell_type": "code",
      "metadata": {
        "colab": {
          "base_uri": "https://localhost:8080/",
          "height": 846
        },
        "id": "T5_7iEUFPxhh",
        "outputId": "69648108-1652-4699-9b55-6ea2d615273a"
      },
      "source": [
        "correlation = stud.corr() #  матрица корреляций\r\n",
        "plt.figure(figsize=(15, 13))# размер тепловой карты\r\n",
        "sns.heatmap(correlation, annot=True, cmap='coolwarm');"
      ],
      "execution_count": 882,
      "outputs": [
        {
          "output_type": "display_data",
          "data": {
            "image/png": "[encoded data removed]",
            "text/plain": [
              "<Figure size 1080x936 with 2 Axes>"
            ]
          },
          "metadata": {
            "tags": [],
            "needs_background": "light"
          }
        }
      ]
    },
    {
      "cell_type": "markdown",
      "metadata": {
        "id": "UUIo66-xVe0R"
      },
      "source": [
        "Как мы отметили ранее 'studytime_granular' - имееет обратную корреляцию с 'studytime'. От этого столбца можно отказаться."
      ]
    },
    {
      "cell_type": "code",
      "metadata": {
        "id": "OpGWpqt3dEkk"
      },
      "source": [
        "stud.drop('studytime_granular', axis=1, inplace=True)"
      ],
      "execution_count": 883,
      "outputs": []
    },
    {
      "cell_type": "markdown",
      "metadata": {
        "id": "MV-3BhO06dxP"
      },
      "source": [
        "### ВАРИАНТ - создание дополнительных параметров"
      ]
    },
    {
      "cell_type": "markdown",
      "metadata": {
        "id": "hs49SGMsxobB"
      },
      "source": [
        "В описании датасета есть ряд колонок, которые можно условно обЪединить:\r\n",
        "\r\n",
        "Дополнительные занятия\r\n",
        "* schoolsup — дополнительная образовательная поддержка (yes или no)\r\n",
        "* famsup — семейная образовательная поддержка (yes или no)\r\n",
        "* paid — дополнительные платные занятия по математике (yes или no)\r\n",
        "* activities — дополнительные внеучебные занятия (yes или no)\r\n",
        "\r\n",
        "Образование родителей\r\n",
        "* Medu — образование матери (0 - нет, 1 - 4 класса, 2 - 5-9 классы, 3 - среднее специальное или 11 классов, 4 - высшее)\r\n",
        "* Fedu — образование отца (0 - нет, 1 - 4 класса, 2 - 5-9 классы, 3 - среднее специальное или 11 классов, 4 - высшее)\r\n",
        "\r\n",
        "Гипотезы:\r\n",
        "1. Дополнительные занятия влияют на итоговый балл\r\n",
        "2. Образование родителей влияет на итоговый балл.\r\n",
        "\r\n",
        "Для проверки гипотез нужно создать 2 дополнительных параметра:\r\n"
      ]
    },
    {
      "cell_type": "markdown",
      "metadata": {
        "id": "w-pQ3k0M_n58"
      },
      "source": [
        "#### доп_занятия"
      ]
    },
    {
      "cell_type": "code",
      "metadata": {
        "id": "JcXEXWk51n6O"
      },
      "source": [
        "# yes и no переведём в цифры и создадим новый количественный признак, просуммировав значения\r\n",
        "l = ['schoolsup','famsup','paid','activities']\r\n",
        "get_boolean(stud,l)\r\n",
        "stud['доп_занятия'] = stud[l].sum(axis=1)\r\n",
        "\r\n",
        "# Удалить источники\r\n",
        "stud.drop(l, axis=1, inplace=True)"
      ],
      "execution_count": 884,
      "outputs": []
    },
    {
      "cell_type": "markdown",
      "metadata": {
        "id": "vLZ6ff8B_vE_"
      },
      "source": [
        "#### образование_родителей"
      ]
    },
    {
      "cell_type": "code",
      "metadata": {
        "id": "XRcBh6HW_1-1"
      },
      "source": [
        "# Суммируем значения, отражающие образование родителей \r\n",
        "stud['образование_родителей'] = stud[['Medu','Fedu']].sum(axis=1)\r\n",
        "\r\n",
        "# Удалить источники\r\n",
        "stud.drop(['Medu','Fedu'], axis=1, inplace=True)"
      ],
      "execution_count": 885,
      "outputs": []
    },
    {
      "cell_type": "code",
      "metadata": {
        "colab": {
          "base_uri": "https://localhost:8080/",
          "height": 932
        },
        "id": "7V70k2GqAFSz",
        "outputId": "71f9c50d-5c74-4e8e-cb57-18a343a99d89"
      },
      "source": [
        "correlation = stud.corr() #  матрица корреляций\r\n",
        "plt.figure(figsize=(16, 14))# размер тепловой карты\r\n",
        "sns.heatmap(correlation, annot=True, cmap='coolwarm');"
      ],
      "execution_count": 886,
      "outputs": [
        {
          "output_type": "display_data",
          "data": {
            "image/png": "[encoded data removed]",
            "text/plain": [
              "<Figure size 1152x1008 with 2 Axes>"
            ]
          },
          "metadata": {
            "tags": [],
            "needs_background": "light"
          }
        }
      ]
    },
    {
      "cell_type": "markdown",
      "metadata": {
        "id": "VIG0OI9yBARc"
      },
      "source": [
        "Очевидно, что создание новых прзнаков было не напрасно:\r\n",
        "* образование_родителей имеет более высокую корреляцию с итоговым баллом и дополнительными занятиями, чем остальные параметры (кроме fileures). И обратную зависимость с failures (количество внеучебных неудач)\r\n",
        "* доп_занятия - обратно коррелируют с age, прямо - со studytime (что закономерно), но довольно слабо связано с итоговым баллом (что несколько неожиданно).\r\n",
        "\r\n",
        "Все остальные признаки можно оставить в датафрейме."
      ]
    },
    {
      "cell_type": "code",
      "metadata": {
        "id": "adX_s8Z7JiB6"
      },
      "source": [
        "# Список нужных параметров\r\n",
        "resume_list = ['age','traveltime','studytime','failures','famrel','freetime','goout','health','absences','score','доп_занятия','образование_родителей']"
      ],
      "execution_count": 818,
      "outputs": []
    },
    {
      "cell_type": "markdown",
      "metadata": {
        "id": "BdoBVjl_YDAY"
      },
      "source": [
        "## Анализ номинативных переменных\r\n",
        "\r\n",
        "Будем анализировать номинативные переменные, выраженные в строках, так как для них провести корреляционный анализ невозможно (если только не приеобразовать их в числовые значения).\r\n",
        "Для получения списка колонок, содержащих строковые переменные, воспользуемся функцией `get_list_object`"
      ]
    },
    {
      "cell_type": "code",
      "metadata": {
        "colab": {
          "base_uri": "https://localhost:8080/"
        },
        "id": "eIZEuvviZH74",
        "outputId": "02bc7aae-e8ee-4c05-f02b-f840e4b6194b"
      },
      "source": [
        "st_list = get_list_object(stud)\r\n",
        "st_list"
      ],
      "execution_count": 819,
      "outputs": [
        {
          "output_type": "execute_result",
          "data": {
            "text/plain": [
              "['school',\n",
              " 'sex',\n",
              " 'address',\n",
              " 'famsize',\n",
              " 'Pstatus',\n",
              " 'Mjob',\n",
              " 'Fjob',\n",
              " 'reason',\n",
              " 'guardian',\n",
              " 'nursery',\n",
              " 'higher',\n",
              " 'internet',\n",
              " 'romantic']"
            ]
          },
          "metadata": {
            "tags": []
          },
          "execution_count": 819
        }
      ]
    },
    {
      "cell_type": "markdown",
      "metadata": {
        "id": "Kpd78HtVEwWD"
      },
      "source": [
        "Уникальных значений в них не более 5, поэтому не будем ограничивать частотность."
      ]
    },
    {
      "cell_type": "code",
      "metadata": {
        "colab": {
          "base_uri": "https://localhost:8080/",
          "height": 1000
        },
        "id": "EH2Dqilome9X",
        "outputId": "877ee6ae-5bd6-4819-bb65-4734237c5710"
      },
      "source": [
        "for col in st_list:\r\n",
        "    get_boxplot(stud,col)"
      ],
      "execution_count": 820,
      "outputs": [
        {
          "output_type": "display_data",
          "data": {
            "image/png": "[encoded data removed]",
            "text/plain": [
              "<Figure size 576x288 with 1 Axes>"
            ]
          },
          "metadata": {
            "tags": [],
            "needs_background": "light"
          }
        },
        {
          "output_type": "display_data",
          "data": {
            "image/png": "[encoded data removed]",
            "text/plain": [
              "<Figure size 576x288 with 1 Axes>"
            ]
          },
          "metadata": {
            "tags": [],
            "needs_background": "light"
          }
        },
        {
          "output_type": "display_data",
          "data": {
            "image/png": "[encoded data removed]",
            "text/plain": [
              "<Figure size 576x288 with 1 Axes>"
            ]
          },
          "metadata": {
            "tags": [],
            "needs_background": "light"
          }
        },
        {
          "output_type": "display_data",
          "data": {
            "image/png": "[encoded data removed]",
            "text/plain": [
              "<Figure size 576x288 with 1 Axes>"
            ]
          },
          "metadata": {
            "tags": [],
            "needs_background": "light"
          }
        },
        {
          "output_type": "display_data",
          "data": {
            "image/png": "[encoded data removed]",
            "text/plain": [
              "<Figure size 576x288 with 1 Axes>"
            ]
          },
          "metadata": {
            "tags": [],
            "needs_background": "light"
          }
        },
        {
          "output_type": "display_data",
          "data": {
            "image/png": "[encoded data removed]",
            "text/plain": [
              "<Figure size 576x288 with 1 Axes>"
            ]
          },
          "metadata": {
            "tags": [],
            "needs_background": "light"
          }
        },
        {
          "output_type": "display_data",
          "data": {
            "image/png": "[encoded data removed]",
            "text/plain": [
              "<Figure size 576x288 with 1 Axes>"
            ]
          },
          "metadata": {
            "tags": [],
            "needs_background": "light"
          }
        },
        {
          "output_type": "display_data",
          "data": {
            "image/png": "[encoded data removed]",
            "text/plain": [
              "<Figure size 576x288 with 1 Axes>"
            ]
          },
          "metadata": {
            "tags": [],
            "needs_background": "light"
          }
        },
        {
          "output_type": "display_data",
          "data": {
            "image/png": "[encoded data removed]",
            "text/plain": [
              "<Figure size 576x288 with 1 Axes>"
            ]
          },
          "metadata": {
            "tags": [],
            "needs_background": "light"
          }
        },
        {
          "output_type": "display_data",
          "data": {
            "image/png": "[encoded data removed]",
            "text/plain": [
              "<Figure size 576x288 with 1 Axes>"
            ]
          },
          "metadata": {
            "tags": [],
            "needs_background": "light"
          }
        },
        {
          "output_type": "display_data",
          "data": {
            "image/png": "[encoded data removed]",
            "text/plain": [
              "<Figure size 576x288 with 1 Axes>"
            ]
          },
          "metadata": {
            "tags": [],
            "needs_background": "light"
          }
        },
        {
          "output_type": "display_data",
          "data": {
            "image/png": "[encoded data removed]",
            "text/plain": [
              "<Figure size 576x288 with 1 Axes>"
            ]
          },
          "metadata": {
            "tags": [],
            "needs_background": "light"
          }
        },
        {
          "output_type": "display_data",
          "data": {
            "image/png": "[encoded data removed]",
            "text/plain": [
              "<Figure size 576x288 with 1 Axes>"
            ]
          },
          "metadata": {
            "tags": [],
            "needs_background": "light"
          }
        }
      ]
    },
    {
      "cell_type": "markdown",
      "metadata": {
        "id": "jj1-mYqZHTSD"
      },
      "source": [
        ""
      ]
    },
    {
      "cell_type": "markdown",
      "metadata": {
        "id": "GdncBO1BG6LL"
      },
      "source": [
        "Проверим, есть ли статистическая разница в распределении баллов по номинативным признакам, с помощью теста Стьюдента. Проверим нулевую гипотезу о том, что распределения итоговых баллов по математике по различным параметрам неразличимы:"
      ]
    },
    {
      "cell_type": "code",
      "metadata": {
        "colab": {
          "base_uri": "https://localhost:8080/"
        },
        "id": "lbAQVa53n8SG",
        "outputId": "dc00fdea-cb4b-4777-881e-7e035b7433e7"
      },
      "source": [
        "for col in st_list:\r\n",
        "    get_stat_dif(stud,col)"
      ],
      "execution_count": 821,
      "outputs": [
        {
          "output_type": "stream",
          "text": [
            "Найдены статистически значимые различия для колонки sex\n",
            "Найдены статистически значимые различия для колонки address\n",
            "Найдены статистически значимые различия для колонки Mjob\n",
            "Найдены статистически значимые различия для колонки guardian\n",
            "Найдены статистически значимые различия для колонки higher\n",
            "Найдены статистически значимые различия для колонки romantic\n"
          ],
          "name": "stdout"
        }
      ]
    },
    {
      "cell_type": "markdown",
      "metadata": {
        "id": "CdLxzZmTIcAj"
      },
      "source": [
        "Тест Стьюдента показал, что серьёзно отличаются 6 параметров:\r\n",
        "\r\n",
        "`'sex','address', 'Mjob', 'guardian', 'higher', 'romantic'`\r\n",
        "\r\n",
        "Оставим эти переменные в датасете для дальнейшего построения модели.\r\n",
        "\r\n",
        "Итак, в нашем случае важные переменные, которые, возможно, оказывают влияние на оценку, это:"
      ]
    },
    {
      "cell_type": "code",
      "metadata": {
        "colab": {
          "base_uri": "https://localhost:8080/"
        },
        "id": "sSl6cwm6JXBP",
        "outputId": "93cb8ac6-d9d7-41eb-8eda-3c7fc6ecedeb"
      },
      "source": [
        "l = ['sex','address', 'Mjob', 'guardian', 'higher', 'romantic']\r\n",
        "\r\n",
        "for i in l:\r\n",
        "    resume_list.append(i)\r\n",
        "resume_list"
      ],
      "execution_count": 822,
      "outputs": [
        {
          "output_type": "execute_result",
          "data": {
            "text/plain": [
              "['age',\n",
              " 'traveltime',\n",
              " 'studytime',\n",
              " 'failures',\n",
              " 'famrel',\n",
              " 'freetime',\n",
              " 'goout',\n",
              " 'health',\n",
              " 'absences',\n",
              " 'score',\n",
              " 'доп_занятия',\n",
              " 'образование_родителей',\n",
              " 'sex',\n",
              " 'address',\n",
              " 'Mjob',\n",
              " 'guardian',\n",
              " 'higher',\n",
              " 'romantic']"
            ]
          },
          "metadata": {
            "tags": []
          },
          "execution_count": 822
        }
      ]
    },
    {
      "cell_type": "code",
      "metadata": {
        "colab": {
          "base_uri": "https://localhost:8080/",
          "height": 204
        },
        "id": "KfQsBfx3IWxT",
        "outputId": "eaf1ee9c-31c1-4d80-d052-70f1c1b512f4"
      },
      "source": [
        "stud_for_model = stud.loc[:, resume_list]\r\n",
        "stud_for_model.head()"
      ],
      "execution_count": 823,
      "outputs": [
        {
          "output_type": "execute_result",
          "data": {
            "text/html": [
              "<div>\n",
              "<style scoped>\n",
              "    .dataframe tbody tr th:only-of-type {\n",
              "        vertical-align: middle;\n",
              "    }\n",
              "\n",
              "    .dataframe tbody tr th {\n",
              "        vertical-align: top;\n",
              "    }\n",
              "\n",
              "    .dataframe thead th {\n",
              "        text-align: right;\n",
              "    }\n",
              "</style>\n",
              "<table border=\"1\" class=\"dataframe\">\n",
              "  <thead>\n",
              "    <tr style=\"text-align: right;\">\n",
              "      <th></th>\n",
              "      <th>age</th>\n",
              "      <th>traveltime</th>\n",
              "      <th>studytime</th>\n",
              "      <th>failures</th>\n",
              "      <th>famrel</th>\n",
              "      <th>freetime</th>\n",
              "      <th>goout</th>\n",
              "      <th>health</th>\n",
              "      <th>absences</th>\n",
              "      <th>score</th>\n",
              "      <th>доп_занятия</th>\n",
              "      <th>образование_родителей</th>\n",
              "      <th>sex</th>\n",
              "      <th>address</th>\n",
              "      <th>Mjob</th>\n",
              "      <th>guardian</th>\n",
              "      <th>higher</th>\n",
              "      <th>romantic</th>\n",
              "    </tr>\n",
              "  </thead>\n",
              "  <tbody>\n",
              "    <tr>\n",
              "      <th>0</th>\n",
              "      <td>18</td>\n",
              "      <td>2.0</td>\n",
              "      <td>2.0</td>\n",
              "      <td>0.0</td>\n",
              "      <td>4.0</td>\n",
              "      <td>3.0</td>\n",
              "      <td>4.0</td>\n",
              "      <td>3.0</td>\n",
              "      <td>6.0</td>\n",
              "      <td>30.0</td>\n",
              "      <td>1</td>\n",
              "      <td>8.0</td>\n",
              "      <td>F</td>\n",
              "      <td>U</td>\n",
              "      <td>at_home</td>\n",
              "      <td>mother</td>\n",
              "      <td>yes</td>\n",
              "      <td>no</td>\n",
              "    </tr>\n",
              "    <tr>\n",
              "      <th>1</th>\n",
              "      <td>17</td>\n",
              "      <td>1.0</td>\n",
              "      <td>2.0</td>\n",
              "      <td>0.0</td>\n",
              "      <td>5.0</td>\n",
              "      <td>3.0</td>\n",
              "      <td>3.0</td>\n",
              "      <td>3.0</td>\n",
              "      <td>4.0</td>\n",
              "      <td>30.0</td>\n",
              "      <td>1</td>\n",
              "      <td>2.0</td>\n",
              "      <td>F</td>\n",
              "      <td>U</td>\n",
              "      <td>at_home</td>\n",
              "      <td>father</td>\n",
              "      <td>yes</td>\n",
              "      <td>no</td>\n",
              "    </tr>\n",
              "    <tr>\n",
              "      <th>2</th>\n",
              "      <td>15</td>\n",
              "      <td>1.0</td>\n",
              "      <td>2.0</td>\n",
              "      <td>3.0</td>\n",
              "      <td>4.0</td>\n",
              "      <td>3.0</td>\n",
              "      <td>2.0</td>\n",
              "      <td>3.0</td>\n",
              "      <td>10.0</td>\n",
              "      <td>50.0</td>\n",
              "      <td>1</td>\n",
              "      <td>2.0</td>\n",
              "      <td>F</td>\n",
              "      <td>U</td>\n",
              "      <td>at_home</td>\n",
              "      <td>mother</td>\n",
              "      <td>yes</td>\n",
              "      <td>no</td>\n",
              "    </tr>\n",
              "    <tr>\n",
              "      <th>3</th>\n",
              "      <td>15</td>\n",
              "      <td>1.0</td>\n",
              "      <td>3.0</td>\n",
              "      <td>0.0</td>\n",
              "      <td>3.0</td>\n",
              "      <td>2.0</td>\n",
              "      <td>2.0</td>\n",
              "      <td>5.0</td>\n",
              "      <td>2.0</td>\n",
              "      <td>75.0</td>\n",
              "      <td>3</td>\n",
              "      <td>6.0</td>\n",
              "      <td>F</td>\n",
              "      <td>U</td>\n",
              "      <td>health</td>\n",
              "      <td>mother</td>\n",
              "      <td>yes</td>\n",
              "      <td>yes</td>\n",
              "    </tr>\n",
              "    <tr>\n",
              "      <th>4</th>\n",
              "      <td>16</td>\n",
              "      <td>1.0</td>\n",
              "      <td>2.0</td>\n",
              "      <td>0.0</td>\n",
              "      <td>4.0</td>\n",
              "      <td>3.0</td>\n",
              "      <td>2.0</td>\n",
              "      <td>5.0</td>\n",
              "      <td>4.0</td>\n",
              "      <td>50.0</td>\n",
              "      <td>2</td>\n",
              "      <td>6.0</td>\n",
              "      <td>F</td>\n",
              "      <td>U</td>\n",
              "      <td>other</td>\n",
              "      <td>father</td>\n",
              "      <td>yes</td>\n",
              "      <td>no</td>\n",
              "    </tr>\n",
              "  </tbody>\n",
              "</table>\n",
              "</div>"
            ],
            "text/plain": [
              "   age  traveltime  studytime  failures  famrel  freetime  goout  health  \\\n",
              "0   18         2.0        2.0       0.0     4.0       3.0    4.0     3.0   \n",
              "1   17         1.0        2.0       0.0     5.0       3.0    3.0     3.0   \n",
              "2   15         1.0        2.0       3.0     4.0       3.0    2.0     3.0   \n",
              "3   15         1.0        3.0       0.0     3.0       2.0    2.0     5.0   \n",
              "4   16         1.0        2.0       0.0     4.0       3.0    2.0     5.0   \n",
              "\n",
              "   absences  score  доп_занятия  образование_родителей sex address     Mjob  \\\n",
              "0       6.0   30.0            1                    8.0   F       U  at_home   \n",
              "1       4.0   30.0            1                    2.0   F       U  at_home   \n",
              "2      10.0   50.0            1                    2.0   F       U  at_home   \n",
              "3       2.0   75.0            3                    6.0   F       U   health   \n",
              "4       4.0   50.0            2                    6.0   F       U    other   \n",
              "\n",
              "  guardian higher romantic  \n",
              "0   mother    yes       no  \n",
              "1   father    yes       no  \n",
              "2   mother    yes       no  \n",
              "3   mother    yes      yes  \n",
              "4   father    yes       no  "
            ]
          },
          "metadata": {
            "tags": []
          },
          "execution_count": 823
        }
      ]
    },
    {
      "cell_type": "markdown",
      "metadata": {
        "id": "Ax0Ab92wNnBb"
      },
      "source": [
        "# Выводы\r\n",
        "\r\n",
        "В результате EDA были получены следующие выводы:\r\n",
        "\r\n",
        "* В данных мало пустых значений - не более 11%\r\n",
        "* Значительные выбросы найдены только в столбце с данными о пропущенных занятиях. Данные достаточно чистые.\r\n",
        "* 'studytime_granular' - имееет обратную корреляцию с 'studytime'. Исключили этот параметр.\r\n",
        "* Из 2-х признаков (образование отца и образование матери) был создан новый признак - образование_родителей. Он имеет более высокую корреляцию с итоговым баллом и дополнительными занятиями, чем остальные параметры (кроме fileures). И обратную зависимость с failures (количество внеучебных неудач).\r\n",
        "* Несколько параметров, обозначающих степень дополнительных занятий вне школы, был создан новый признак - доп_занятия. Он обратно коррелируют с age, прямо - со studytime (что закономерно), но довольно слабо связан с итоговым баллом (что несколько неожиданно).\r\n",
        "\r\n",
        "\r\n",
        "Самые важные параметры, которые предлагается использовать в дальнейшем для построения модели:\r\n",
        "\r\n",
        "age, traveltime, studytime, failures, famrel, freetime,\tgoout, health, absences, score,\tдоп_занятия, образование_родителей,\tsex, address, Mjob, guardian, higher, romantic."
      ]
    }
  ]
}